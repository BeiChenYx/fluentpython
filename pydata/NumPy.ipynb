{
 "cells": [
  {
   "cell_type": "markdown",
   "metadata": {},
   "source": [
    "# NumPy 基础\n",
    "\n",
    "NumPy 是高性能科学计算和数据分析的基础包，部分功能如下:\n",
    "\n",
    "* ndarray, 具有矢量算术运算和复杂广播能力的快速且节省空间的多维数组\n",
    "* 用于对整组数据进行快速运算的标准数学函数(无需编写循环)\n",
    "* 线性代数、随机数生成以及博里叶变换功能\n",
    "* 用于集成 C、C++、Frotarn 等语言编写的代码的工具"
   ]
  },
  {
   "cell_type": "markdown",
   "metadata": {},
   "source": [
    "对于大部分数据分析应用而言，主要功能集中在:\n",
    "\n",
    "* 用于数据整理和清理、子集构造和过滤、转换等快速的矢量化数组运算\n",
    "* 常用的数组算法， 如排序、唯一化、集合运算等\n",
    "* 高效的描述统计和数据聚合/摘要运算\n",
    "* 用于异构数据集的合并/连接运算的数据对齐和关系型数据运算\n",
    "* 将条件逻辑表述为数组表达式(而不是带有 if-elif-else分支的循环)\n",
    "* 数据的分组运算(聚合、转换、函数应用等)"
   ]
  },
  {
   "cell_type": "markdown",
   "metadata": {},
   "source": [
    "## 创建 ndarray\n",
    "\n",
    "简单的方式是是用 array 函数， 接收一切序列型的对象(包括其他数组)"
   ]
  },
  {
   "cell_type": "code",
   "execution_count": 1,
   "metadata": {},
   "outputs": [],
   "source": [
    "import numpy as np"
   ]
  },
  {
   "cell_type": "code",
   "execution_count": 2,
   "metadata": {},
   "outputs": [
    {
     "data": {
      "text/plain": [
       "array([6. , 7.5, 8. , 0. , 1. ])"
      ]
     },
     "execution_count": 2,
     "metadata": {},
     "output_type": "execute_result"
    }
   ],
   "source": [
    "data1 = [6, 7.5, 8, 0, 1]\n",
    "arr1 = np.array(data1)\n",
    "arr1"
   ]
  },
  {
   "cell_type": "code",
   "execution_count": 3,
   "metadata": {},
   "outputs": [
    {
     "data": {
      "text/plain": [
       "array([[1, 2, 3, 4],\n",
       "       [5, 6, 7, 8]])"
      ]
     },
     "execution_count": 3,
     "metadata": {},
     "output_type": "execute_result"
    }
   ],
   "source": [
    "# 嵌套序列 (比如由一组等长列表组成的列表)\n",
    "data2 = [\n",
    "    [1, 2, 3, 4],\n",
    "    [5, 6, 7, 8]\n",
    "]\n",
    "arr2 = np.array(data2)\n",
    "arr2"
   ]
  },
  {
   "cell_type": "code",
   "execution_count": 4,
   "metadata": {},
   "outputs": [
    {
     "data": {
      "text/plain": [
       "2"
      ]
     },
     "execution_count": 4,
     "metadata": {},
     "output_type": "execute_result"
    }
   ],
   "source": [
    "arr2.ndim"
   ]
  },
  {
   "cell_type": "code",
   "execution_count": 5,
   "metadata": {},
   "outputs": [
    {
     "data": {
      "text/plain": [
       "(2, 4)"
      ]
     },
     "execution_count": 5,
     "metadata": {},
     "output_type": "execute_result"
    }
   ],
   "source": [
    "arr2.shape"
   ]
  },
  {
   "cell_type": "markdown",
   "metadata": {},
   "source": [
    "### 使用 zeros ones 创建全是 0 或 1 的数组, empty 创建没有任何值得数组"
   ]
  },
  {
   "cell_type": "code",
   "execution_count": 6,
   "metadata": {},
   "outputs": [
    {
     "data": {
      "text/plain": [
       "array([0., 0., 0., 0., 0., 0., 0., 0., 0., 0.])"
      ]
     },
     "execution_count": 6,
     "metadata": {},
     "output_type": "execute_result"
    }
   ],
   "source": [
    "np.zeros(10)"
   ]
  },
  {
   "cell_type": "code",
   "execution_count": 7,
   "metadata": {},
   "outputs": [
    {
     "data": {
      "text/plain": [
       "array([[0., 0., 0., 0., 0., 0.],\n",
       "       [0., 0., 0., 0., 0., 0.],\n",
       "       [0., 0., 0., 0., 0., 0.]])"
      ]
     },
     "execution_count": 7,
     "metadata": {},
     "output_type": "execute_result"
    }
   ],
   "source": [
    "np.zeros((3, 6))"
   ]
  },
  {
   "cell_type": "code",
   "execution_count": 8,
   "metadata": {},
   "outputs": [
    {
     "data": {
      "text/plain": [
       "array([[1., 1., 1., 1., 1., 1.],\n",
       "       [1., 1., 1., 1., 1., 1.],\n",
       "       [1., 1., 1., 1., 1., 1.]])"
      ]
     },
     "execution_count": 8,
     "metadata": {},
     "output_type": "execute_result"
    }
   ],
   "source": [
    "np.ones((3, 6))"
   ]
  },
  {
   "cell_type": "code",
   "execution_count": 9,
   "metadata": {},
   "outputs": [
    {
     "data": {
      "text/plain": [
       "array([[6.95329928e-310, 0.00000000e+000, 0.00000000e+000,\n",
       "        0.00000000e+000, 0.00000000e+000, 0.00000000e+000],\n",
       "       [0.00000000e+000, 0.00000000e+000, 0.00000000e+000,\n",
       "        0.00000000e+000, 0.00000000e+000, 0.00000000e+000]])"
      ]
     },
     "execution_count": 9,
     "metadata": {},
     "output_type": "execute_result"
    }
   ],
   "source": [
    "np.empty((2, 6))"
   ]
  },
  {
   "cell_type": "code",
   "execution_count": 10,
   "metadata": {},
   "outputs": [
    {
     "data": {
      "text/plain": [
       "array([[[6.95329928e-310, 0.00000000e+000],\n",
       "        [0.00000000e+000, 0.00000000e+000],\n",
       "        [0.00000000e+000, 0.00000000e+000]],\n",
       "\n",
       "       [[0.00000000e+000, 0.00000000e+000],\n",
       "        [0.00000000e+000, 0.00000000e+000],\n",
       "        [0.00000000e+000, 0.00000000e+000]]])"
      ]
     },
     "execution_count": 10,
     "metadata": {},
     "output_type": "execute_result"
    }
   ],
   "source": [
    "np.empty((2, 3, 2))"
   ]
  },
  {
   "cell_type": "markdown",
   "metadata": {},
   "source": [
    "### arange 是 Python 内置函数 range 的数组版"
   ]
  },
  {
   "cell_type": "code",
   "execution_count": 11,
   "metadata": {},
   "outputs": [
    {
     "data": {
      "text/plain": [
       "array([ 0,  1,  2,  3,  4,  5,  6,  7,  8,  9, 10, 11, 12, 13, 14])"
      ]
     },
     "execution_count": 11,
     "metadata": {},
     "output_type": "execute_result"
    }
   ],
   "source": [
    "np.arange(15)"
   ]
  },
  {
   "cell_type": "markdown",
   "metadata": {},
   "source": [
    "### 数组创建函数\n",
    "\n",
    "| 函数 | 说明 |\n",
    "| :--: | :--: |\n",
    "| array| 将输入数据 (列表、数组、元组或其他序列类型) 转换为 ndarray, 要么推断出 dtype, 要么显示指定 dtype, 默认直接复制输入数据 |\n",
    "| asarry | 将输入转换为 ndarrary, 如果输入本身就是一个 ndarrary 就不进行复制 |\n",
    "| arange | 类似于内置的 range, 但返回的是一个 ndarrary 而不是列表 |\n",
    "| ones, ones_like | 根据指定的shape 和 dtype 创建一个全 1 的数组， ones_like以另一个数组为参数， 并根据 shape 和 dtype 创建一个全 1 的数组 |\n",
    "| zeros, zeros_like | 类似于 ones 和 ones_like, 只不过产生的是全 0 数组而已 |\n",
    "| empty, empty_like | 创建新数组，只分配内存空间但不填充任何值 |\n",
    "| eye, identity | 创建一个正方的 N * N 单位的矩阵 (对角线为 1， 其余为 0)\n"
   ]
  },
  {
   "cell_type": "markdown",
   "metadata": {},
   "source": [
    "## NumPy 的数据类型\n",
    "\n",
    "| 类型 | 类型代码 | 说明 |\n",
    "| :--: | :------: | :--: |\n",
    "| int8/16/32/64, uint8/16/32/64 | i1/2/4/8, u1/2/4/8 | 有符号和无符号的整型 |\n",
    "| float16/32/64/128 | f2/f4/f8/f16 | 浮点数, C的float和float32兼容， C的double和float64兼容 |\n",
    "|complex64/128/256 | c8/16/32 | 复数 |\n",
    "| bool | ? | 布尔类型 |\n",
    "| object | O | Python 对象类型 |\n",
    "| string_ | S | 固定长度的字符串类型(每个字符1个字节)， 如创建长度10的字符串， S10 |\n",
    "| unicode_ | U | 固定长度的unicode 类型，和字符串一样 |\n",
    "\n",
    "python3 版本的 numpy 应该在字符串和unicode上面统一了。可以通过 ndarray 的 astype 方法显式的转换其 dtype"
   ]
  },
  {
   "cell_type": "code",
   "execution_count": 12,
   "metadata": {},
   "outputs": [
    {
     "data": {
      "text/plain": [
       "dtype('int64')"
      ]
     },
     "execution_count": 12,
     "metadata": {},
     "output_type": "execute_result"
    }
   ],
   "source": [
    "arr = np.array([1, 2, 3, 4, 5])\n",
    "arr.dtype"
   ]
  },
  {
   "cell_type": "code",
   "execution_count": 13,
   "metadata": {},
   "outputs": [
    {
     "data": {
      "text/plain": [
       "dtype('float64')"
      ]
     },
     "execution_count": 13,
     "metadata": {},
     "output_type": "execute_result"
    }
   ],
   "source": [
    "float_arr = arr.astype(np.float64)\n",
    "float_arr.dtype"
   ]
  },
  {
   "cell_type": "code",
   "execution_count": 14,
   "metadata": {},
   "outputs": [
    {
     "data": {
      "text/plain": [
       "array([ 3.7, -1.2, -2.6,  0.5, 12.9, 10.1])"
      ]
     },
     "execution_count": 14,
     "metadata": {},
     "output_type": "execute_result"
    }
   ],
   "source": [
    "# 整数被截断\n",
    "arr = np.array([3.7, -1.2, -2.6, 0.5, 12.9, 10.1])\n",
    "arr"
   ]
  },
  {
   "cell_type": "code",
   "execution_count": 15,
   "metadata": {},
   "outputs": [
    {
     "data": {
      "text/plain": [
       "array([ 3, -1, -2,  0, 12, 10], dtype=int32)"
      ]
     },
     "execution_count": 15,
     "metadata": {},
     "output_type": "execute_result"
    }
   ],
   "source": [
    "arr.astype(np.int32)"
   ]
  },
  {
   "cell_type": "code",
   "execution_count": 16,
   "metadata": {},
   "outputs": [],
   "source": [
    "# 如果某字符串数组表示的全是数字，也可以用 astype 将其转换为数值形式\n",
    "numeric_strings = np.array(['1.25', '-9.6', '42'], dtype=np.string_)"
   ]
  },
  {
   "cell_type": "code",
   "execution_count": 17,
   "metadata": {},
   "outputs": [
    {
     "data": {
      "text/plain": [
       "array([ 1.25, -9.6 , 42.  ])"
      ]
     },
     "execution_count": 17,
     "metadata": {},
     "output_type": "execute_result"
    }
   ],
   "source": [
    "# astype 会创建一个新的数组，不管 dtype是否变化了\n",
    "numeric_strings.astype(float)"
   ]
  },
  {
   "cell_type": "markdown",
   "metadata": {},
   "source": [
    "## 数组和标量之间的运算\n",
    "\n",
    "大小相等数组之间任何算术运算都会将运算应用到元素级:"
   ]
  },
  {
   "cell_type": "code",
   "execution_count": 18,
   "metadata": {},
   "outputs": [
    {
     "data": {
      "text/plain": [
       "array([[1., 2., 3.],\n",
       "       [4., 5., 6.]])"
      ]
     },
     "execution_count": 18,
     "metadata": {},
     "output_type": "execute_result"
    }
   ],
   "source": [
    "arr = np.array([\n",
    "    [1., 2., 3.],\n",
    "    [4., 5., 6.]\n",
    "])\n",
    "arr"
   ]
  },
  {
   "cell_type": "code",
   "execution_count": 19,
   "metadata": {},
   "outputs": [
    {
     "data": {
      "text/plain": [
       "array([[ 1.,  4.,  9.],\n",
       "       [16., 25., 36.]])"
      ]
     },
     "execution_count": 19,
     "metadata": {},
     "output_type": "execute_result"
    }
   ],
   "source": [
    "arr * arr"
   ]
  },
  {
   "cell_type": "code",
   "execution_count": 20,
   "metadata": {},
   "outputs": [
    {
     "data": {
      "text/plain": [
       "array([[1.        , 0.5       , 0.33333333],\n",
       "       [0.25      , 0.2       , 0.16666667]])"
      ]
     },
     "execution_count": 20,
     "metadata": {},
     "output_type": "execute_result"
    }
   ],
   "source": [
    "1 / arr"
   ]
  },
  {
   "cell_type": "markdown",
   "metadata": {},
   "source": [
    "## 基本的索引和切片"
   ]
  },
  {
   "cell_type": "code",
   "execution_count": 21,
   "metadata": {},
   "outputs": [
    {
     "data": {
      "text/plain": [
       "array([0, 1, 2, 3, 4, 5, 6, 7, 8, 9])"
      ]
     },
     "execution_count": 21,
     "metadata": {},
     "output_type": "execute_result"
    }
   ],
   "source": [
    "# 一维数组很简单，类似 Python 列表的功能\n",
    "arr = np.arange(10)\n",
    "arr"
   ]
  },
  {
   "cell_type": "code",
   "execution_count": 22,
   "metadata": {},
   "outputs": [
    {
     "data": {
      "text/plain": [
       "5"
      ]
     },
     "execution_count": 22,
     "metadata": {},
     "output_type": "execute_result"
    }
   ],
   "source": [
    "arr[5]"
   ]
  },
  {
   "cell_type": "code",
   "execution_count": 23,
   "metadata": {},
   "outputs": [
    {
     "data": {
      "text/plain": [
       "array([5, 6, 7])"
      ]
     },
     "execution_count": 23,
     "metadata": {},
     "output_type": "execute_result"
    }
   ],
   "source": [
    "arr[5:8]"
   ]
  },
  {
   "cell_type": "code",
   "execution_count": 24,
   "metadata": {},
   "outputs": [
    {
     "data": {
      "text/plain": [
       "array([ 0,  1,  2,  3,  4, 12, 12, 12,  8,  9])"
      ]
     },
     "execution_count": 24,
     "metadata": {},
     "output_type": "execute_result"
    }
   ],
   "source": [
    "# 当将一个标量赋值给一个切片时，该值会自动传播到整个选区。\n",
    "arr[5:8] = 12\n",
    "arr"
   ]
  },
  {
   "cell_type": "markdown",
   "metadata": {},
   "source": [
    "数组的切片时原始数组的试图，不会被复制"
   ]
  },
  {
   "cell_type": "code",
   "execution_count": 25,
   "metadata": {},
   "outputs": [],
   "source": [
    "arr_slice = arr[5:8]"
   ]
  },
  {
   "cell_type": "code",
   "execution_count": 26,
   "metadata": {},
   "outputs": [
    {
     "data": {
      "text/plain": [
       "array([    0,     1,     2,     3,     4,    12, 12345,    12,     8,\n",
       "           9])"
      ]
     },
     "execution_count": 26,
     "metadata": {},
     "output_type": "execute_result"
    }
   ],
   "source": [
    "arr_slice[1] = 12345\n",
    "arr"
   ]
  },
  {
   "cell_type": "code",
   "execution_count": 27,
   "metadata": {},
   "outputs": [
    {
     "data": {
      "text/plain": [
       "array([ 0,  1,  2,  3,  4, 64, 64, 64,  8,  9])"
      ]
     },
     "execution_count": 27,
     "metadata": {},
     "output_type": "execute_result"
    }
   ],
   "source": [
    "arr_slice[:] = 64\n",
    "arr"
   ]
  },
  {
   "cell_type": "code",
   "execution_count": 28,
   "metadata": {},
   "outputs": [
    {
     "data": {
      "text/plain": [
       "array([64, 64, 64])"
      ]
     },
     "execution_count": 28,
     "metadata": {},
     "output_type": "execute_result"
    }
   ],
   "source": [
    "# 如果需要显式的复制需要使用 copy() 方法\n",
    "arr_copy = arr[5:8].copy()\n",
    "arr_copy"
   ]
  },
  {
   "cell_type": "markdown",
   "metadata": {},
   "source": [
    "对于高维度数组，各索引位置上的元素不再是标量而是一维数组:"
   ]
  },
  {
   "cell_type": "code",
   "execution_count": 29,
   "metadata": {},
   "outputs": [
    {
     "data": {
      "text/plain": [
       "array([7, 8, 9])"
      ]
     },
     "execution_count": 29,
     "metadata": {},
     "output_type": "execute_result"
    }
   ],
   "source": [
    "arr2d = np.array([\n",
    "    [1, 2, 3],\n",
    "    [4, 5, 6],\n",
    "    [7, 8, 9]\n",
    "])\n",
    "arr2d[2]"
   ]
  },
  {
   "cell_type": "markdown",
   "metadata": {},
   "source": [
    "可以使用 逗号隔开索引列表选取单个元素，也可以用两个索引符号"
   ]
  },
  {
   "cell_type": "code",
   "execution_count": 30,
   "metadata": {},
   "outputs": [
    {
     "data": {
      "text/plain": [
       "3"
      ]
     },
     "execution_count": 30,
     "metadata": {},
     "output_type": "execute_result"
    }
   ],
   "source": [
    "arr2d[0][2]"
   ]
  },
  {
   "cell_type": "code",
   "execution_count": 31,
   "metadata": {},
   "outputs": [
    {
     "data": {
      "text/plain": [
       "3"
      ]
     },
     "execution_count": 31,
     "metadata": {},
     "output_type": "execute_result"
    }
   ],
   "source": [
    "arr2d[0, 2]"
   ]
  },
  {
   "cell_type": "markdown",
   "metadata": {},
   "source": [
    "在多维数组中，如果省略了后面的索引，则返回对象会是一个低纬度低一点的 ndarray"
   ]
  },
  {
   "cell_type": "code",
   "execution_count": 32,
   "metadata": {},
   "outputs": [
    {
     "data": {
      "text/plain": [
       "array([[[ 1,  2,  3],\n",
       "        [ 4,  5,  6]],\n",
       "\n",
       "       [[ 7,  8,  9],\n",
       "        [10, 11, 12]]])"
      ]
     },
     "execution_count": 32,
     "metadata": {},
     "output_type": "execute_result"
    }
   ],
   "source": [
    "arr3d = np.arange(1,13).reshape(2, 2, 3)\n",
    "arr3d"
   ]
  },
  {
   "cell_type": "code",
   "execution_count": 33,
   "metadata": {},
   "outputs": [
    {
     "data": {
      "text/plain": [
       "array([[1, 2, 3],\n",
       "       [4, 5, 6]])"
      ]
     },
     "execution_count": 33,
     "metadata": {},
     "output_type": "execute_result"
    }
   ],
   "source": [
    "arr3d[0]"
   ]
  },
  {
   "cell_type": "code",
   "execution_count": 34,
   "metadata": {},
   "outputs": [
    {
     "data": {
      "text/plain": [
       "array([[[42, 42, 42],\n",
       "        [42, 42, 42]],\n",
       "\n",
       "       [[ 7,  8,  9],\n",
       "        [10, 11, 12]]])"
      ]
     },
     "execution_count": 34,
     "metadata": {},
     "output_type": "execute_result"
    }
   ],
   "source": [
    "old_values = arr3d[0].copy()\n",
    "arr3d[0] = 42\n",
    "arr3d"
   ]
  },
  {
   "cell_type": "code",
   "execution_count": 35,
   "metadata": {},
   "outputs": [
    {
     "data": {
      "text/plain": [
       "array([[[ 1,  2,  3],\n",
       "        [ 4,  5,  6]],\n",
       "\n",
       "       [[ 7,  8,  9],\n",
       "        [10, 11, 12]]])"
      ]
     },
     "execution_count": 35,
     "metadata": {},
     "output_type": "execute_result"
    }
   ],
   "source": [
    "# 标量值和数组都可以被赋值给 arr3d[0]\n",
    "arr3d[0] = old_values\n",
    "arr3d"
   ]
  },
  {
   "cell_type": "code",
   "execution_count": 36,
   "metadata": {},
   "outputs": [
    {
     "data": {
      "text/plain": [
       "array([7, 8, 9])"
      ]
     },
     "execution_count": 36,
     "metadata": {},
     "output_type": "execute_result"
    }
   ],
   "source": [
    "# 以此类推\n",
    "arr3d[1, 0]"
   ]
  },
  {
   "cell_type": "markdown",
   "metadata": {},
   "source": [
    "切片索引， 可以在一个或多个轴上进行切片，也可以跟整数索引混合使用"
   ]
  },
  {
   "cell_type": "code",
   "execution_count": 37,
   "metadata": {},
   "outputs": [
    {
     "data": {
      "text/plain": [
       "array([[1, 2, 3],\n",
       "       [4, 5, 6],\n",
       "       [7, 8, 9]])"
      ]
     },
     "execution_count": 37,
     "metadata": {},
     "output_type": "execute_result"
    }
   ],
   "source": [
    "arr2d"
   ]
  },
  {
   "cell_type": "code",
   "execution_count": 38,
   "metadata": {},
   "outputs": [
    {
     "data": {
      "text/plain": [
       "array([[1, 2, 3],\n",
       "       [4, 5, 6]])"
      ]
     },
     "execution_count": 38,
     "metadata": {},
     "output_type": "execute_result"
    }
   ],
   "source": [
    "arr2d[: 2]"
   ]
  },
  {
   "cell_type": "code",
   "execution_count": 39,
   "metadata": {},
   "outputs": [
    {
     "data": {
      "text/plain": [
       "array([[2, 3],\n",
       "       [5, 6]])"
      ]
     },
     "execution_count": 39,
     "metadata": {},
     "output_type": "execute_result"
    }
   ],
   "source": [
    "arr2d[: 2, 1:]"
   ]
  },
  {
   "cell_type": "code",
   "execution_count": 40,
   "metadata": {},
   "outputs": [
    {
     "data": {
      "text/plain": [
       "array([4, 5])"
      ]
     },
     "execution_count": 40,
     "metadata": {},
     "output_type": "execute_result"
    }
   ],
   "source": [
    "arr2d[1, : 2]"
   ]
  },
  {
   "cell_type": "code",
   "execution_count": 41,
   "metadata": {},
   "outputs": [
    {
     "data": {
      "text/plain": [
       "array([7])"
      ]
     },
     "execution_count": 41,
     "metadata": {},
     "output_type": "execute_result"
    }
   ],
   "source": [
    "arr2d[2, : 1]"
   ]
  },
  {
   "cell_type": "code",
   "execution_count": 42,
   "metadata": {},
   "outputs": [
    {
     "data": {
      "text/plain": [
       "array([[1],\n",
       "       [4],\n",
       "       [7]])"
      ]
     },
     "execution_count": 42,
     "metadata": {},
     "output_type": "execute_result"
    }
   ],
   "source": [
    "arr2d[:, : 1]"
   ]
  },
  {
   "cell_type": "markdown",
   "metadata": {},
   "source": [
    "### 布尔型索引"
   ]
  },
  {
   "cell_type": "code",
   "execution_count": 43,
   "metadata": {},
   "outputs": [
    {
     "data": {
      "text/plain": [
       "array(['Bob', 'Joe', 'Will', 'Bob', 'Will', 'Joe', 'Joe'], dtype='<U4')"
      ]
     },
     "execution_count": 43,
     "metadata": {},
     "output_type": "execute_result"
    }
   ],
   "source": [
    "names = np.array(['Bob', 'Joe', 'Will', 'Bob', 'Will', 'Joe', 'Joe'])\n",
    "data = np.random.randn(7, 4)\n",
    "names"
   ]
  },
  {
   "cell_type": "code",
   "execution_count": 44,
   "metadata": {},
   "outputs": [
    {
     "data": {
      "text/plain": [
       "array([[ 0.04746823, -1.10828719,  0.75597796,  0.75728712],\n",
       "       [ 0.90948108,  0.70682017, -1.25841386,  0.51899692],\n",
       "       [-1.01528259,  2.62054949,  0.59228677,  0.57204784],\n",
       "       [ 1.52861527, -1.09941515, -1.36413522, -0.27122275],\n",
       "       [-1.52465793,  0.15671397,  0.97939569,  0.26682989],\n",
       "       [ 1.28448629,  0.67626029, -0.19708585,  1.01609895],\n",
       "       [-1.25456154, -1.9712079 , -0.31145019, -1.30758244]])"
      ]
     },
     "execution_count": 44,
     "metadata": {},
     "output_type": "execute_result"
    }
   ],
   "source": [
    "data"
   ]
  },
  {
   "cell_type": "markdown",
   "metadata": {},
   "source": [
    "假设每个名字都对应 data 数组中的一行，而我们想要选出对应于名字 'Bob' 的所有行。跟算术运算一样，数组的比较运算也是矢量化的"
   ]
  },
  {
   "cell_type": "code",
   "execution_count": 45,
   "metadata": {},
   "outputs": [
    {
     "data": {
      "text/plain": [
       "array([ True, False, False,  True, False, False, False])"
      ]
     },
     "execution_count": 45,
     "metadata": {},
     "output_type": "execute_result"
    }
   ],
   "source": [
    "names == 'Bob'"
   ]
  },
  {
   "cell_type": "markdown",
   "metadata": {},
   "source": [
    "这个布尔型数组可以用于数组的索引"
   ]
  },
  {
   "cell_type": "code",
   "execution_count": 46,
   "metadata": {},
   "outputs": [
    {
     "data": {
      "text/plain": [
       "array([[ 0.04746823, -1.10828719,  0.75597796,  0.75728712],\n",
       "       [ 1.52861527, -1.09941515, -1.36413522, -0.27122275]])"
      ]
     },
     "execution_count": 46,
     "metadata": {},
     "output_type": "execute_result"
    }
   ],
   "source": [
    "data[names == 'Bob']"
   ]
  },
  {
   "cell_type": "markdown",
   "metadata": {},
   "source": [
    "布尔型数组的长度必须跟被索引的轴长度一致，此外，还可以将布尔型数组跟切片、整数混合使用"
   ]
  },
  {
   "cell_type": "code",
   "execution_count": 47,
   "metadata": {},
   "outputs": [
    {
     "data": {
      "text/plain": [
       "array([[ 0.75597796,  0.75728712],\n",
       "       [-1.36413522, -0.27122275]])"
      ]
     },
     "execution_count": 47,
     "metadata": {},
     "output_type": "execute_result"
    }
   ],
   "source": [
    "data[names == 'Bob', 2:]"
   ]
  },
  {
   "cell_type": "code",
   "execution_count": 48,
   "metadata": {},
   "outputs": [
    {
     "data": {
      "text/plain": [
       "array([ 0.75728712, -0.27122275])"
      ]
     },
     "execution_count": 48,
     "metadata": {},
     "output_type": "execute_result"
    }
   ],
   "source": [
    "data[names == 'Bob', 3]"
   ]
  },
  {
   "cell_type": "code",
   "execution_count": 49,
   "metadata": {},
   "outputs": [
    {
     "data": {
      "text/plain": [
       "array([[ 0.90948108,  0.70682017, -1.25841386,  0.51899692],\n",
       "       [-1.01528259,  2.62054949,  0.59228677,  0.57204784],\n",
       "       [-1.52465793,  0.15671397,  0.97939569,  0.26682989],\n",
       "       [ 1.28448629,  0.67626029, -0.19708585,  1.01609895],\n",
       "       [-1.25456154, -1.9712079 , -0.31145019, -1.30758244]])"
      ]
     },
     "execution_count": 49,
     "metadata": {},
     "output_type": "execute_result"
    }
   ],
   "source": [
    "data[names != 'Bob']"
   ]
  },
  {
   "cell_type": "markdown",
   "metadata": {},
   "source": [
    "选取这个三个名字中的两个组合需要应用多个布尔条件，使用 & | 操作"
   ]
  },
  {
   "cell_type": "code",
   "execution_count": 50,
   "metadata": {},
   "outputs": [
    {
     "data": {
      "text/plain": [
       "array([ True, False,  True,  True,  True, False, False])"
      ]
     },
     "execution_count": 50,
     "metadata": {},
     "output_type": "execute_result"
    }
   ],
   "source": [
    "mask = (names == 'Bob') | (names == 'Will')\n",
    "mask"
   ]
  },
  {
   "cell_type": "code",
   "execution_count": 51,
   "metadata": {},
   "outputs": [
    {
     "data": {
      "text/plain": [
       "array([[ 0.04746823, -1.10828719,  0.75597796,  0.75728712],\n",
       "       [-1.01528259,  2.62054949,  0.59228677,  0.57204784],\n",
       "       [ 1.52861527, -1.09941515, -1.36413522, -0.27122275],\n",
       "       [-1.52465793,  0.15671397,  0.97939569,  0.26682989]])"
      ]
     },
     "execution_count": 51,
     "metadata": {},
     "output_type": "execute_result"
    }
   ],
   "source": [
    "data[mask]"
   ]
  },
  {
   "cell_type": "markdown",
   "metadata": {},
   "source": [
    "Tip: 通过布尔型索引选取数组中的数据，将总是创建数据的副本，即使返回一模一样的数组也是如此"
   ]
  },
  {
   "cell_type": "code",
   "execution_count": 52,
   "metadata": {},
   "outputs": [],
   "source": [
    "data[data < 0] = 0"
   ]
  },
  {
   "cell_type": "code",
   "execution_count": 53,
   "metadata": {},
   "outputs": [
    {
     "data": {
      "text/plain": [
       "array([[0.04746823, 0.        , 0.75597796, 0.75728712],\n",
       "       [0.90948108, 0.70682017, 0.        , 0.51899692],\n",
       "       [0.        , 2.62054949, 0.59228677, 0.57204784],\n",
       "       [1.52861527, 0.        , 0.        , 0.        ],\n",
       "       [0.        , 0.15671397, 0.97939569, 0.26682989],\n",
       "       [1.28448629, 0.67626029, 0.        , 1.01609895],\n",
       "       [0.        , 0.        , 0.        , 0.        ]])"
      ]
     },
     "execution_count": 53,
     "metadata": {},
     "output_type": "execute_result"
    }
   ],
   "source": [
    "data"
   ]
  },
  {
   "cell_type": "code",
   "execution_count": 54,
   "metadata": {},
   "outputs": [
    {
     "data": {
      "text/plain": [
       "array([[7.        , 7.        , 7.        , 7.        ],\n",
       "       [0.90948108, 0.70682017, 0.        , 0.51899692],\n",
       "       [7.        , 7.        , 7.        , 7.        ],\n",
       "       [7.        , 7.        , 7.        , 7.        ],\n",
       "       [7.        , 7.        , 7.        , 7.        ],\n",
       "       [1.28448629, 0.67626029, 0.        , 1.01609895],\n",
       "       [0.        , 0.        , 0.        , 0.        ]])"
      ]
     },
     "execution_count": 54,
     "metadata": {},
     "output_type": "execute_result"
    }
   ],
   "source": [
    "data[names != 'Joe'] = 7\n",
    "data"
   ]
  },
  {
   "cell_type": "markdown",
   "metadata": {},
   "source": [
    "### 花式索引\n",
    "\n",
    "指的是利用整数数组进行索引"
   ]
  },
  {
   "cell_type": "code",
   "execution_count": 55,
   "metadata": {},
   "outputs": [
    {
     "data": {
      "text/plain": [
       "array([[0., 0., 0., 0.],\n",
       "       [1., 1., 1., 1.],\n",
       "       [2., 2., 2., 2.],\n",
       "       [3., 3., 3., 3.],\n",
       "       [4., 4., 4., 4.],\n",
       "       [5., 5., 5., 5.],\n",
       "       [6., 6., 6., 6.],\n",
       "       [7., 7., 7., 7.]])"
      ]
     },
     "execution_count": 55,
     "metadata": {},
     "output_type": "execute_result"
    }
   ],
   "source": [
    "arr = np.empty((8, 4))\n",
    "for i in range(8):\n",
    "    arr[i] = i\n",
    "\n",
    "arr"
   ]
  },
  {
   "cell_type": "markdown",
   "metadata": {},
   "source": [
    "为了以特定顺序选取行子集， 只需传入一个用于指定顺序的整数列或 ndarray 即可:"
   ]
  },
  {
   "cell_type": "code",
   "execution_count": 56,
   "metadata": {},
   "outputs": [
    {
     "data": {
      "text/plain": [
       "array([[4., 4., 4., 4.],\n",
       "       [3., 3., 3., 3.],\n",
       "       [0., 0., 0., 0.],\n",
       "       [6., 6., 6., 6.]])"
      ]
     },
     "execution_count": 56,
     "metadata": {},
     "output_type": "execute_result"
    }
   ],
   "source": [
    "arr[[4, 3, 0, 6]]"
   ]
  },
  {
   "cell_type": "code",
   "execution_count": 57,
   "metadata": {},
   "outputs": [
    {
     "data": {
      "text/plain": [
       "array([[5., 5., 5., 5.],\n",
       "       [3., 3., 3., 3.],\n",
       "       [1., 1., 1., 1.]])"
      ]
     },
     "execution_count": 57,
     "metadata": {},
     "output_type": "execute_result"
    }
   ],
   "source": [
    "# 使用复数，将从行尾开始\n",
    "arr[[-3, -5, -7]]"
   ]
  },
  {
   "cell_type": "markdown",
   "metadata": {},
   "source": [
    "一次传入多个索引数组会有一点特别，它返回的是一个一维数组，其中的元素对应各个索引元组:"
   ]
  },
  {
   "cell_type": "code",
   "execution_count": 58,
   "metadata": {},
   "outputs": [
    {
     "data": {
      "text/plain": [
       "array([[ 0,  1,  2,  3],\n",
       "       [ 4,  5,  6,  7],\n",
       "       [ 8,  9, 10, 11],\n",
       "       [12, 13, 14, 15],\n",
       "       [16, 17, 18, 19],\n",
       "       [20, 21, 22, 23],\n",
       "       [24, 25, 26, 27],\n",
       "       [28, 29, 30, 31]])"
      ]
     },
     "execution_count": 58,
     "metadata": {},
     "output_type": "execute_result"
    }
   ],
   "source": [
    "arr = np.arange(32).reshape( (8, 4))\n",
    "arr"
   ]
  },
  {
   "cell_type": "code",
   "execution_count": 59,
   "metadata": {},
   "outputs": [
    {
     "data": {
      "text/plain": [
       "array([[ 4,  5,  6,  7],\n",
       "       [20, 21, 22, 23],\n",
       "       [28, 29, 30, 31],\n",
       "       [ 8,  9, 10, 11]])"
      ]
     },
     "execution_count": 59,
     "metadata": {},
     "output_type": "execute_result"
    }
   ],
   "source": [
    "arr[ [1, 5, 7, 2]]"
   ]
  },
  {
   "cell_type": "code",
   "execution_count": 60,
   "metadata": {},
   "outputs": [
    {
     "data": {
      "text/plain": [
       "array([ 4, 23, 29, 10])"
      ]
     },
     "execution_count": 60,
     "metadata": {},
     "output_type": "execute_result"
    }
   ],
   "source": [
    "arr[ [1, 5, 7, 2], [0, 3, 1, 2] ]"
   ]
  },
  {
   "cell_type": "markdown",
   "metadata": {},
   "source": [
    "## 数组转置和轴对换\n",
    "\n",
    "转置是重塑的一种特殊形式，它返回的是源数据的试图"
   ]
  },
  {
   "cell_type": "code",
   "execution_count": 61,
   "metadata": {},
   "outputs": [
    {
     "data": {
      "text/plain": [
       "array([[ 0,  1,  2,  3,  4],\n",
       "       [ 5,  6,  7,  8,  9],\n",
       "       [10, 11, 12, 13, 14]])"
      ]
     },
     "execution_count": 61,
     "metadata": {},
     "output_type": "execute_result"
    }
   ],
   "source": [
    "arr = np.arange(15).reshape( (3, 5) )\n",
    "arr"
   ]
  },
  {
   "cell_type": "code",
   "execution_count": 62,
   "metadata": {},
   "outputs": [
    {
     "data": {
      "text/plain": [
       "array([[ 0,  5, 10],\n",
       "       [ 1,  6, 11],\n",
       "       [ 2,  7, 12],\n",
       "       [ 3,  8, 13],\n",
       "       [ 4,  9, 14]])"
      ]
     },
     "execution_count": 62,
     "metadata": {},
     "output_type": "execute_result"
    }
   ],
   "source": [
    "arr.T"
   ]
  },
  {
   "cell_type": "markdown",
   "metadata": {},
   "source": [
    "对于高维数组， transpose需要得到一个由轴编号组成的元组才能对这些轴进转置:"
   ]
  },
  {
   "cell_type": "code",
   "execution_count": 63,
   "metadata": {},
   "outputs": [
    {
     "data": {
      "text/plain": [
       "array([[[ 0,  1,  2,  3],\n",
       "        [ 4,  5,  6,  7]],\n",
       "\n",
       "       [[ 8,  9, 10, 11],\n",
       "        [12, 13, 14, 15]]])"
      ]
     },
     "execution_count": 63,
     "metadata": {},
     "output_type": "execute_result"
    }
   ],
   "source": [
    "arr = np.arange(16).reshape( (2, 2, 4) )\n",
    "arr"
   ]
  },
  {
   "cell_type": "code",
   "execution_count": 64,
   "metadata": {},
   "outputs": [
    {
     "data": {
      "text/plain": [
       "array([[[ 0,  1,  2,  3],\n",
       "        [ 8,  9, 10, 11]],\n",
       "\n",
       "       [[ 4,  5,  6,  7],\n",
       "        [12, 13, 14, 15]]])"
      ]
     },
     "execution_count": 64,
     "metadata": {},
     "output_type": "execute_result"
    }
   ],
   "source": [
    "arr.transpose( (1, 0, 2) )"
   ]
  },
  {
   "cell_type": "markdown",
   "metadata": {},
   "source": [
    "## 通用函数: 快速的元素级数组函数\n",
    "\n",
    "通用函数是一种对 ndarray 中的数据执行元素级运算的函数。可看作简单函数的矢量化包装器"
   ]
  },
  {
   "cell_type": "code",
   "execution_count": 65,
   "metadata": {},
   "outputs": [
    {
     "data": {
      "text/plain": [
       "array([0.        , 1.        , 1.41421356, 1.73205081, 2.        ,\n",
       "       2.23606798, 2.44948974, 2.64575131, 2.82842712, 3.        ])"
      ]
     },
     "execution_count": 65,
     "metadata": {},
     "output_type": "execute_result"
    }
   ],
   "source": [
    "arr = np.arange(10)\n",
    "np.sqrt(arr)"
   ]
  },
  {
   "cell_type": "code",
   "execution_count": 66,
   "metadata": {},
   "outputs": [
    {
     "data": {
      "text/plain": [
       "array([1.00000000e+00, 2.71828183e+00, 7.38905610e+00, 2.00855369e+01,\n",
       "       5.45981500e+01, 1.48413159e+02, 4.03428793e+02, 1.09663316e+03,\n",
       "       2.98095799e+03, 8.10308393e+03])"
      ]
     },
     "execution_count": 66,
     "metadata": {},
     "output_type": "execute_result"
    }
   ],
   "source": [
    "np.exp(arr)"
   ]
  },
  {
   "cell_type": "markdown",
   "metadata": {},
   "source": [
    "以上都是一元通用函数，也有二元通用函数"
   ]
  },
  {
   "cell_type": "code",
   "execution_count": 67,
   "metadata": {},
   "outputs": [
    {
     "data": {
      "text/plain": [
       "array([-0.08367901,  0.21488411, -2.55693382, -0.70616756,  0.95191634,\n",
       "        1.32935266,  0.49222621, -0.76158936])"
      ]
     },
     "execution_count": 67,
     "metadata": {},
     "output_type": "execute_result"
    }
   ],
   "source": [
    "x = np.random.randn(8)\n",
    "y = np.random.randn(8)\n",
    "x"
   ]
  },
  {
   "cell_type": "code",
   "execution_count": 68,
   "metadata": {},
   "outputs": [
    {
     "data": {
      "text/plain": [
       "array([ 0.58426859, -2.77892607,  0.06277106,  1.02120781,  0.11304644,\n",
       "        0.72204869,  0.72360855,  1.00250641])"
      ]
     },
     "execution_count": 68,
     "metadata": {},
     "output_type": "execute_result"
    }
   ],
   "source": [
    "y"
   ]
  },
  {
   "cell_type": "code",
   "execution_count": 69,
   "metadata": {},
   "outputs": [
    {
     "data": {
      "text/plain": [
       "array([0.58426859, 0.21488411, 0.06277106, 1.02120781, 0.95191634,\n",
       "       1.32935266, 0.72360855, 1.00250641])"
      ]
     },
     "execution_count": 69,
     "metadata": {},
     "output_type": "execute_result"
    }
   ],
   "source": [
    "# 元素级最大值\n",
    "np.maximum(x, y)"
   ]
  },
  {
   "cell_type": "markdown",
   "metadata": {},
   "source": [
    "一元通用函数\n",
    "\n",
    "| 函数 | 说明 |\n",
    "| :--: | :--: |\n",
    "| abs, fabs | 计算整数、浮点数或复数的绝对值，对于非复数值，可以用更快的fabs |\n",
    "| sqrt | 计算各元素的平方根，相等于 arr ** 0.5 |\n",
    "| square | 计算各元素的平方， 相当于 arr ** 2 |\n",
    "| exp | 计算各元素的指数 e<sup>x</sup> |\n",
    "| log, log10, log2, log1p | 分别对自然对数， 底数为10的log, 底数为2的log,log(1 + x) |\n",
    "| sign | 计算各元素的正负号: 1 (正数), 0 (零), -1 (负数) |\n",
    "| ceil | 计算各元素的ceiling值， 即大于或等于该值得最小整数 |\n",
    "| floor | 计算各元素的floor值， 即小于等于该值的最大整数 |\n",
    "| rint | 将各元素值四舍五入到最接近的整数，保留 dtype |\n",
    "| modf | 将数组的小数和整数部分以两个独立数组的形式返回 |\n",
    "| isnan | 返回一个表示 \"哪些值是NaN\" 的布尔型数组 |\n",
    "| isfinite, isinf | 分别返回一个表示 \"哪些元素是有穷的\" 或 \"哪些元素是无穷的\" 布尔型数组 |\n",
    "| cos, cosh, sin, sinh, tan, tanh | 普通型和双曲型三角函数 |\n",
    "| arccos,arccosh, arcsin, arcsinh, arctan, arctanh | 反三角函数 |\n",
    "| logical_not | 计算各元素 not x 的真值， 相当于 -arr |"
   ]
  },
  {
   "cell_type": "markdown",
   "metadata": {},
   "source": [
    "二元通用函数\n",
    "\n",
    "| 函数 | 说明 |\n",
    "| :--: | :--: |\n",
    "| add | 将数组中对应的元素相加 |\n",
    "| subtract | 从第一个数组中减去第二个数组中的元素 |\n",
    "| multiply | 数组元素相乘 |\n",
    "| divide,floor_divide | 除法或向下圆整除法(丢弃余数) |\n",
    "| power | 对第一个数组中的元素A, 根据第二个数组中的相应元素B，计算 A<sup>B</sup> |\n",
    "| maximum, fmax | 元素级的最大值计算， fmax 将忽略 NaN |\n",
    "| minimum, fmin | 元素级的最小值计算，fmin 将忽略 NaN |\n",
    "| mod | 元素级的求模计算 |\n",
    "| copysign | 将第二个数组中的值得符合复制给第一个数组中的值 |\n",
    "| greater, greater_equal, less, less_equal, equal, not_equal | 执行元素级的比较运算，最终产生布尔型数组，相当于中缀运算符 > >= < <= == != |\n",
    "| logical_and, logical_or, logical_xor | 执行元素级的真值逻辑运算，相当于 与或非 |"
   ]
  },
  {
   "cell_type": "markdown",
   "metadata": {},
   "source": [
    "## 利用数组进行数据处理\n",
    "\n",
    "NumPy数组可以将许多数据处理任务表述为简洁的数组表达式，用数组表达式代替循环的做法，通常被称为矢量化，一般来说矢量化数组运算要比等价的纯Python 方式快上一两个数量级。"
   ]
  },
  {
   "cell_type": "markdown",
   "metadata": {},
   "source": [
    "### 将条件逻辑表述为数组运算\n",
    "\n",
    "numpy.where 函数是三元表达式 x if condition else y 的矢量化版本"
   ]
  },
  {
   "cell_type": "code",
   "execution_count": 70,
   "metadata": {},
   "outputs": [],
   "source": [
    "xarr = np.array([1.1, 1.2, 1.3, 1.4, 1.5])\n",
    "yarr = np.array([2.1, 2.2, 2.3, 2.4, 2.5])\n",
    "cond = np.array([True, False, True, True, False])"
   ]
  },
  {
   "cell_type": "markdown",
   "metadata": {},
   "source": [
    "假设需要根据 cond 中的值选取 xarr 和 yarr 的值: 当 cond 中的值为 True 时， 选取 xarr 的值，否则从 yarr 中选取。 列表推导式如下:"
   ]
  },
  {
   "cell_type": "code",
   "execution_count": 71,
   "metadata": {},
   "outputs": [
    {
     "data": {
      "text/plain": [
       "[1.1, 2.2, 1.3, 1.4, 2.5]"
      ]
     },
     "execution_count": 71,
     "metadata": {},
     "output_type": "execute_result"
    }
   ],
   "source": [
    "result = [(x if c else y) for x, y, c in zip(xarr, yarr, cond)]\n",
    "result"
   ]
  },
  {
   "cell_type": "markdown",
   "metadata": {},
   "source": [
    "这有几个问题， 第一，它对大数组的处理速度不是很快，第二， 无法用于多维数组。若用 np.where, 则可以非常简洁高效:"
   ]
  },
  {
   "cell_type": "code",
   "execution_count": 72,
   "metadata": {},
   "outputs": [
    {
     "data": {
      "text/plain": [
       "array([1.1, 2.2, 1.3, 1.4, 2.5])"
      ]
     },
     "execution_count": 72,
     "metadata": {},
     "output_type": "execute_result"
    }
   ],
   "source": [
    "result = np.where(cond, xarr, yarr)\n",
    "result"
   ]
  },
  {
   "cell_type": "markdown",
   "metadata": {},
   "source": [
    "np.where 的第二个和第三个参数不必是数组，可以是标量。在数据分析工作中，where 通常用于根据另一个数组产生一个新的数组。假设有一个随机数据组成的矩阵，希望将所有正值替换为 2， 将所有负值替换为 -2 , 若用 np.where, 则非常简单:"
   ]
  },
  {
   "cell_type": "code",
   "execution_count": 75,
   "metadata": {},
   "outputs": [
    {
     "data": {
      "text/plain": [
       "array([[ 0.31503266, -0.9220972 ,  2.20965765, -1.569991  ],\n",
       "       [ 1.20429853, -0.61421313,  0.26426784, -0.12394017],\n",
       "       [-1.51883098,  0.83351013,  0.45839753, -1.09772008],\n",
       "       [-1.1998245 ,  2.80245515,  0.77005878,  0.96200374]])"
      ]
     },
     "execution_count": 75,
     "metadata": {},
     "output_type": "execute_result"
    }
   ],
   "source": [
    "arr = np.random.randn(4, 4)\n",
    "arr"
   ]
  },
  {
   "cell_type": "code",
   "execution_count": 76,
   "metadata": {},
   "outputs": [
    {
     "data": {
      "text/plain": [
       "array([[ 2, -2,  2, -2],\n",
       "       [ 2, -2,  2, -2],\n",
       "       [-2,  2,  2, -2],\n",
       "       [-2,  2,  2,  2]])"
      ]
     },
     "execution_count": 76,
     "metadata": {},
     "output_type": "execute_result"
    }
   ],
   "source": [
    "np.where(arr > 0, 2, -2)"
   ]
  },
  {
   "cell_type": "code",
   "execution_count": 77,
   "metadata": {},
   "outputs": [
    {
     "data": {
      "text/plain": [
       "array([[ 2.        , -0.9220972 ,  2.        , -1.569991  ],\n",
       "       [ 2.        , -0.61421313,  2.        , -0.12394017],\n",
       "       [-1.51883098,  2.        ,  2.        , -1.09772008],\n",
       "       [-1.1998245 ,  2.        ,  2.        ,  2.        ]])"
      ]
     },
     "execution_count": 77,
     "metadata": {},
     "output_type": "execute_result"
    }
   ],
   "source": [
    "# 只将正值设置为 2\n",
    "np.where(arr > 0, 2, arr)"
   ]
  },
  {
   "cell_type": "markdown",
   "metadata": {},
   "source": [
    "传递给 where 的数组大小可以不相等，甚至可以是标量值。"
   ]
  },
  {
   "cell_type": "markdown",
   "metadata": {},
   "source": [
    "### 数学和统计方法\n",
    "\n",
    "可以通过数组上的一组数学函数对整个数组或某个轴向的数据进行统计计算。sum, mean 以及标准差 std 等聚合计算既可以当作数组的实例方法调用，也可以当作顶级 NumPy 函数使用："
   ]
  },
  {
   "cell_type": "code",
   "execution_count": 83,
   "metadata": {},
   "outputs": [
    {
     "data": {
      "text/plain": [
       "array([[ 0.77085785,  0.60842589,  0.69349163,  0.26812301],\n",
       "       [ 1.47259654, -1.13051014,  0.9929083 ,  0.08860534],\n",
       "       [-0.24203782,  0.31051675, -0.04242556,  0.06160788],\n",
       "       [ 0.01820186,  0.75832529, -0.4091595 ,  0.63197109],\n",
       "       [-1.11217994,  0.12937892,  0.71039693, -2.80888523]])"
      ]
     },
     "execution_count": 83,
     "metadata": {},
     "output_type": "execute_result"
    }
   ],
   "source": [
    "arr = np.random.randn(5, 4) # 正态分布的数据\n",
    "arr"
   ]
  },
  {
   "cell_type": "code",
   "execution_count": 79,
   "metadata": {},
   "outputs": [
    {
     "data": {
      "text/plain": [
       "0.0828034111047696"
      ]
     },
     "execution_count": 79,
     "metadata": {},
     "output_type": "execute_result"
    }
   ],
   "source": [
    "arr.mean()"
   ]
  },
  {
   "cell_type": "code",
   "execution_count": 80,
   "metadata": {},
   "outputs": [
    {
     "data": {
      "text/plain": [
       "0.0828034111047696"
      ]
     },
     "execution_count": 80,
     "metadata": {},
     "output_type": "execute_result"
    }
   ],
   "source": [
    "np.mean(arr)"
   ]
  },
  {
   "cell_type": "code",
   "execution_count": 81,
   "metadata": {},
   "outputs": [
    {
     "data": {
      "text/plain": [
       "1.6560682220953922"
      ]
     },
     "execution_count": 81,
     "metadata": {},
     "output_type": "execute_result"
    }
   ],
   "source": [
    "arr.sum()"
   ]
  },
  {
   "cell_type": "markdown",
   "metadata": {},
   "source": [
    "mean 和 sum 这类的函数可以接受一个 axis 参数(用于计算该轴向上的统计值)，最终结果是一个少一维的数组:"
   ]
  },
  {
   "cell_type": "code",
   "execution_count": 84,
   "metadata": {},
   "outputs": [
    {
     "data": {
      "text/plain": [
       "array([ 0.58522459,  0.35590001,  0.02191531,  0.24983469, -0.77032233])"
      ]
     },
     "execution_count": 84,
     "metadata": {},
     "output_type": "execute_result"
    }
   ],
   "source": [
    "arr.mean(axis=1)"
   ]
  },
  {
   "cell_type": "code",
   "execution_count": 85,
   "metadata": {},
   "outputs": [
    {
     "data": {
      "text/plain": [
       "array([ 0.90743849,  0.67613671,  1.94521179, -1.75857791])"
      ]
     },
     "execution_count": 85,
     "metadata": {},
     "output_type": "execute_result"
    }
   ],
   "source": [
    "arr.sum(0)"
   ]
  },
  {
   "cell_type": "markdown",
   "metadata": {},
   "source": [
    "基本数组统计方法\n",
    "\n",
    "| 方法 | 说明 |\n",
    "| :--: | :--: |\n",
    "| sum | 对数组中全部或某轴向的元素求和。零长度的数组的 sum 为 0 |\n",
    "| mean | 算术平均数，零长度的数组的 mean 为 NaN |\n",
    "| std, var | 分别为标准差和方差，自由度可调 (默认为 n) |\n",
    "| min, max | 最大值和最小值 |\n",
    "| argmin, argmax | 分别为最大和最小元素的索引 |\n",
    "| cumsum | 所有元素的累计和 |\n",
    "| cumprod | 所有元素的累计积 |"
   ]
  },
  {
   "cell_type": "markdown",
   "metadata": {},
   "source": [
    "### 用于布尔型数组的方法\n",
    "\n",
    "在上面这些方法中，布尔值会被强制转换为 1 (True) 和 0 (False), 因此，sum 经常被用来对布尔型数组中的 True 值计数:"
   ]
  },
  {
   "cell_type": "code",
   "execution_count": 92,
   "metadata": {},
   "outputs": [
    {
     "data": {
      "text/plain": [
       "52"
      ]
     },
     "execution_count": 92,
     "metadata": {},
     "output_type": "execute_result"
    }
   ],
   "source": [
    "arr = np.random.randn(100)\n",
    "(arr > 0).sum()"
   ]
  },
  {
   "cell_type": "markdown",
   "metadata": {},
   "source": [
    "另外还有两个方法 any 和 all ， 他们对布尔型数组非常有用, any 用于测试数组中是否存在一个或多个 True, 而 all 则检查数组中所有值是否都是 True, 这两个方法也可以用于非布尔型数组，所有非 0 元素将会被当作 True ."
   ]
  },
  {
   "cell_type": "code",
   "execution_count": 93,
   "metadata": {},
   "outputs": [
    {
     "data": {
      "text/plain": [
       "True"
      ]
     },
     "execution_count": 93,
     "metadata": {},
     "output_type": "execute_result"
    }
   ],
   "source": [
    "bools = np.array([False, False, True, False])\n",
    "bools.any()"
   ]
  },
  {
   "cell_type": "code",
   "execution_count": 94,
   "metadata": {},
   "outputs": [
    {
     "data": {
      "text/plain": [
       "False"
      ]
     },
     "execution_count": 94,
     "metadata": {},
     "output_type": "execute_result"
    }
   ],
   "source": [
    "bools.all()"
   ]
  },
  {
   "cell_type": "markdown",
   "metadata": {},
   "source": [
    "### 排序\n",
    "\n",
    "和 Python 内置的列表类型一样， NumPy 数组也可以通过 sort 方法就地排序:"
   ]
  },
  {
   "cell_type": "code",
   "execution_count": 95,
   "metadata": {},
   "outputs": [
    {
     "data": {
      "text/plain": [
       "array([ 0.16127274, -0.79197472, -2.28741308, -0.20286701, -0.0349847 ,\n",
       "       -0.97745823, -0.38588827, -0.18356067])"
      ]
     },
     "execution_count": 95,
     "metadata": {},
     "output_type": "execute_result"
    }
   ],
   "source": [
    "arr = np.random.randn(8)\n",
    "arr"
   ]
  },
  {
   "cell_type": "code",
   "execution_count": 96,
   "metadata": {},
   "outputs": [
    {
     "data": {
      "text/plain": [
       "array([-2.28741308, -0.97745823, -0.79197472, -0.38588827, -0.20286701,\n",
       "       -0.18356067, -0.0349847 ,  0.16127274])"
      ]
     },
     "execution_count": 96,
     "metadata": {},
     "output_type": "execute_result"
    }
   ],
   "source": [
    "arr.sort()\n",
    "arr"
   ]
  },
  {
   "cell_type": "markdown",
   "metadata": {},
   "source": [
    "多维数组可以在任何一个轴向上进行排序，只需要将轴编号传给 sort 即可: "
   ]
  },
  {
   "cell_type": "code",
   "execution_count": 97,
   "metadata": {},
   "outputs": [
    {
     "data": {
      "text/plain": [
       "array([[-0.31839956, -1.12421184, -0.85662216],\n",
       "       [-0.03242331, -0.56125059,  0.71956182],\n",
       "       [ 0.59446252, -1.56208409,  0.49650415],\n",
       "       [-0.55230819, -2.1339157 ,  2.3160945 ],\n",
       "       [-0.77115725, -1.32555862,  0.85441039]])"
      ]
     },
     "execution_count": 97,
     "metadata": {},
     "output_type": "execute_result"
    }
   ],
   "source": [
    "arr = np.random.randn(5, 3)\n",
    "arr"
   ]
  },
  {
   "cell_type": "code",
   "execution_count": 98,
   "metadata": {},
   "outputs": [
    {
     "data": {
      "text/plain": [
       "array([[-1.12421184, -0.85662216, -0.31839956],\n",
       "       [-0.56125059, -0.03242331,  0.71956182],\n",
       "       [-1.56208409,  0.49650415,  0.59446252],\n",
       "       [-2.1339157 , -0.55230819,  2.3160945 ],\n",
       "       [-1.32555862, -0.77115725,  0.85441039]])"
      ]
     },
     "execution_count": 98,
     "metadata": {},
     "output_type": "execute_result"
    }
   ],
   "source": [
    "arr.sort(1)\n",
    "arr"
   ]
  },
  {
   "cell_type": "markdown",
   "metadata": {},
   "source": [
    "顶级方法 np.sort 返回的是数组的已排序副本， 而就地排序则会修改数组本身。计算数组分位数最简单的办法就是对其进行排序，然后选取特定位置的值:"
   ]
  },
  {
   "cell_type": "code",
   "execution_count": 99,
   "metadata": {},
   "outputs": [],
   "source": [
    "large_arr = np.random.randn(1000)\n",
    "large_arr.sort()"
   ]
  },
  {
   "cell_type": "code",
   "execution_count": 100,
   "metadata": {},
   "outputs": [
    {
     "data": {
      "text/plain": [
       "-1.6116838173383143"
      ]
     },
     "execution_count": 100,
     "metadata": {},
     "output_type": "execute_result"
    }
   ],
   "source": [
    "# 5% 分位数\n",
    "large_arr[int(0.05 * len(large_arr))]"
   ]
  },
  {
   "cell_type": "markdown",
   "metadata": {},
   "source": [
    "### 唯一化以及其他的集合逻辑\n",
    "\n",
    "NumPy 提供了一些针对一维 ndarray 的基本集合运算。最常用的可能就是 np.unique, 它用于找出数组中的唯一值并返回已排序的结果:"
   ]
  },
  {
   "cell_type": "code",
   "execution_count": 101,
   "metadata": {},
   "outputs": [
    {
     "data": {
      "text/plain": [
       "array(['Bob', 'Joe', 'Will'], dtype='<U4')"
      ]
     },
     "execution_count": 101,
     "metadata": {},
     "output_type": "execute_result"
    }
   ],
   "source": [
    "names = np.array( ['Bob', 'Joe', 'Will', 'Bob', 'Will', 'Joe', 'Joe'] )\n",
    "np.unique(names)"
   ]
  },
  {
   "cell_type": "code",
   "execution_count": 102,
   "metadata": {},
   "outputs": [
    {
     "data": {
      "text/plain": [
       "array([1, 2, 3, 4])"
      ]
     },
     "execution_count": 102,
     "metadata": {},
     "output_type": "execute_result"
    }
   ],
   "source": [
    "ints = np.array( [3, 3, 3, 2, 2, 1, 1, 4, 4] )\n",
    "np.unique(ints)"
   ]
  },
  {
   "cell_type": "markdown",
   "metadata": {},
   "source": [
    "np.unique 等价的纯 Python 代码"
   ]
  },
  {
   "cell_type": "code",
   "execution_count": 103,
   "metadata": {},
   "outputs": [
    {
     "data": {
      "text/plain": [
       "['Bob', 'Joe', 'Will']"
      ]
     },
     "execution_count": 103,
     "metadata": {},
     "output_type": "execute_result"
    }
   ],
   "source": [
    "sorted(set(names))"
   ]
  },
  {
   "cell_type": "markdown",
   "metadata": {},
   "source": [
    "另一个函数 np.in1d 用于测试一个数组中的值在另一个数组中的成员资格，返回一个布尔型数组:"
   ]
  },
  {
   "cell_type": "code",
   "execution_count": 105,
   "metadata": {},
   "outputs": [],
   "source": [
    "values = np.array( [6, 0, 0, 3, 2, 5, 6] )"
   ]
  },
  {
   "cell_type": "code",
   "execution_count": 107,
   "metadata": {},
   "outputs": [
    {
     "data": {
      "text/plain": [
       "array([ True, False, False,  True,  True, False,  True])"
      ]
     },
     "execution_count": 107,
     "metadata": {},
     "output_type": "execute_result"
    }
   ],
   "source": [
    "np.in1d(values, [2, 3, 6])"
   ]
  },
  {
   "cell_type": "markdown",
   "metadata": {},
   "source": [
    "数组的集合运算\n",
    "\n",
    "| 方法 | 说明 |\n",
    "| :--: | :--: |\n",
    "| unique(x) | 计算 x 中的唯一元素，并返回有序结果 |\n",
    "| intersect1d(x, y) | 计算 x 和 y 中的公共元素，并返回有序结果 |\n",
    "| union1d(x, y) | 计算 x 和 y 的并集, 并返回有序结果 |\n",
    "| in1d(x, y) | 得到一个表示 \"x 的元素是否包含于 y\" 的布尔型数组 |\n",
    "| setdiff1d(x, y) | 集合的差， 即元素在 x 中且不在 y 中 |\n",
    "| setxor1d(x, y) | 集合的对称差, 即存在一个数组中但不同时存在于两个数组中的元素 |"
   ]
  },
  {
   "cell_type": "markdown",
   "metadata": {},
   "source": [
    "## 用于数组的文件输入输出\n",
    "\n",
    "### 将数组以二进制格式保存到磁盘\n",
    "\n",
    "np.save 和 np.load 是读写磁盘数组数据的两个主要函数。默认情况下，数组式以未压缩的原始二进制格式保存在扩展名为 .npy 的文件中。"
   ]
  },
  {
   "cell_type": "code",
   "execution_count": 108,
   "metadata": {},
   "outputs": [],
   "source": [
    "arr = np.arange(10)\n",
    "np.save('some_array', arr)"
   ]
  },
  {
   "cell_type": "markdown",
   "metadata": {},
   "source": [
    "如果文件路径末尾没有扩展名 .npy, 则该扩展名会被自动加上，然后可以通过 np.load 读取磁盘桑的数组:"
   ]
  },
  {
   "cell_type": "code",
   "execution_count": 109,
   "metadata": {},
   "outputs": [
    {
     "data": {
      "text/plain": [
       "array([0, 1, 2, 3, 4, 5, 6, 7, 8, 9])"
      ]
     },
     "execution_count": 109,
     "metadata": {},
     "output_type": "execute_result"
    }
   ],
   "source": [
    "np.load('some_array.npy')"
   ]
  },
  {
   "cell_type": "markdown",
   "metadata": {},
   "source": [
    "通过 np.savez 可以将多个数组保存到一个压缩文件中，将数组以关键字参数的形式传入即可:"
   ]
  },
  {
   "cell_type": "code",
   "execution_count": 110,
   "metadata": {},
   "outputs": [],
   "source": [
    "np.savez('array_archive.npz', a=arr, b=arr)"
   ]
  },
  {
   "cell_type": "markdown",
   "metadata": {},
   "source": [
    "加载 .npz 文件时，你会得到一个类似字典的对象，该对象会对各个数组进行延迟加载:"
   ]
  },
  {
   "cell_type": "code",
   "execution_count": 111,
   "metadata": {},
   "outputs": [],
   "source": [
    "arch = np.load('array_archive.npz')"
   ]
  },
  {
   "cell_type": "code",
   "execution_count": 112,
   "metadata": {},
   "outputs": [
    {
     "data": {
      "text/plain": [
       "array([0, 1, 2, 3, 4, 5, 6, 7, 8, 9])"
      ]
     },
     "execution_count": 112,
     "metadata": {},
     "output_type": "execute_result"
    }
   ],
   "source": [
    "arch['b']"
   ]
  },
  {
   "cell_type": "markdown",
   "metadata": {},
   "source": [
    "### 存取文本文件\n",
    "\n",
    "从文件中加载文本是一个非常标准的任务, 主要有 np.loadtxt 和 np.genfromtxt "
   ]
  },
  {
   "cell_type": "markdown",
   "metadata": {},
   "source": [
    "## 线性代数\n",
    "\n",
    "NumPy 提供了一个用于矩阵乘法的 dot 函数"
   ]
  },
  {
   "cell_type": "code",
   "execution_count": 113,
   "metadata": {},
   "outputs": [],
   "source": [
    "x = np.array([\n",
    "    [1., 2., 3.],\n",
    "    [4., 5., 6.]\n",
    "])\n",
    "y = np.array([\n",
    "    [6., 23.],\n",
    "    [-1, 7],\n",
    "    [8, 9]\n",
    "])"
   ]
  },
  {
   "cell_type": "code",
   "execution_count": 114,
   "metadata": {},
   "outputs": [
    {
     "data": {
      "text/plain": [
       "array([[1., 2., 3.],\n",
       "       [4., 5., 6.]])"
      ]
     },
     "execution_count": 114,
     "metadata": {},
     "output_type": "execute_result"
    }
   ],
   "source": [
    "x"
   ]
  },
  {
   "cell_type": "code",
   "execution_count": 115,
   "metadata": {},
   "outputs": [
    {
     "data": {
      "text/plain": [
       "array([[ 6., 23.],\n",
       "       [-1.,  7.],\n",
       "       [ 8.,  9.]])"
      ]
     },
     "execution_count": 115,
     "metadata": {},
     "output_type": "execute_result"
    }
   ],
   "source": [
    "y"
   ]
  },
  {
   "cell_type": "code",
   "execution_count": 116,
   "metadata": {},
   "outputs": [
    {
     "data": {
      "text/plain": [
       "array([[ 28.,  64.],\n",
       "       [ 67., 181.]])"
      ]
     },
     "execution_count": 116,
     "metadata": {},
     "output_type": "execute_result"
    }
   ],
   "source": [
    "x.dot(y) # 相当于 np.dot(x, y)"
   ]
  },
  {
   "cell_type": "code",
   "execution_count": 118,
   "metadata": {},
   "outputs": [
    {
     "data": {
      "text/plain": [
       "array([[ 28.,  64.],\n",
       "       [ 67., 181.]])"
      ]
     },
     "execution_count": 118,
     "metadata": {},
     "output_type": "execute_result"
    }
   ],
   "source": [
    "np.dot(x, y)"
   ]
  },
  {
   "cell_type": "markdown",
   "metadata": {},
   "source": [
    "一个二维数组跟一个大小合适的一维数组的矩阵点积运算之后将会得到一个一维数组:"
   ]
  },
  {
   "cell_type": "code",
   "execution_count": 119,
   "metadata": {},
   "outputs": [
    {
     "data": {
      "text/plain": [
       "array([ 6., 15.])"
      ]
     },
     "execution_count": 119,
     "metadata": {},
     "output_type": "execute_result"
    }
   ],
   "source": [
    "np.dot(x, np.ones(3))"
   ]
  },
  {
   "cell_type": "markdown",
   "metadata": {},
   "source": [
    "numpy.linalg 中有一组标准的矩阵分解运算以及诸如求逆和行列式之类的东西"
   ]
  },
  {
   "cell_type": "code",
   "execution_count": 120,
   "metadata": {},
   "outputs": [],
   "source": [
    "from numpy.linalg import inv, qr"
   ]
  },
  {
   "cell_type": "code",
   "execution_count": 124,
   "metadata": {},
   "outputs": [
    {
     "data": {
      "text/plain": [
       "array([[ 0.27126899, -0.22084943, -0.33256169, -0.39796982,  0.56171627],\n",
       "       [ 0.1614516 ,  2.07876749,  1.94815012,  0.04674741, -0.29659498],\n",
       "       [ 0.8454607 , -0.72504634,  0.30845179,  0.21523288, -0.29970528],\n",
       "       [-0.57459631, -0.47669258,  1.47652209, -2.22998806, -0.46389791],\n",
       "       [ 0.01120233, -0.17178317, -1.2001086 , -0.78868506, -0.6633816 ]])"
      ]
     },
     "execution_count": 124,
     "metadata": {},
     "output_type": "execute_result"
    }
   ],
   "source": [
    "X = np.random.randn(5, 5)\n",
    "X"
   ]
  },
  {
   "cell_type": "code",
   "execution_count": 125,
   "metadata": {},
   "outputs": [],
   "source": [
    "mat = X.T.dot(X)"
   ]
  },
  {
   "cell_type": "code",
   "execution_count": 126,
   "metadata": {},
   "outputs": [
    {
     "data": {
      "text/plain": [
       "array([[ 1.41258378,  0.24856264, -0.14318448, -0.51400545,  0.37415687],\n",
       "       [ 0.24856264,  0.4194178 , -0.2288889 , -0.26909558,  0.19044019],\n",
       "       [-0.14318448, -0.2288889 ,  0.27224503,  0.19023115, -0.05495372],\n",
       "       [-0.51400545, -0.26909558,  0.19023115,  0.50934411, -0.42810495],\n",
       "       [ 0.37415687,  0.19044019, -0.05495372, -0.42810495,  1.2982953 ]])"
      ]
     },
     "execution_count": 126,
     "metadata": {},
     "output_type": "execute_result"
    }
   ],
   "source": [
    "inv(mat)"
   ]
  },
  {
   "cell_type": "code",
   "execution_count": 127,
   "metadata": {},
   "outputs": [
    {
     "data": {
      "text/plain": [
       "array([[ 1.00000000e+00, -6.24500451e-17, -7.45931095e-17,\n",
       "         3.33066907e-16, -1.11022302e-16],\n",
       "       [-4.16333634e-17,  1.00000000e+00,  1.07552856e-16,\n",
       "         1.52655666e-16, -3.05311332e-16],\n",
       "       [ 1.11022302e-16,  2.49800181e-16,  1.00000000e+00,\n",
       "        -1.66533454e-16, -1.11022302e-16],\n",
       "       [ 4.99600361e-16,  0.00000000e+00, -9.71445147e-17,\n",
       "         1.00000000e+00,  0.00000000e+00],\n",
       "       [-5.55111512e-17, -8.32667268e-17,  2.77555756e-17,\n",
       "         2.22044605e-16,  1.00000000e+00]])"
      ]
     },
     "execution_count": 127,
     "metadata": {},
     "output_type": "execute_result"
    }
   ],
   "source": [
    "mat.dot(inv(mat))"
   ]
  },
  {
   "cell_type": "code",
   "execution_count": 128,
   "metadata": {},
   "outputs": [],
   "source": [
    "q, r = qr(mat)"
   ]
  },
  {
   "cell_type": "code",
   "execution_count": 129,
   "metadata": {},
   "outputs": [
    {
     "data": {
      "text/plain": [
       "array([[-1.8172214 ,  0.02833462,  3.51711402, -5.63443033, -1.23621682],\n",
       "       [ 0.        , -6.29813411, -6.50927086, -0.99808854,  0.34201269],\n",
       "       [ 0.        ,  0.        , -4.45472046,  2.59343711,  0.72536714],\n",
       "       [ 0.        ,  0.        ,  0.        , -1.82679918, -0.91680316],\n",
       "       [ 0.        ,  0.        ,  0.        ,  0.        ,  0.69874987]])"
      ]
     },
     "execution_count": 129,
     "metadata": {},
     "output_type": "execute_result"
    }
   ],
   "source": [
    "r"
   ]
  },
  {
   "cell_type": "markdown",
   "metadata": {},
   "source": [
    "常用的 numpy.linalg 函数\n",
    "\n",
    "| 函数 | 说明 |\n",
    "| :--: | :--: |\n",
    "| diag | 以一维数组的形式返回方阵的对角线(或非对角线)元素，或将一维数组转换为方阵(非对角线元素为 0) |\n",
    "| dot | 矩阵乘法 |\n",
    "| trace | 计算对角线元素的和 |\n",
    "| det | 计算矩阵行列式 |\n",
    "| eig | 计算方阵的本征值和本征向量 |\n",
    "| inv | 计算矩阵的逆 |\n",
    "| pinv | 计算矩阵的 Moore-Penrose 伪逆 |\n",
    "| qr | 计算 QR 分解 |\n",
    "| svd | 计算奇异值分解(SVD) |\n",
    "| solve | 解线性方程组 Ax = b, 其中 A 为一个方阵 |\n",
    "|lstsq | 计算 Ax = b 的最小二乘解 |"
   ]
  },
  {
   "cell_type": "markdown",
   "metadata": {},
   "source": [
    "## 随机数生成\n",
    "\n",
    "numpy.random 模块对 Python 内置的 random 进行了补充，增加了一些用于高效生产多种概率分布的样本值得函数。"
   ]
  },
  {
   "cell_type": "code",
   "execution_count": 131,
   "metadata": {},
   "outputs": [
    {
     "data": {
      "text/plain": [
       "array([[ 0.74440638,  0.4922941 ,  1.73008622,  0.9709314 ],\n",
       "       [-0.1388101 ,  0.13564155,  1.18550717, -0.33306992],\n",
       "       [ 1.20541347, -0.09235661, -1.34738375, -1.074321  ],\n",
       "       [-0.21258513,  1.23800491,  0.7656023 , -1.09426124]])"
      ]
     },
     "execution_count": 131,
     "metadata": {},
     "output_type": "execute_result"
    }
   ],
   "source": [
    "samples = np.random.normal(size=(4, 4))\n",
    "samples"
   ]
  },
  {
   "cell_type": "markdown",
   "metadata": {},
   "source": [
    "部分 numpy.random 函数\n",
    "\n",
    "| 函数 | 说明 |\n",
    "| :--: | :--: |\n",
    "| seed | 确定随机数生成器的种子 |\n",
    "| permutation | 返回一个序列的随机排列或返回一个随机排列的范围 |\n",
    "| shuffle | 对一个序列就地随机排列 |\n",
    "| rand | 产生均匀分布的样本值 |\n",
    "| randint | 从给定的上下限范围内随机选取整数 |\n",
    "| randn | 产生正态分布(平均值为 0, 标准差为 1) 的样本值， 类似于 MATLAB 接口 |\n",
    "| binomial | 产生二项分布的样本值 |\n",
    "| normal | 产生正态(高斯)分布的样本值 |\n",
    "| beta | 产生 Beta 分布的样本值 |\n",
    "| chisquare | 产生卡方分布的样本值 |\n",
    "| gamma | 产生 Gamma 分布的样本值 |\n",
    "| uniform | 产生在 [0, 1) 中分布均匀的样本值 |"
   ]
  },
  {
   "cell_type": "code",
   "execution_count": null,
   "metadata": {},
   "outputs": [],
   "source": []
  }
 ],
 "metadata": {
  "kernelspec": {
   "display_name": "Python 3",
   "language": "python",
   "name": "python3"
  },
  "language_info": {
   "codemirror_mode": {
    "name": "ipython",
    "version": 3
   },
   "file_extension": ".py",
   "mimetype": "text/x-python",
   "name": "python",
   "nbconvert_exporter": "python",
   "pygments_lexer": "ipython3",
   "version": "3.6.4"
  }
 },
 "nbformat": 4,
 "nbformat_minor": 2
}
