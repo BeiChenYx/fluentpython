{
 "cells": [
  {
   "cell_type": "markdown",
   "metadata": {},
   "source": [
    "# 构造函数"
   ]
  },
  {
   "cell_type": "markdown",
   "metadata": {},
   "source": [
    "```python\n",
    "pandas.Series( data, index, dtype, copy)\n",
    "```"
   ]
  },
  {
   "cell_type": "markdown",
   "metadata": {},
   "source": [
    "构造函数的参数如下:\n",
    "\n",
    "| 编号 | 参数 | 描述 |\n",
    "| :---:| :----: | :----: |\n",
    "| 1   | data | 数据采集各种形式，如: ndarray, list, constants |\n",
    "| 2   |index | 索引值必须是唯一的和散列的，与数据的长度相同，默认 np.arange(n).|\n",
    "| 3   |dtype | dtype 用于数据类型，如果没有，将会推断数据类型 |\n",
    "| 4   |copy | 复制数据，默认为 false |\n"
   ]
  },
  {
   "cell_type": "markdown",
   "metadata": {},
   "source": [
    "可以使用各种输入创建一个序列， 如:\n",
    "\n",
    "* 数组\n",
    "* 字典\n",
    "* 标量值或常数"
   ]
  },
  {
   "cell_type": "code",
   "execution_count": null,
   "metadata": {},
   "outputs": [],
   "source": []
  }
 ],
 "metadata": {
  "kernelspec": {
   "display_name": "Python 3",
   "language": "python",
   "name": "python3"
  },
  "language_info": {
   "codemirror_mode": {
    "name": "ipython",
    "version": 3
   },
   "file_extension": ".py",
   "mimetype": "text/x-python",
   "name": "python",
   "nbconvert_exporter": "python",
   "pygments_lexer": "ipython3",
   "version": "3.6.4"
  },
  "widgets": {
   "application/vnd.jupyter.widget-state+json": {
    "state": {},
    "version_major": 2,
    "version_minor": 0
   }
  }
 },
 "nbformat": 4,
 "nbformat_minor": 2
}
