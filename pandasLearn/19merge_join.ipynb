{
 "cells": [
  {
   "cell_type": "markdown",
   "metadata": {},
   "source": [
    "# Pandas 合并/连接"
   ]
  },
  {
   "cell_type": "markdown",
   "metadata": {},
   "source": [
    "Pandas 具有功能全面的高性能内存中连接操作，与SQL等关系数据库非常相似。\n",
    "\n",
    "Pandas 提供了一个单独的 merge() 函数， 作为 DataFrame 对象之间所有标准数据库连接操作的入口:\n",
    "\n",
    "```python\n",
    "pd.merge(left, right, how='inner', on=None, left_on=None, right_on=Non, left_index=False, right_index=False, sort=True)\n",
    "```\n",
    "\n",
    "参数说明:\n",
    "\n",
    "* left - 一个 DataFrame 对象\n",
    "* right - 另一个 DataFrame 对象\n",
    "* on - 列(名称)连接， 必须在左和右 DataFrame 对象中存在(找到).\n",
    "* left_on - 左侧 DataFrame 中的列作用键， 可以是列名或长度等于 DataFrame 长度的数组\n",
    "* right_on - 来自右的 DataFrame 的列作为键， 可以是列名或长度等于 DaraFrame 长度的数组\n",
    "* left_index - 如果为 True, 则使用左侧 DataFrame 中的索引作为其连接键，在具体 MultiIndex(分层)的 DataFrame 的情况下，级别的数量必须与来自右侧 DataFrame 的连接键的数量相匹配\n",
    "* right_index - 同 left_index\n",
    "* how - 它是left, right, outer以及inner之中的一个，默认为内inner\n",
    "* sort - 按照字典顺序通过连接键对结果 DataFrame 进行排序，默认为 True, 设置为 False 时， 在很多情况下大大提高了性能"
   ]
  },
  {
   "cell_type": "code",
   "execution_count": 6,
   "metadata": {},
   "outputs": [
    {
     "name": "stdout",
     "output_type": "stream",
     "text": [
      "   id    Name subject_id\n",
      "0   1    Alex       sub1\n",
      "1   2     Amy       sub2\n",
      "2   3   Allen       sub4\n",
      "3   4   Alice       sub6\n",
      "4   5  Ayoung       sub5\n",
      "============================================================\n",
      "   id   Name subject_id\n",
      "0   1  Billy       sub2\n",
      "1   2  Brian       sub4\n",
      "2   3   Bran       sub3\n",
      "3   4  Bryce       sub6\n",
      "4   5  Betty       sub5\n"
     ]
    }
   ],
   "source": [
    "# 现在创建两个不同的 DataFrame 并对其执行合并操作\n",
    "import pandas as pd\n",
    "\n",
    "left = pd.DataFrame({\n",
    "    'id': [1, 2, 3, 4, 5],\n",
    "    'Name': ['Alex', 'Amy', 'Allen', 'Alice', 'Ayoung'],\n",
    "    'subject_id': ['sub1', 'sub2', 'sub4', 'sub6', 'sub5']\n",
    "    })\n",
    "right = pd.DataFrame({\n",
    "    'id': [1, 2, 3, 4, 5],\n",
    "    'Name': ['Billy', 'Brian', 'Bran', 'Bryce', 'Betty'],\n",
    "    'subject_id': ['sub2', 'sub4', 'sub3', 'sub6', 'sub5']\n",
    "    })\n",
    "print(left)\n",
    "print('='*60)\n",
    "print(right)"
   ]
  },
  {
   "cell_type": "code",
   "execution_count": 8,
   "metadata": {},
   "outputs": [
    {
     "name": "stdout",
     "output_type": "stream",
     "text": [
      "   id  Name_x subject_id_x Name_y subject_id_y\n",
      "0   1    Alex         sub1  Billy         sub2\n",
      "1   2     Amy         sub2  Brian         sub4\n",
      "2   3   Allen         sub4   Bran         sub3\n",
      "3   4   Alice         sub6  Bryce         sub6\n",
      "4   5  Ayoung         sub5  Betty         sub5\n"
     ]
    }
   ],
   "source": [
    "# 在一个键上合并两个数据帧\n",
    "rs = pd.merge(left, right, on='id')\n",
    "print(rs)"
   ]
  },
  {
   "cell_type": "code",
   "execution_count": 10,
   "metadata": {},
   "outputs": [
    {
     "name": "stdout",
     "output_type": "stream",
     "text": [
      "   id  Name_x subject_id Name_y\n",
      "0   4   Alice       sub6  Bryce\n",
      "1   5  Ayoung       sub5  Betty\n"
     ]
    }
   ],
   "source": [
    "# 合并多个键上的两个数据框\n",
    "rs = pd.merge(left, right, on=['id', 'subject_id'])\n",
    "print(rs)"
   ]
  },
  {
   "cell_type": "markdown",
   "metadata": {},
   "source": [
    "## 合并使用 how 的参数\n",
    "\n",
    "如何合并参数指定如何确定哪些键将被包含在结果表中。如果组合键没有出现在左侧或右侧表中，则连接表中的值为 NA, 以下是 how 选项和 SQL 等效名称的总结:\n",
    "\n",
    "| 合并方法 | SQL等效 | 描述 |\n",
    "| :--: | :--: | :--: |\n",
    "| left | LEFT OUTER JOIN | 使用左侧对象的键 |\n",
    "| right | RIGHT OUTER JOIN | 使用右侧对象的键 |\n",
    "| outer | FULL OUTER JOIN | 使用键的联合 |\n",
    "| inner | INNER JOIN | 使用键的交集 |"
   ]
  },
  {
   "cell_type": "code",
   "execution_count": 11,
   "metadata": {},
   "outputs": [
    {
     "name": "stdout",
     "output_type": "stream",
     "text": [
      "   id_x  Name_x subject_id  id_y Name_y\n",
      "0     1    Alex       sub1   NaN    NaN\n",
      "1     2     Amy       sub2   1.0  Billy\n",
      "2     3   Allen       sub4   2.0  Brian\n",
      "3     4   Alice       sub6   4.0  Bryce\n",
      "4     5  Ayoung       sub5   5.0  Betty\n"
     ]
    }
   ],
   "source": [
    "# left join\n",
    "rs = pd.merge(left, right, on='subject_id', how='left')\n",
    "print(rs)"
   ]
  },
  {
   "cell_type": "code",
   "execution_count": 12,
   "metadata": {},
   "outputs": [
    {
     "name": "stdout",
     "output_type": "stream",
     "text": [
      "   id_x  Name_x subject_id  id_y Name_y\n",
      "0   2.0     Amy       sub2     1  Billy\n",
      "1   3.0   Allen       sub4     2  Brian\n",
      "2   4.0   Alice       sub6     4  Bryce\n",
      "3   5.0  Ayoung       sub5     5  Betty\n",
      "4   NaN     NaN       sub3     3   Bran\n"
     ]
    }
   ],
   "source": [
    "# right join\n",
    "rs = pd.merge(left, right, on='subject_id', how='right')\n",
    "print(rs)"
   ]
  },
  {
   "cell_type": "code",
   "execution_count": 14,
   "metadata": {},
   "outputs": [
    {
     "name": "stdout",
     "output_type": "stream",
     "text": [
      "   id_x  Name_x subject_id  id_y Name_y\n",
      "0   1.0    Alex       sub1   NaN    NaN\n",
      "1   2.0     Amy       sub2   1.0  Billy\n",
      "2   3.0   Allen       sub4   2.0  Brian\n",
      "3   4.0   Alice       sub6   4.0  Bryce\n",
      "4   5.0  Ayoung       sub5   5.0  Betty\n",
      "5   NaN     NaN       sub3   3.0   Bran\n"
     ]
    }
   ],
   "source": [
    "# outer join\n",
    "rs = pd.merge(left, right, how='outer', on='subject_id')\n",
    "print(rs)"
   ]
  },
  {
   "cell_type": "code",
   "execution_count": 15,
   "metadata": {},
   "outputs": [
    {
     "name": "stdout",
     "output_type": "stream",
     "text": [
      "   id_x  Name_x subject_id  id_y Name_y\n",
      "0     2     Amy       sub2     1  Billy\n",
      "1     3   Allen       sub4     2  Brian\n",
      "2     4   Alice       sub6     4  Bryce\n",
      "3     5  Ayoung       sub5     5  Betty\n"
     ]
    }
   ],
   "source": [
    "# inner join\n",
    "rs = pd.merge(left, right, on='subject_id', how='inner')\n",
    "print(rs)"
   ]
  },
  {
   "cell_type": "code",
   "execution_count": null,
   "metadata": {},
   "outputs": [],
   "source": []
  }
 ],
 "metadata": {
  "kernelspec": {
   "display_name": "Python 3",
   "language": "python",
   "name": "python3"
  },
  "language_info": {
   "codemirror_mode": {
    "name": "ipython",
    "version": 3
   },
   "file_extension": ".py",
   "mimetype": "text/x-python",
   "name": "python",
   "nbconvert_exporter": "python",
   "pygments_lexer": "ipython3",
   "version": "3.6.4"
  }
 },
 "nbformat": 4,
 "nbformat_minor": 2
}
