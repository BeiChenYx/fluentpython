{
 "cells": [
  {
   "cell_type": "markdown",
   "metadata": {},
   "source": [
    "# Pandas 合并/连接"
   ]
  },
  {
   "cell_type": "markdown",
   "metadata": {},
   "source": [
    "Pandas 具有功能全面的高性能内存中连接操作，与SQL等关系数据库非常相似。\n",
    "\n",
    "Pandas 提供了一个单独的 merge() 函数， 作为 DataFrame 对象之间所有标准数据库连接操作的入口:\n",
    "\n",
    "```python\n",
    "pd.merge(left, right, how='inner', on=None, left_on=None, right_on=Non, left_index=False, right_index=False, sort=True)\n",
    "```\n",
    "\n",
    "参数说明:\n",
    "\n",
    "* left - 一个 DataFrame 对象\n",
    "* right - 另一个 DataFrame 对象\n",
    "* on - 列(名称)连接， 必须在左和右 DataFrame 对象中存在(找到).\n",
    "* left_on - 左侧 DataFrame 中的列作用键， 可以是列名或长度等于 DataFrame 长度的数组\n",
    "* right_on - 来自右的 DataFrame 的列作为键， 可以是列名或长度等于 DaraFrame 长度的数组\n",
    "* left_index - 如果为 True, 则使用左侧 DataFrame 中的索引作为其连接键，在具体 MultiIndex(分层)"
   ]
  }
 ],
 "metadata": {
  "kernelspec": {
   "display_name": "Python 3",
   "language": "python",
   "name": "python3"
  },
  "language_info": {
   "codemirror_mode": {
    "name": "ipython",
    "version": 3
   },
   "file_extension": ".py",
   "mimetype": "text/x-python",
   "name": "python",
   "nbconvert_exporter": "python",
   "pygments_lexer": "ipython3",
   "version": "3.6.4"
  }
 },
 "nbformat": 4,
 "nbformat_minor": 2
}
