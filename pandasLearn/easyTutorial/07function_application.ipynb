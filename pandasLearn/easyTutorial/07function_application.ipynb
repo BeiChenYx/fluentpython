{
 "cells": [
  {
   "cell_type": "markdown",
   "metadata": {},
   "source": [
    "# Pandas 函数应用"
   ]
  },
  {
   "cell_type": "markdown",
   "metadata": {},
   "source": [
    "要将自定义或其他库的函数应用于 Pandas 对象, 有三个重要的方法，使用适当的方法取决于函数是否期望在整个 DataFrame 行、列或者元素上进行操作:\n",
    "\n",
    "* 表合理函数应用:    pipe()\n",
    "* 行或列函数应用:    apply()\n",
    "* 元素函数应用:     applymap()"
   ]
  },
  {
   "cell_type": "markdown",
   "metadata": {},
   "source": [
    "## 表格函数应用\n",
    "\n",
    "可以通过将函数和适当数量的参数作为管道参数来执行自定义操作，因此对整个 DataFrame 执行操作，例如，为 DataFrame 中的所有元素相加一个值 2"
   ]
  },
  {
   "cell_type": "code",
   "execution_count": 1,
   "metadata": {},
   "outputs": [
    {
     "name": "stdout",
     "output_type": "stream",
     "text": [
      "       col1      col2      col3\n",
      "0 -0.744406 -1.480289 -0.549523\n",
      "1 -0.262307 -0.016121  0.407935\n",
      "2  0.287441 -0.987571  0.725954\n",
      "3  0.454443  1.299055 -0.074936\n",
      "4  1.350927 -0.069097  1.070872\n",
      "       col1      col2      col3\n",
      "0  1.255594  0.519711  1.450477\n",
      "1  1.737693  1.983879  2.407935\n",
      "2  2.287441  1.012429  2.725954\n",
      "3  2.454443  3.299055  1.925064\n",
      "4  3.350927  1.930903  3.070872\n"
     ]
    }
   ],
   "source": [
    "import pandas as pd\n",
    "import numpy as np\n",
    "\n",
    "\n",
    "def adder(ele1, ele2):\n",
    "    return ele1 + ele2\n",
    "\n",
    "df = pd.DataFrame(np.random.randn(5, 3), columns=['col1', 'col2', 'col3'])\n",
    "print(df)\n",
    "df = df.pipe(adder, 2)\n",
    "print(df)"
   ]
  },
  {
   "cell_type": "markdown",
   "metadata": {},
   "source": [
    "## 行或列合理函数应用\n",
    "\n",
    "可以使用 apply() 方法沿 DataFrame 或 Panel 的轴应用任意函数， 它与描述性统计方法一样，采用 axis 参数，默认按照列执行，将每列列为数组。"
   ]
  },
  {
   "cell_type": "code",
   "execution_count": 2,
   "metadata": {},
   "outputs": [
    {
     "name": "stdout",
     "output_type": "stream",
     "text": [
      "col1    2.217219\n",
      "col2    1.749195\n",
      "col3    2.316060\n",
      "dtype: float64\n",
      "0    1.075261\n",
      "1    2.043169\n",
      "2    2.008608\n",
      "3    2.559520\n",
      "4    2.784234\n",
      "dtype: float64\n",
      "col1    2.095333\n",
      "col2    2.779343\n",
      "col3    1.620395\n",
      "dtype: float64\n"
     ]
    }
   ],
   "source": [
    "print(df.apply(np.mean))\n",
    "print(df.apply(np.mean, axis=1))\n",
    "print(df.apply(lambda x: x.max() - x.min()))"
   ]
  },
  {
   "cell_type": "markdown",
   "metadata": {},
   "source": [
    "## 元素合理函数应用\n",
    "\n",
    "并不是所有的函数都可以向量化， 在 DataFrame 上的方法 applymap() 和类似于在 Series上的 map() 接收任何 Python 函数，并返回单个值"
   ]
  },
  {
   "cell_type": "code",
   "execution_count": 4,
   "metadata": {},
   "outputs": [
    {
     "name": "stdout",
     "output_type": "stream",
     "text": [
      "0    -65.423266\n",
      "1     85.063382\n",
      "2    -48.560126\n",
      "3    139.818214\n",
      "4    111.048050\n",
      "Name: col1, dtype: float64\n"
     ]
    }
   ],
   "source": [
    "df = pd.DataFrame(np.random.randn(5, 3), columns=['col1', 'col2', 'col3'])\n",
    "df = df['col1'].map(lambda x: x * 100)\n",
    "print(df)"
   ]
  },
  {
   "cell_type": "code",
   "execution_count": 5,
   "metadata": {},
   "outputs": [
    {
     "name": "stdout",
     "output_type": "stream",
     "text": [
      "         col1        col2        col3\n",
      "0  146.237512   26.736371  -97.518660\n",
      "1   12.868408  127.739031 -142.168787\n",
      "2  139.832472 -122.824015   21.665961\n",
      "3  -31.560550 -145.662095   32.920396\n",
      "4   46.261164 -163.168638   52.012410\n"
     ]
    }
   ],
   "source": [
    "df = pd.DataFrame(np.random.randn(5, 3), columns=['col1', 'col2', 'col3'])\n",
    "df = df.applymap(lambda x: x*100)\n",
    "print(df)"
   ]
  },
  {
   "cell_type": "code",
   "execution_count": null,
   "metadata": {},
   "outputs": [],
   "source": []
  }
 ],
 "metadata": {
  "kernelspec": {
   "display_name": "Python 3",
   "language": "python",
   "name": "python3"
  },
  "language_info": {
   "codemirror_mode": {
    "name": "ipython",
    "version": 3
   },
   "file_extension": ".py",
   "mimetype": "text/x-python",
   "name": "python",
   "nbconvert_exporter": "python",
   "pygments_lexer": "ipython3",
   "version": "3.6.4"
  }
 },
 "nbformat": 4,
 "nbformat_minor": 2
}
