{
 "cells": [
  {
   "cell_type": "code",
   "execution_count": 2,
   "metadata": {},
   "outputs": [],
   "source": [
    "# 检查pandas是否安装好了"
   ]
  },
  {
   "cell_type": "code",
   "execution_count": 3,
   "metadata": {},
   "outputs": [
    {
     "name": "stdout",
     "output_type": "stream",
     "text": [
      "Hello, Pandas\n"
     ]
    }
   ],
   "source": [
    "import pandas as pd\n",
    "import numpy as np\n",
    "import matplotlib.pyplot as plt\n",
    "print('Hello, Pandas')"
   ]
  },
  {
   "cell_type": "code",
   "execution_count": 4,
   "metadata": {},
   "outputs": [
    {
     "name": "stdout",
     "output_type": "stream",
     "text": [
      "0    1.0\n",
      "1    3.0\n",
      "2    5.0\n",
      "3    NaN\n",
      "4    6.0\n",
      "5    8.0\n",
      "dtype: float64\n"
     ]
    }
   ],
   "source": [
    "# 通过传递值列表来创建一个系列，让Pandas创建一个默认的整数索引:\n",
    "s = pd.Series([1, 3, 5, np.nan, 6, 8])\n",
    "print(s)"
   ]
  },
  {
   "cell_type": "code",
   "execution_count": 5,
   "metadata": {},
   "outputs": [
    {
     "name": "stdout",
     "output_type": "stream",
     "text": [
      "DatetimeIndex(['2019-02-28', '2019-03-01', '2019-03-02', '2019-03-03',\n",
      "               '2019-03-04', '2019-03-05', '2019-03-06'],\n",
      "              dtype='datetime64[ns]', freq='D')\n",
      "--------------------------------\n",
      "                   A         B         C         D\n",
      "2019-02-28  0.815418 -0.042083 -0.456778  2.637277\n",
      "2019-03-01 -1.098334  0.432953 -1.272166 -0.962234\n",
      "2019-03-02  1.521279 -0.021197  0.460703 -0.708133\n",
      "2019-03-03 -0.591527 -0.730397  1.375019 -1.326105\n",
      "2019-03-04 -0.990563 -0.805685 -1.383599  0.716953\n",
      "2019-03-05  1.223609  0.016651 -0.893842  0.498036\n",
      "2019-03-06 -0.183597  0.058861 -0.629665 -0.213048\n"
     ]
    }
   ],
   "source": [
    "# 通过传递 numpy 数组, 使用datetime索引和标记列来创建DataFrame\n",
    "dates = pd.date_range('20190228', periods=7)\n",
    "print(dates)\n",
    "print('--'*16)\n",
    "df = pd.DataFrame(np.random.randn(7, 4), index=dates, columns=list('ABCD'))\n",
    "print(df)"
   ]
  },
  {
   "cell_type": "code",
   "execution_count": 6,
   "metadata": {},
   "outputs": [
    {
     "name": "stdout",
     "output_type": "stream",
     "text": [
      "   A          B    C  D      E    F\n",
      "0  1 2019-02-28  1.0  3   test  foo\n",
      "1  1 2019-02-28  1.0  3  train  foo\n",
      "2  1 2019-02-28  1.0  3   test  foo\n",
      "3  1 2019-02-28  1.0  3  train  foo\n"
     ]
    }
   ],
   "source": [
    "# 通过字典来创建DataFrame\n",
    "df2 = pd.DataFrame({\n",
    "    'A': 1,\n",
    "    'B': pd.Timestamp('20190228'),\n",
    "    'C': pd.Series(1, index=list(range(4)), dtype='float32'),\n",
    "    'D': np.array([3] * 4, dtype='int32'),\n",
    "    'E': pd.Categorical(['test', 'train', 'test', 'train']),\n",
    "    'F': 'foo'\n",
    "})\n",
    "print(df2)"
   ]
  },
  {
   "cell_type": "code",
   "execution_count": 11,
   "metadata": {},
   "outputs": [
    {
     "name": "stdout",
     "output_type": "stream",
     "text": [
      "                   A         B         C         D\n",
      "2019-03-01 -0.050891  0.326553 -1.027658 -1.701585\n",
      "2019-03-02  1.665027  0.114310  1.913054  0.245307\n",
      "2019-03-03 -1.320102  0.778767  0.122822 -0.645810\n",
      "2019-03-04 -0.031670 -1.851832  1.673014 -1.303776\n",
      "2019-03-05 -0.909918  0.826651  1.454990 -1.489953\n",
      "----------------------------------------------------------------------\n",
      "                   A         B         C         D\n",
      "2019-03-05 -0.909918  0.826651  1.454990 -1.489953\n",
      "2019-03-06 -1.288405  0.188955 -1.569860  0.232230\n",
      "2019-03-07 -1.059343  0.225782 -1.271175  0.699152\n"
     ]
    }
   ],
   "source": [
    "# 查看框架的顶部和底部的数据行\n",
    "dates = pd.date_range('20190301', periods=7)\n",
    "df = pd.DataFrame(np.random.randn(7, 4), index=dates, columns=list('ABCD'))\n",
    "print(df.head())\n",
    "print('-------'* 10)\n",
    "print(df.tail(3))"
   ]
  },
  {
   "cell_type": "code",
   "execution_count": 16,
   "metadata": {},
   "outputs": [
    {
     "name": "stdout",
     "output_type": "stream",
     "text": [
      "index is:  DatetimeIndex(['2019-03-01', '2019-03-02', '2019-03-03', '2019-03-04',\n",
      "               '2019-03-05', '2019-03-06', '2019-03-07'],\n",
      "              dtype='datetime64[ns]', freq='D')\n",
      "columns is:  Index(['A', 'B', 'C', 'D'], dtype='object')\n",
      "values is:  [[-0.05089093  0.32655282 -1.02765771 -1.70158548]\n",
      " [ 1.66502684  0.11431047  1.91305357  0.24530716]\n",
      " [-1.32010173  0.77876663  0.12282168 -0.64580982]\n",
      " [-0.03166997 -1.85183213  1.67301365 -1.30377563]\n",
      " [-0.9099176   0.82665136  1.45499033 -1.48995275]\n",
      " [-1.28840519  0.18895466 -1.56986014  0.23222955]\n",
      " [-1.05934328  0.22578234 -1.27117476  0.69915207]]\n"
     ]
    }
   ],
   "source": [
    "# 显示索引、列和底层numpy数据\n",
    "print('index is: ', df.index)\n",
    "print('columns is: ', df.columns)\n",
    "print('values is: ', df.values)"
   ]
  },
  {
   "cell_type": "code",
   "execution_count": 17,
   "metadata": {},
   "outputs": [
    {
     "data": {
      "text/html": [
       "<div>\n",
       "<style scoped>\n",
       "    .dataframe tbody tr th:only-of-type {\n",
       "        vertical-align: middle;\n",
       "    }\n",
       "\n",
       "    .dataframe tbody tr th {\n",
       "        vertical-align: top;\n",
       "    }\n",
       "\n",
       "    .dataframe thead th {\n",
       "        text-align: right;\n",
       "    }\n",
       "</style>\n",
       "<table border=\"1\" class=\"dataframe\">\n",
       "  <thead>\n",
       "    <tr style=\"text-align: right;\">\n",
       "      <th></th>\n",
       "      <th>A</th>\n",
       "      <th>B</th>\n",
       "      <th>C</th>\n",
       "      <th>D</th>\n",
       "    </tr>\n",
       "  </thead>\n",
       "  <tbody>\n",
       "    <tr>\n",
       "      <th>count</th>\n",
       "      <td>7.000000</td>\n",
       "      <td>7.000000</td>\n",
       "      <td>7.000000</td>\n",
       "      <td>7.000000</td>\n",
       "    </tr>\n",
       "    <tr>\n",
       "      <th>mean</th>\n",
       "      <td>-0.427900</td>\n",
       "      <td>0.087027</td>\n",
       "      <td>0.185027</td>\n",
       "      <td>-0.566348</td>\n",
       "    </tr>\n",
       "    <tr>\n",
       "      <th>std</th>\n",
       "      <td>1.068256</td>\n",
       "      <td>0.901155</td>\n",
       "      <td>1.499312</td>\n",
       "      <td>0.965222</td>\n",
       "    </tr>\n",
       "    <tr>\n",
       "      <th>min</th>\n",
       "      <td>-1.320102</td>\n",
       "      <td>-1.851832</td>\n",
       "      <td>-1.569860</td>\n",
       "      <td>-1.701585</td>\n",
       "    </tr>\n",
       "    <tr>\n",
       "      <th>25%</th>\n",
       "      <td>-1.173874</td>\n",
       "      <td>0.151633</td>\n",
       "      <td>-1.149416</td>\n",
       "      <td>-1.396864</td>\n",
       "    </tr>\n",
       "    <tr>\n",
       "      <th>50%</th>\n",
       "      <td>-0.909918</td>\n",
       "      <td>0.225782</td>\n",
       "      <td>0.122822</td>\n",
       "      <td>-0.645810</td>\n",
       "    </tr>\n",
       "    <tr>\n",
       "      <th>75%</th>\n",
       "      <td>-0.041280</td>\n",
       "      <td>0.552660</td>\n",
       "      <td>1.564002</td>\n",
       "      <td>0.238768</td>\n",
       "    </tr>\n",
       "    <tr>\n",
       "      <th>max</th>\n",
       "      <td>1.665027</td>\n",
       "      <td>0.826651</td>\n",
       "      <td>1.913054</td>\n",
       "      <td>0.699152</td>\n",
       "    </tr>\n",
       "  </tbody>\n",
       "</table>\n",
       "</div>"
      ],
      "text/plain": [
       "              A         B         C         D\n",
       "count  7.000000  7.000000  7.000000  7.000000\n",
       "mean  -0.427900  0.087027  0.185027 -0.566348\n",
       "std    1.068256  0.901155  1.499312  0.965222\n",
       "min   -1.320102 -1.851832 -1.569860 -1.701585\n",
       "25%   -1.173874  0.151633 -1.149416 -1.396864\n",
       "50%   -0.909918  0.225782  0.122822 -0.645810\n",
       "75%   -0.041280  0.552660  1.564002  0.238768\n",
       "max    1.665027  0.826651  1.913054  0.699152"
      ]
     },
     "execution_count": 17,
     "metadata": {},
     "output_type": "execute_result"
    }
   ],
   "source": [
    "# 描述显示数据的快速统计摘要\n",
    "df.describe()"
   ]
  },
  {
   "cell_type": "code",
   "execution_count": 18,
   "metadata": {},
   "outputs": [
    {
     "data": {
      "text/html": [
       "<div>\n",
       "<style scoped>\n",
       "    .dataframe tbody tr th:only-of-type {\n",
       "        vertical-align: middle;\n",
       "    }\n",
       "\n",
       "    .dataframe tbody tr th {\n",
       "        vertical-align: top;\n",
       "    }\n",
       "\n",
       "    .dataframe thead th {\n",
       "        text-align: right;\n",
       "    }\n",
       "</style>\n",
       "<table border=\"1\" class=\"dataframe\">\n",
       "  <thead>\n",
       "    <tr style=\"text-align: right;\">\n",
       "      <th></th>\n",
       "      <th>2019-03-01 00:00:00</th>\n",
       "      <th>2019-03-02 00:00:00</th>\n",
       "      <th>2019-03-03 00:00:00</th>\n",
       "      <th>2019-03-04 00:00:00</th>\n",
       "      <th>2019-03-05 00:00:00</th>\n",
       "      <th>2019-03-06 00:00:00</th>\n",
       "      <th>2019-03-07 00:00:00</th>\n",
       "    </tr>\n",
       "  </thead>\n",
       "  <tbody>\n",
       "    <tr>\n",
       "      <th>A</th>\n",
       "      <td>-0.050891</td>\n",
       "      <td>1.665027</td>\n",
       "      <td>-1.320102</td>\n",
       "      <td>-0.031670</td>\n",
       "      <td>-0.909918</td>\n",
       "      <td>-1.288405</td>\n",
       "      <td>-1.059343</td>\n",
       "    </tr>\n",
       "    <tr>\n",
       "      <th>B</th>\n",
       "      <td>0.326553</td>\n",
       "      <td>0.114310</td>\n",
       "      <td>0.778767</td>\n",
       "      <td>-1.851832</td>\n",
       "      <td>0.826651</td>\n",
       "      <td>0.188955</td>\n",
       "      <td>0.225782</td>\n",
       "    </tr>\n",
       "    <tr>\n",
       "      <th>C</th>\n",
       "      <td>-1.027658</td>\n",
       "      <td>1.913054</td>\n",
       "      <td>0.122822</td>\n",
       "      <td>1.673014</td>\n",
       "      <td>1.454990</td>\n",
       "      <td>-1.569860</td>\n",
       "      <td>-1.271175</td>\n",
       "    </tr>\n",
       "    <tr>\n",
       "      <th>D</th>\n",
       "      <td>-1.701585</td>\n",
       "      <td>0.245307</td>\n",
       "      <td>-0.645810</td>\n",
       "      <td>-1.303776</td>\n",
       "      <td>-1.489953</td>\n",
       "      <td>0.232230</td>\n",
       "      <td>0.699152</td>\n",
       "    </tr>\n",
       "  </tbody>\n",
       "</table>\n",
       "</div>"
      ],
      "text/plain": [
       "   2019-03-01  2019-03-02  2019-03-03  2019-03-04  2019-03-05  2019-03-06  \\\n",
       "A   -0.050891    1.665027   -1.320102   -0.031670   -0.909918   -1.288405   \n",
       "B    0.326553    0.114310    0.778767   -1.851832    0.826651    0.188955   \n",
       "C   -1.027658    1.913054    0.122822    1.673014    1.454990   -1.569860   \n",
       "D   -1.701585    0.245307   -0.645810   -1.303776   -1.489953    0.232230   \n",
       "\n",
       "   2019-03-07  \n",
       "A   -1.059343  \n",
       "B    0.225782  \n",
       "C   -1.271175  \n",
       "D    0.699152  "
      ]
     },
     "execution_count": 18,
     "metadata": {},
     "output_type": "execute_result"
    }
   ],
   "source": [
    "# 调换数据，矩阵逆置\n",
    "df.T"
   ]
  },
  {
   "cell_type": "code",
   "execution_count": 21,
   "metadata": {},
   "outputs": [
    {
     "data": {
      "text/html": [
       "<div>\n",
       "<style scoped>\n",
       "    .dataframe tbody tr th:only-of-type {\n",
       "        vertical-align: middle;\n",
       "    }\n",
       "\n",
       "    .dataframe tbody tr th {\n",
       "        vertical-align: top;\n",
       "    }\n",
       "\n",
       "    .dataframe thead th {\n",
       "        text-align: right;\n",
       "    }\n",
       "</style>\n",
       "<table border=\"1\" class=\"dataframe\">\n",
       "  <thead>\n",
       "    <tr style=\"text-align: right;\">\n",
       "      <th></th>\n",
       "      <th>D</th>\n",
       "      <th>C</th>\n",
       "      <th>B</th>\n",
       "      <th>A</th>\n",
       "    </tr>\n",
       "  </thead>\n",
       "  <tbody>\n",
       "    <tr>\n",
       "      <th>2019-03-01</th>\n",
       "      <td>-1.701585</td>\n",
       "      <td>-1.027658</td>\n",
       "      <td>0.326553</td>\n",
       "      <td>-0.050891</td>\n",
       "    </tr>\n",
       "    <tr>\n",
       "      <th>2019-03-02</th>\n",
       "      <td>0.245307</td>\n",
       "      <td>1.913054</td>\n",
       "      <td>0.114310</td>\n",
       "      <td>1.665027</td>\n",
       "    </tr>\n",
       "    <tr>\n",
       "      <th>2019-03-03</th>\n",
       "      <td>-0.645810</td>\n",
       "      <td>0.122822</td>\n",
       "      <td>0.778767</td>\n",
       "      <td>-1.320102</td>\n",
       "    </tr>\n",
       "    <tr>\n",
       "      <th>2019-03-04</th>\n",
       "      <td>-1.303776</td>\n",
       "      <td>1.673014</td>\n",
       "      <td>-1.851832</td>\n",
       "      <td>-0.031670</td>\n",
       "    </tr>\n",
       "    <tr>\n",
       "      <th>2019-03-05</th>\n",
       "      <td>-1.489953</td>\n",
       "      <td>1.454990</td>\n",
       "      <td>0.826651</td>\n",
       "      <td>-0.909918</td>\n",
       "    </tr>\n",
       "    <tr>\n",
       "      <th>2019-03-06</th>\n",
       "      <td>0.232230</td>\n",
       "      <td>-1.569860</td>\n",
       "      <td>0.188955</td>\n",
       "      <td>-1.288405</td>\n",
       "    </tr>\n",
       "    <tr>\n",
       "      <th>2019-03-07</th>\n",
       "      <td>0.699152</td>\n",
       "      <td>-1.271175</td>\n",
       "      <td>0.225782</td>\n",
       "      <td>-1.059343</td>\n",
       "    </tr>\n",
       "  </tbody>\n",
       "</table>\n",
       "</div>"
      ],
      "text/plain": [
       "                   D         C         B         A\n",
       "2019-03-01 -1.701585 -1.027658  0.326553 -0.050891\n",
       "2019-03-02  0.245307  1.913054  0.114310  1.665027\n",
       "2019-03-03 -0.645810  0.122822  0.778767 -1.320102\n",
       "2019-03-04 -1.303776  1.673014 -1.851832 -0.031670\n",
       "2019-03-05 -1.489953  1.454990  0.826651 -0.909918\n",
       "2019-03-06  0.232230 -1.569860  0.188955 -1.288405\n",
       "2019-03-07  0.699152 -1.271175  0.225782 -1.059343"
      ]
     },
     "execution_count": 21,
     "metadata": {},
     "output_type": "execute_result"
    }
   ],
   "source": [
    "# 通过轴排序, ascending=False 降序序，True升序\n",
    "df.sort_index(axis=1, ascending=False)"
   ]
  },
  {
   "cell_type": "code",
   "execution_count": 26,
   "metadata": {},
   "outputs": [
    {
     "name": "stdout",
     "output_type": "stream",
     "text": [
      "                   A         B         C         D\n",
      "2019-03-04 -0.031670 -1.851832  1.673014 -1.303776\n",
      "2019-03-02  1.665027  0.114310  1.913054  0.245307\n",
      "2019-03-06 -1.288405  0.188955 -1.569860  0.232230\n",
      "2019-03-07 -1.059343  0.225782 -1.271175  0.699152\n",
      "2019-03-01 -0.050891  0.326553 -1.027658 -1.701585\n",
      "2019-03-03 -1.320102  0.778767  0.122822 -0.645810\n",
      "2019-03-05 -0.909918  0.826651  1.454990 -1.489953\n",
      "                   A         B         C         D\n",
      "2019-03-05 -0.909918  0.826651  1.454990 -1.489953\n",
      "2019-03-03 -1.320102  0.778767  0.122822 -0.645810\n",
      "2019-03-01 -0.050891  0.326553 -1.027658 -1.701585\n",
      "2019-03-07 -1.059343  0.225782 -1.271175  0.699152\n",
      "2019-03-06 -1.288405  0.188955 -1.569860  0.232230\n",
      "2019-03-02  1.665027  0.114310  1.913054  0.245307\n",
      "2019-03-04 -0.031670 -1.851832  1.673014 -1.303776\n"
     ]
    }
   ],
   "source": [
    "# 按值排序, 默认降序排序，ascending=False升序\n",
    "print(df.sort_values(by='B'))\n",
    "print(df.sort_values(by='B', ascending=False))"
   ]
  },
  {
   "cell_type": "code",
   "execution_count": 33,
   "metadata": {},
   "outputs": [
    {
     "data": {
      "text/plain": [
       "2019-03-01   -0.050891\n",
       "2019-03-02    1.665027\n",
       "2019-03-03   -1.320102\n",
       "2019-03-04   -0.031670\n",
       "2019-03-05   -0.909918\n",
       "2019-03-06   -1.288405\n",
       "2019-03-07   -1.059343\n",
       "Freq: D, Name: A, dtype: float64"
      ]
     },
     "execution_count": 33,
     "metadata": {},
     "output_type": "execute_result"
    }
   ],
   "source": [
    "# 选择一列\n",
    "df['A']"
   ]
  },
  {
   "cell_type": "code",
   "execution_count": 34,
   "metadata": {},
   "outputs": [
    {
     "data": {
      "text/html": [
       "<div>\n",
       "<style scoped>\n",
       "    .dataframe tbody tr th:only-of-type {\n",
       "        vertical-align: middle;\n",
       "    }\n",
       "\n",
       "    .dataframe tbody tr th {\n",
       "        vertical-align: top;\n",
       "    }\n",
       "\n",
       "    .dataframe thead th {\n",
       "        text-align: right;\n",
       "    }\n",
       "</style>\n",
       "<table border=\"1\" class=\"dataframe\">\n",
       "  <thead>\n",
       "    <tr style=\"text-align: right;\">\n",
       "      <th></th>\n",
       "      <th>A</th>\n",
       "      <th>B</th>\n",
       "      <th>C</th>\n",
       "      <th>D</th>\n",
       "    </tr>\n",
       "  </thead>\n",
       "  <tbody>\n",
       "    <tr>\n",
       "      <th>2019-03-01</th>\n",
       "      <td>-0.050891</td>\n",
       "      <td>0.326553</td>\n",
       "      <td>-1.027658</td>\n",
       "      <td>-1.701585</td>\n",
       "    </tr>\n",
       "    <tr>\n",
       "      <th>2019-03-02</th>\n",
       "      <td>1.665027</td>\n",
       "      <td>0.114310</td>\n",
       "      <td>1.913054</td>\n",
       "      <td>0.245307</td>\n",
       "    </tr>\n",
       "    <tr>\n",
       "      <th>2019-03-03</th>\n",
       "      <td>-1.320102</td>\n",
       "      <td>0.778767</td>\n",
       "      <td>0.122822</td>\n",
       "      <td>-0.645810</td>\n",
       "    </tr>\n",
       "  </tbody>\n",
       "</table>\n",
       "</div>"
      ],
      "text/plain": [
       "                   A         B         C         D\n",
       "2019-03-01 -0.050891  0.326553 -1.027658 -1.701585\n",
       "2019-03-02  1.665027  0.114310  1.913054  0.245307\n",
       "2019-03-03 -1.320102  0.778767  0.122822 -0.645810"
      ]
     },
     "execution_count": 34,
     "metadata": {},
     "output_type": "execute_result"
    }
   ],
   "source": [
    "# 切片行\n",
    "df[0:3]"
   ]
  },
  {
   "cell_type": "code",
   "execution_count": 36,
   "metadata": {},
   "outputs": [
    {
     "name": "stdout",
     "output_type": "stream",
     "text": [
      "========指定选择日期===========\n"
     ]
    },
    {
     "data": {
      "text/html": [
       "<div>\n",
       "<style scoped>\n",
       "    .dataframe tbody tr th:only-of-type {\n",
       "        vertical-align: middle;\n",
       "    }\n",
       "\n",
       "    .dataframe tbody tr th {\n",
       "        vertical-align: top;\n",
       "    }\n",
       "\n",
       "    .dataframe thead th {\n",
       "        text-align: right;\n",
       "    }\n",
       "</style>\n",
       "<table border=\"1\" class=\"dataframe\">\n",
       "  <thead>\n",
       "    <tr style=\"text-align: right;\">\n",
       "      <th></th>\n",
       "      <th>A</th>\n",
       "      <th>B</th>\n",
       "      <th>C</th>\n",
       "      <th>D</th>\n",
       "    </tr>\n",
       "  </thead>\n",
       "  <tbody>\n",
       "    <tr>\n",
       "      <th>2019-03-01</th>\n",
       "      <td>-0.050891</td>\n",
       "      <td>0.326553</td>\n",
       "      <td>-1.027658</td>\n",
       "      <td>-1.701585</td>\n",
       "    </tr>\n",
       "    <tr>\n",
       "      <th>2019-03-02</th>\n",
       "      <td>1.665027</td>\n",
       "      <td>0.114310</td>\n",
       "      <td>1.913054</td>\n",
       "      <td>0.245307</td>\n",
       "    </tr>\n",
       "    <tr>\n",
       "      <th>2019-03-03</th>\n",
       "      <td>-1.320102</td>\n",
       "      <td>0.778767</td>\n",
       "      <td>0.122822</td>\n",
       "      <td>-0.645810</td>\n",
       "    </tr>\n",
       "    <tr>\n",
       "      <th>2019-03-04</th>\n",
       "      <td>-0.031670</td>\n",
       "      <td>-1.851832</td>\n",
       "      <td>1.673014</td>\n",
       "      <td>-1.303776</td>\n",
       "    </tr>\n",
       "    <tr>\n",
       "      <th>2019-03-05</th>\n",
       "      <td>-0.909918</td>\n",
       "      <td>0.826651</td>\n",
       "      <td>1.454990</td>\n",
       "      <td>-1.489953</td>\n",
       "    </tr>\n",
       "  </tbody>\n",
       "</table>\n",
       "</div>"
      ],
      "text/plain": [
       "                   A         B         C         D\n",
       "2019-03-01 -0.050891  0.326553 -1.027658 -1.701585\n",
       "2019-03-02  1.665027  0.114310  1.913054  0.245307\n",
       "2019-03-03 -1.320102  0.778767  0.122822 -0.645810\n",
       "2019-03-04 -0.031670 -1.851832  1.673014 -1.303776\n",
       "2019-03-05 -0.909918  0.826651  1.454990 -1.489953"
      ]
     },
     "execution_count": 36,
     "metadata": {},
     "output_type": "execute_result"
    }
   ],
   "source": [
    "# 指定选择日期\n",
    "print('========指定选择日期===========')\n",
    "df['20190301':'20190305']"
   ]
  },
  {
   "cell_type": "code",
   "execution_count": 39,
   "metadata": {},
   "outputs": [
    {
     "name": "stdout",
     "output_type": "stream",
     "text": [
      "A   -1.076931\n",
      "B    0.134197\n",
      "C   -1.154182\n",
      "D    0.722826\n",
      "Name: 2019-03-01 00:00:00, dtype: float64\n"
     ]
    }
   ],
   "source": [
    "# 使用标签获取横截面\n",
    "dates = pd.date_range('20190301', periods=6)\n",
    "df = pd.DataFrame(np.random.randn(6, 4), index=dates, columns=list('ABCD'))\n",
    "print(df.loc[dates[0]])"
   ]
  },
  {
   "cell_type": "code",
   "execution_count": 41,
   "metadata": {},
   "outputs": [
    {
     "name": "stdout",
     "output_type": "stream",
     "text": [
      "                   A         B\n",
      "2019-03-01 -1.076931  0.134197\n",
      "2019-03-02 -2.044523 -0.464087\n",
      "2019-03-03 -0.132776 -1.306859\n",
      "2019-03-04  2.270239  1.676939\n",
      "2019-03-05 -0.500713  1.367007\n",
      "2019-03-06 -0.259914 -1.137223\n"
     ]
    }
   ],
   "source": [
    "# 通过标签选择多轴\n",
    "print(df.loc[:, ['A', 'B']])"
   ]
  },
  {
   "cell_type": "code",
   "execution_count": 43,
   "metadata": {},
   "outputs": [
    {
     "name": "stdout",
     "output_type": "stream",
     "text": [
      "                   A         B\n",
      "2019-03-03 -0.132776 -1.306859\n",
      "2019-03-04  2.270239  1.676939\n",
      "2019-03-05 -0.500713  1.367007\n"
     ]
    }
   ],
   "source": [
    "# 显示标签切片，包括两个端点\n",
    "print(df.loc['20190303':'20190305', ['A', 'B']])"
   ]
  },
  {
   "cell_type": "code",
   "execution_count": 45,
   "metadata": {},
   "outputs": [
    {
     "name": "stdout",
     "output_type": "stream",
     "text": [
      "A   -0.132776\n",
      "B   -1.306859\n",
      "Name: 2019-03-03 00:00:00, dtype: float64\n"
     ]
    }
   ],
   "source": [
    "# 减少返回对象的大小\n",
    "print(df.loc['20190303', ['A', 'B']])"
   ]
  },
  {
   "cell_type": "code",
   "execution_count": 51,
   "metadata": {},
   "outputs": [
    {
     "name": "stdout",
     "output_type": "stream",
     "text": [
      "-1.0769309251955075\n"
     ]
    }
   ],
   "source": [
    "# 获取标量值\n",
    "print(df.loc[dates[0], 'A'])"
   ]
  },
  {
   "cell_type": "code",
   "execution_count": 52,
   "metadata": {},
   "outputs": [
    {
     "name": "stdout",
     "output_type": "stream",
     "text": [
      "-1.0769309251955075\n"
     ]
    }
   ],
   "source": [
    "# 快速访问标量等同于loc\n",
    "print(df.at[dates[0], 'A'])"
   ]
  },
  {
   "cell_type": "code",
   "execution_count": 60,
   "metadata": {},
   "outputs": [
    {
     "name": "stdout",
     "output_type": "stream",
     "text": [
      "A    2.270239\n",
      "B    1.676939\n",
      "C   -0.397652\n",
      "D   -1.084032\n",
      "Name: 2019-03-04 00:00:00, dtype: float64\n",
      "                   A         B\n",
      "2019-03-04  2.270239  1.676939\n",
      "2019-03-05 -0.500713  1.367007\n",
      "                   A         C\n",
      "2019-03-02 -2.044523  2.055828\n",
      "2019-03-03 -0.132776  0.916044\n",
      "2019-03-05 -0.500713  0.813726\n",
      "                   A         B         C         D\n",
      "2019-03-02 -2.044523 -0.464087  2.055828  0.285524\n",
      "2019-03-03 -0.132776 -1.306859  0.916044  2.807670\n",
      "                   B         C\n",
      "2019-03-01  0.134197 -1.154182\n",
      "2019-03-02 -0.464087  2.055828\n",
      "2019-03-03 -1.306859  0.916044\n",
      "2019-03-04  1.676939 -0.397652\n",
      "2019-03-05  1.367007  0.813726\n",
      "2019-03-06 -1.137223  1.075026\n",
      "-0.46408683956811647\n",
      "-0.46408683956811647\n"
     ]
    }
   ],
   "source": [
    "# 通过位置选择，传递整数的位置选择\n",
    "print(df.iloc[3])\n",
    "# 通过整数切片\n",
    "print(df.iloc[3:5, 0:2])\n",
    "# 通过整数位置的列表\n",
    "print(df.iloc[[1, 2, 4], [0, 2]])\n",
    "# 明确切片行\n",
    "print(df.iloc[1:3, :])\n",
    "# 明确切片列\n",
    "print(df.iloc[:, 1:3])\n",
    "# 明确获取值\n",
    "print(df.iloc[1, 1])\n",
    "# 快速访问标量\n",
    "print(df.iat[1, 1])"
   ]
  },
  {
   "cell_type": "code",
   "execution_count": 62,
   "metadata": {},
   "outputs": [
    {
     "name": "stdout",
     "output_type": "stream",
     "text": [
      "                   A         B         C         D\n",
      "2019-03-04  2.270239  1.676939 -0.397652 -1.084032\n"
     ]
    }
   ],
   "source": [
    "# 布尔索引\n",
    "# 使用单列的值来选择数据\n",
    "print(df[df.A > 0])"
   ]
  },
  {
   "cell_type": "code",
   "execution_count": 64,
   "metadata": {},
   "outputs": [
    {
     "name": "stdout",
     "output_type": "stream",
     "text": [
      "                   A         B         C         D\n",
      "2019-03-01       NaN  0.134197       NaN  0.722826\n",
      "2019-03-02       NaN       NaN  2.055828  0.285524\n",
      "2019-03-03       NaN       NaN  0.916044  2.807670\n",
      "2019-03-04  2.270239  1.676939       NaN       NaN\n",
      "2019-03-05       NaN  1.367007  0.813726  0.450990\n",
      "2019-03-06       NaN       NaN  1.075026  0.597659\n"
     ]
    }
   ],
   "source": [
    "# 从满足布尔条件的DataFrame中选择值\n",
    "print(df[df > 0])"
   ]
  },
  {
   "cell_type": "code",
   "execution_count": 68,
   "metadata": {},
   "outputs": [
    {
     "name": "stdout",
     "output_type": "stream",
     "text": [
      "                   A         B         C         D      E\n",
      "2019-03-01 -1.076931  0.134197 -1.154182  0.722826    one\n",
      "2019-03-02 -2.044523 -0.464087  2.055828  0.285524    one\n",
      "2019-03-03 -0.132776 -1.306859  0.916044  2.807670    two\n",
      "2019-03-04  2.270239  1.676939 -0.397652 -1.084032  three\n",
      "2019-03-05 -0.500713  1.367007  0.813726  0.450990   four\n",
      "2019-03-06 -0.259914 -1.137223  1.075026  0.597659  three\n",
      "============= start to filter =====================\n",
      "                   A         B         C        D     E\n",
      "2019-03-03 -0.132776 -1.306859  0.916044  2.80767   two\n",
      "2019-03-05 -0.500713  1.367007  0.813726  0.45099  four\n"
     ]
    }
   ],
   "source": [
    "# 使用 isin() 方法进行过滤\n",
    "df2 = df.copy()\n",
    "df2['E'] = ['one', 'one', 'two', 'three', 'four', 'three']\n",
    "print(df2)\n",
    "print('============= start to filter =====================')\n",
    "print(df2[df2['E'].isin(['two', 'four'])])"
   ]
  }
 ],
 "metadata": {
  "kernelspec": {
   "display_name": "Python 3",
   "language": "python",
   "name": "python3"
  },
  "language_info": {
   "codemirror_mode": {
    "name": "ipython",
    "version": 3
   },
   "file_extension": ".py",
   "mimetype": "text/x-python",
   "name": "python",
   "nbconvert_exporter": "python",
   "pygments_lexer": "ipython3",
   "version": "3.6.4"
  }
 },
 "nbformat": 4,
 "nbformat_minor": 2
}
