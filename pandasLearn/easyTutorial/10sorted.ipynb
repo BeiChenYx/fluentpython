{
 "cells": [
  {
   "cell_type": "markdown",
   "metadata": {},
   "source": [
    "# Pandas 排序"
   ]
  },
  {
   "cell_type": "markdown",
   "metadata": {},
   "source": [
    "Pandas 有两种排序方式，分别是:\n",
    "\n",
    "* 按标签\n",
    "* 按实际值"
   ]
  },
  {
   "cell_type": "code",
   "execution_count": 2,
   "metadata": {},
   "outputs": [
    {
     "name": "stdout",
     "output_type": "stream",
     "text": [
      "       col2      col1\n",
      "1  1.217415 -0.943138\n",
      "4 -0.904086 -0.405699\n",
      "6 -0.827520 -0.689838\n",
      "2  0.751256 -0.281404\n",
      "3 -0.965675 -0.805068\n",
      "5  0.219396  0.904536\n",
      "9  0.305055 -0.953440\n",
      "8 -1.438967 -0.774550\n",
      "0 -0.436537  0.020784\n",
      "7 -0.556014  0.497264\n"
     ]
    }
   ],
   "source": [
    "import pandas as pd\n",
    "import numpy as np\n",
    "\n",
    "unsorted_df = pd.DataFrame(np.random.randn(10, 2),\n",
    "                           index=[1, 4, 6, 2, 3, 5, 9, 8, 0, 7],\n",
    "                           columns=['col2', 'col1'])\n",
    "print(unsorted_df)"
   ]
  },
  {
   "cell_type": "markdown",
   "metadata": {},
   "source": [
    "## 按标签排序\n",
    "\n",
    "使用 sort_index() 方法， 通过传递 axis 参数和排序顺序，可以对 DataFrame 进行排序，默认情况下，按照升序对行标签进行排序。"
   ]
  },
  {
   "cell_type": "code",
   "execution_count": 3,
   "metadata": {},
   "outputs": [
    {
     "name": "stdout",
     "output_type": "stream",
     "text": [
      "       col2      col1\n",
      "0 -0.436537  0.020784\n",
      "1  1.217415 -0.943138\n",
      "2  0.751256 -0.281404\n",
      "3 -0.965675 -0.805068\n",
      "4 -0.904086 -0.405699\n",
      "5  0.219396  0.904536\n",
      "6 -0.827520 -0.689838\n",
      "7 -0.556014  0.497264\n",
      "8 -1.438967 -0.774550\n",
      "9  0.305055 -0.953440\n"
     ]
    }
   ],
   "source": [
    "sorted_df = unsorted_df.sort_index()\n",
    "print(sorted_df)"
   ]
  },
  {
   "cell_type": "code",
   "execution_count": 4,
   "metadata": {},
   "outputs": [
    {
     "name": "stdout",
     "output_type": "stream",
     "text": [
      "       col2      col1\n",
      "9  0.305055 -0.953440\n",
      "8 -1.438967 -0.774550\n",
      "7 -0.556014  0.497264\n",
      "6 -0.827520 -0.689838\n",
      "5  0.219396  0.904536\n",
      "4 -0.904086 -0.405699\n",
      "3 -0.965675 -0.805068\n",
      "2  0.751256 -0.281404\n",
      "1  1.217415 -0.943138\n",
      "0 -0.436537  0.020784\n"
     ]
    }
   ],
   "source": [
    "# 排序顺序，通过将布尔值传递给升序参数，可以控制排序顺序。\n",
    "sorted_df = unsorted_df.sort_index(ascending=False)\n",
    "print(sorted_df)"
   ]
  },
  {
   "cell_type": "code",
   "execution_count": 5,
   "metadata": {},
   "outputs": [
    {
     "name": "stdout",
     "output_type": "stream",
     "text": [
      "       col1      col2\n",
      "1 -0.943138  1.217415\n",
      "4 -0.405699 -0.904086\n",
      "6 -0.689838 -0.827520\n",
      "2 -0.281404  0.751256\n",
      "3 -0.805068 -0.965675\n",
      "5  0.904536  0.219396\n",
      "9 -0.953440  0.305055\n",
      "8 -0.774550 -1.438967\n",
      "0  0.020784 -0.436537\n",
      "7  0.497264 -0.556014\n"
     ]
    }
   ],
   "source": [
    "# 按列排列，通过传递 axis 参数值为 0 或 1 , \n",
    "# 可以对列标签进行排序。默认情况下， axis = 0, 逐行排列。\n",
    "sorted_df = unsorted_df.sort_index(axis=1)\n",
    "print(sorted_df)"
   ]
  },
  {
   "cell_type": "markdown",
   "metadata": {},
   "source": [
    "## 按值排序\n",
    "\n",
    "像索引排序一样， sort_values() 是按值排序的方法，它接受一个 by 参数， 它将使用要与其排序值的 DataFrame 列名称"
   ]
  },
  {
   "cell_type": "code",
   "execution_count": 6,
   "metadata": {},
   "outputs": [
    {
     "name": "stdout",
     "output_type": "stream",
     "text": [
      "       col2      col1\n",
      "9  0.305055 -0.953440\n",
      "1  1.217415 -0.943138\n",
      "3 -0.965675 -0.805068\n",
      "8 -1.438967 -0.774550\n",
      "6 -0.827520 -0.689838\n",
      "4 -0.904086 -0.405699\n",
      "2  0.751256 -0.281404\n",
      "0 -0.436537  0.020784\n",
      "7 -0.556014  0.497264\n",
      "5  0.219396  0.904536\n"
     ]
    }
   ],
   "source": [
    "sorted_df = unsorted_df.sort_values(by='col1')\n",
    "print(sorted_df)"
   ]
  },
  {
   "cell_type": "markdown",
   "metadata": {},
   "source": [
    "### 排序算法\n",
    "\n",
    "sort_values() 提供了从 mergesort, heapsort 和 quicksort 中选择一个算法， Mergesort 是唯一稳定的算法。"
   ]
  },
  {
   "cell_type": "code",
   "execution_count": 7,
   "metadata": {},
   "outputs": [
    {
     "name": "stdout",
     "output_type": "stream",
     "text": [
      "       col2      col1\n",
      "9  0.305055 -0.953440\n",
      "1  1.217415 -0.943138\n",
      "3 -0.965675 -0.805068\n",
      "8 -1.438967 -0.774550\n",
      "6 -0.827520 -0.689838\n",
      "4 -0.904086 -0.405699\n",
      "2  0.751256 -0.281404\n",
      "0 -0.436537  0.020784\n",
      "7 -0.556014  0.497264\n",
      "5  0.219396  0.904536\n"
     ]
    }
   ],
   "source": [
    "sorted_df = unsorted_df.sort_values(by='col1', kind='mergesort')\n",
    "print(sorted_df)"
   ]
  }
 ],
 "metadata": {
  "kernelspec": {
   "display_name": "Python 3",
   "language": "python",
   "name": "python3"
  },
  "language_info": {
   "codemirror_mode": {
    "name": "ipython",
    "version": 3
   },
   "file_extension": ".py",
   "mimetype": "text/x-python",
   "name": "python",
   "nbconvert_exporter": "python",
   "pygments_lexer": "ipython3",
   "version": "3.6.4"
  }
 },
 "nbformat": 4,
 "nbformat_minor": 2
}
