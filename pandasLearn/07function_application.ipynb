{
 "cells": [
  {
   "cell_type": "markdown",
   "metadata": {},
   "source": [
    "要将自定义或其他库的函数应用于 Pandas 对象, 有三个重要的方法，使用适当的方法取决于函数是否期望在整个 DataFrame 行、列或者元素上进行操作:\n",
    "\n",
    "* 表合理函数应用:    pipe()\n",
    "* 行或列函数应用:    apply()\n",
    "* 元素函数应用:     applymap()"
   ]
  },
  {
   "cell_type": "markdown",
   "metadata": {},
   "source": [
    "## 表格函数应用\n",
    "\n",
    "可以通过将函数和适当数量的参数作为管道参数来执行自定义操作，因此对整个 DataFrame 执行操作，例如，为 DataFrame 中的所有元素相加一个值 2"
   ]
  },
  {
   "cell_type": "code",
   "execution_count": 4,
   "metadata": {},
   "outputs": [
    {
     "name": "stdout",
     "output_type": "stream",
     "text": [
      "       col1      col2      col3\n",
      "0  1.352124 -0.342529 -0.059739\n",
      "1 -0.728304 -0.223948 -0.362258\n",
      "2  0.342261 -0.850021 -0.160337\n",
      "3  1.219254  0.047184  0.156856\n",
      "4  0.635566 -0.756056  1.160358\n",
      "       col1      col2      col3\n",
      "0  3.352124  1.657471  1.940261\n",
      "1  1.271696  1.776052  1.637742\n",
      "2  2.342261  1.149979  1.839663\n",
      "3  3.219254  2.047184  2.156856\n",
      "4  2.635566  1.243944  3.160358\n"
     ]
    }
   ],
   "source": [
    "import pandas as pd\n",
    "import numpy as np\n",
    "\n",
    "\n",
    "def adder(ele1, ele2):\n",
    "    return ele1 + ele2\n",
    "\n",
    "df = pd.DataFrame(np.random.randn(5, 3), columns=['col1', 'col2', 'col3'])\n",
    "print(df)\n",
    "df = df.pipe(adder, 2)\n",
    "print(df)"
   ]
  },
  {
   "cell_type": "markdown",
   "metadata": {},
   "source": [
    "## 行或列合理函数应用\n",
    "\n",
    "可以使用 apply() 方法沿 DataFrame 或 Panel 的轴应用任意函数， 它与描述性统计方法一样，采用 axis 参数，默认按照列执行，将每列列为数组。"
   ]
  },
  {
   "cell_type": "code",
   "execution_count": 8,
   "metadata": {},
   "outputs": [
    {
     "name": "stdout",
     "output_type": "stream",
     "text": [
      "col1    2.564180\n",
      "col2    1.574926\n",
      "col3    2.146976\n",
      "dtype: float64\n",
      "0    2.316619\n",
      "1    1.561830\n",
      "2    1.777301\n",
      "3    2.474431\n",
      "4    2.346623\n",
      "dtype: float64\n",
      "col1    2.080428\n",
      "col2    0.897204\n",
      "col3    1.522616\n",
      "dtype: float64\n"
     ]
    }
   ],
   "source": [
    "print(df.apply(np.mean))\n",
    "print(df.apply(np.mean, axis=1))\n",
    "print(df.apply(lambda x: x.max() - x.min()))"
   ]
  },
  {
   "cell_type": "markdown",
   "metadata": {},
   "source": [
    "## 元素合理函数应用\n",
    "\n",
    "并不是所有的函数都可以向量化， 在 DataFrame 上的方法 applymap() 和类似于在 Series上的 map() 接收任何 Python 函数，并返回单个值"
   ]
  }
 ],
 "metadata": {
  "kernelspec": {
   "display_name": "Python 3",
   "language": "python",
   "name": "python3"
  },
  "language_info": {
   "codemirror_mode": {
    "name": "ipython",
    "version": 3
   },
   "file_extension": ".py",
   "mimetype": "text/x-python",
   "name": "python",
   "nbconvert_exporter": "python",
   "pygments_lexer": "ipython3",
   "version": "3.6.4"
  }
 },
 "nbformat": 4,
 "nbformat_minor": 2
}
