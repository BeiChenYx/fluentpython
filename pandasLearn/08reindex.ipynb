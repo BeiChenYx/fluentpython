{
 "cells": [
  {
   "cell_type": "markdown",
   "metadata": {},
   "source": [
    "重建索引会更改 DataFrame 的行标签和列标签，重新索引意味着符合数据以匹配特定轴上的一组给定的标签。可以通过索引来实现多个操作:\n",
    "\n",
    "* 重新排序现有数据以匹配一组新的标签\n",
    "* 在么有标签数据的标签位置插入缺失值标记"
   ]
  },
  {
   "cell_type": "code",
   "execution_count": 3,
   "metadata": {},
   "outputs": [
    {
     "name": "stdout",
     "output_type": "stream",
     "text": [
      "            A       C           D     x         y\n",
      "0  2016-01-01  Medium  106.265157   0.0  0.295538\n",
      "1  2016-01-02     Low   78.237318   1.0  0.153346\n",
      "2  2016-01-03     Low   94.963131   2.0  0.697968\n",
      "3  2016-01-04    High  104.917026   3.0  0.331079\n",
      "4  2016-01-05     Low   86.994989   4.0  0.775861\n",
      "5  2016-01-06     Low  103.636295   5.0  0.616176\n",
      "6  2016-01-07  Medium   97.255238   6.0  0.477146\n",
      "7  2016-01-08  Medium   86.008271   7.0  0.968608\n",
      "8  2016-01-09  Medium  107.270366   8.0  0.928698\n",
      "9  2016-01-10  Medium   99.670510   9.0  0.871012\n",
      "10 2016-01-11     Low   93.518821  10.0  0.649499\n",
      "11 2016-01-12     Low  111.249369  11.0  0.009892\n",
      "12 2016-01-13    High   87.917952  12.0  0.741582\n",
      "13 2016-01-14     Low  107.717665  13.0  0.534884\n",
      "14 2016-01-15    High  114.813900  14.0  0.278571\n",
      "15 2016-01-16    High   84.657928  15.0  0.579414\n",
      "16 2016-01-17  Medium   99.428451  16.0  0.273731\n",
      "17 2016-01-18    High  103.114903  17.0  0.199907\n",
      "18 2016-01-19    High  107.326929  18.0  0.410198\n",
      "19 2016-01-20    High   97.435583  19.0  0.301976\n",
      "           A       C   B\n",
      "0 2016-01-01  Medium NaN\n",
      "2 2016-01-03     Low NaN\n",
      "5 2016-01-06     Low NaN\n"
     ]
    }
   ],
   "source": [
    "import pandas as pd\n",
    "import numpy as np\n",
    "\n",
    "N = 20\n",
    "df = pd.DataFrame({\n",
    "    'A': pd.date_range(start='2016-01-01', periods=N, freq='D'),\n",
    "    'x': np.linspace(0, stop=N-1, num=N),\n",
    "    'y': np.random.rand(N),\n",
    "    'C': np.random.choice(['Low', 'Medium', 'High'], N).tolist(),\n",
    "    'D': np.random.normal(100, 10, size=(N)).tolist()\n",
    "})\n",
    "print(df)\n",
    "df_reindexed = df.reindex(index=[0, 2, 5], columns=['A', 'C', 'B'])\n",
    "print(df_reindexed)"
   ]
  },
  {
   "cell_type": "markdown",
   "metadata": {},
   "source": [
    "## 重建索引与其他对象对齐\n",
    "\n",
    "有时可能希望采取一个对象和重新索引，其轴被标记为与另一个对象相同。"
   ]
  },
  {
   "cell_type": "code",
   "execution_count": 6,
   "metadata": {},
   "outputs": [
    {
     "name": "stdout",
     "output_type": "stream",
     "text": [
      "       col1      col2      col3\n",
      "0 -2.154776 -2.544893  0.179949\n",
      "1 -0.377879  1.075211 -1.745613\n",
      "2 -1.631973 -0.707619  0.298654\n",
      "3  1.189085 -0.179246  2.101088\n",
      "4 -1.476757 -2.125389  1.072406\n",
      "5  0.164640 -0.931041 -0.879949\n",
      "6  1.169516  1.944424 -0.314656\n",
      "7  0.273267 -0.360891 -0.285548\n",
      "8 -0.990223 -0.616278  0.935378\n",
      "9 -0.701698  0.613181 -1.498197\n",
      "       col1      col2      col3\n",
      "0 -0.703012 -0.251066 -0.237921\n",
      "1  0.232135 -0.418187  0.520454\n",
      "2  0.055573  0.432991 -0.133974\n",
      "3 -0.179175  1.098769 -0.911175\n",
      "4 -1.119787  0.172555 -0.768496\n",
      "5  0.322172 -0.428272  0.605681\n",
      "6  1.140175  0.222858 -0.315845\n",
      "       col1      col2      col3\n",
      "0 -2.154776 -2.544893  0.179949\n",
      "1 -0.377879  1.075211 -1.745613\n",
      "2 -1.631973 -0.707619  0.298654\n",
      "3  1.189085 -0.179246  2.101088\n",
      "4 -1.476757 -2.125389  1.072406\n",
      "5  0.164640 -0.931041 -0.879949\n",
      "6  1.169516  1.944424 -0.314656\n"
     ]
    }
   ],
   "source": [
    "df1 = pd.DataFrame(np.random.randn(10, 3), columns=['col1', 'col2', 'col3'])\n",
    "df2 = pd.DataFrame(np.random.randn(7, 3), columns=['col1', 'col2', 'col3'])\n",
    "\n",
    "print(df1)\n",
    "print(df2)\n",
    "# 重建index，列名应该匹配，否则将为整个列标签添加NaN\n",
    "df1 = df1.reindex_like(df2)\n",
    "print(df1)"
   ]
  },
  {
   "cell_type": "markdown",
   "metadata": {},
   "source": [
    "### 填充时重新加注\n",
    "\n",
    "reindex() 采用可选参数，它是一个填充方法，其值如下:\n",
    "\n",
    "* pad/ffill    - 向前填充值\n",
    "* bfill/backfill    - 向后填充值\n",
    "* nearest    - 从最近的索引值填充"
   ]
  },
  {
   "cell_type": "code",
   "execution_count": 8,
   "metadata": {},
   "outputs": [
    {
     "name": "stdout",
     "output_type": "stream",
     "text": [
      "       col1      col2      col3\n",
      "0  0.662009  0.834706 -0.849691\n",
      "1  1.450630 -0.353223 -0.974180\n",
      "2       NaN       NaN       NaN\n",
      "3       NaN       NaN       NaN\n",
      "4       NaN       NaN       NaN\n",
      "5       NaN       NaN       NaN\n"
     ]
    },
    {
     "data": {
      "text/html": [
       "<div>\n",
       "<style scoped>\n",
       "    .dataframe tbody tr th:only-of-type {\n",
       "        vertical-align: middle;\n",
       "    }\n",
       "\n",
       "    .dataframe tbody tr th {\n",
       "        vertical-align: top;\n",
       "    }\n",
       "\n",
       "    .dataframe thead th {\n",
       "        text-align: right;\n",
       "    }\n",
       "</style>\n",
       "<table border=\"1\" class=\"dataframe\">\n",
       "  <thead>\n",
       "    <tr style=\"text-align: right;\">\n",
       "      <th></th>\n",
       "      <th>col1</th>\n",
       "      <th>col2</th>\n",
       "      <th>col3</th>\n",
       "    </tr>\n",
       "  </thead>\n",
       "  <tbody>\n",
       "    <tr>\n",
       "      <th>0</th>\n",
       "      <td>0.662009</td>\n",
       "      <td>0.834706</td>\n",
       "      <td>-0.849691</td>\n",
       "    </tr>\n",
       "    <tr>\n",
       "      <th>1</th>\n",
       "      <td>1.450630</td>\n",
       "      <td>-0.353223</td>\n",
       "      <td>-0.974180</td>\n",
       "    </tr>\n",
       "    <tr>\n",
       "      <th>2</th>\n",
       "      <td>1.450630</td>\n",
       "      <td>-0.353223</td>\n",
       "      <td>-0.974180</td>\n",
       "    </tr>\n",
       "    <tr>\n",
       "      <th>3</th>\n",
       "      <td>1.450630</td>\n",
       "      <td>-0.353223</td>\n",
       "      <td>-0.974180</td>\n",
       "    </tr>\n",
       "    <tr>\n",
       "      <th>4</th>\n",
       "      <td>1.450630</td>\n",
       "      <td>-0.353223</td>\n",
       "      <td>-0.974180</td>\n",
       "    </tr>\n",
       "    <tr>\n",
       "      <th>5</th>\n",
       "      <td>1.450630</td>\n",
       "      <td>-0.353223</td>\n",
       "      <td>-0.974180</td>\n",
       "    </tr>\n",
       "  </tbody>\n",
       "</table>\n",
       "</div>"
      ],
      "text/plain": [
       "       col1      col2      col3\n",
       "0  0.662009  0.834706 -0.849691\n",
       "1  1.450630 -0.353223 -0.974180\n",
       "2  1.450630 -0.353223 -0.974180\n",
       "3  1.450630 -0.353223 -0.974180\n",
       "4  1.450630 -0.353223 -0.974180\n",
       "5  1.450630 -0.353223 -0.974180"
      ]
     },
     "execution_count": 8,
     "metadata": {},
     "output_type": "execute_result"
    }
   ],
   "source": [
    "df1 = pd.DataFrame(np.random.randn(6,3),columns=['col1','col2','col3'])\n",
    "df2 = pd.DataFrame(np.random.randn(2,3),columns=['col1','col2','col3'])\n",
    "print(df2.reindex_like(df1))\n",
    "df2.reindex_like(df1, method='ffill')"
   ]
  },
  {
   "cell_type": "markdown",
   "metadata": {},
   "source": [
    "### 重建索引时的填充限制\n",
    "\n",
    "限制参数在重建索引时提供对填充的而外控制。限制指定连续匹配的最大计数。"
   ]
  },
  {
   "cell_type": "code",
   "execution_count": 10,
   "metadata": {},
   "outputs": [
    {
     "name": "stdout",
     "output_type": "stream",
     "text": [
      "       col1      col2      col3\n",
      "0  1.554232 -0.248377 -1.346286\n",
      "1 -1.972903 -1.052737  0.078422\n",
      "2 -1.972903 -1.052737  0.078422\n",
      "3       NaN       NaN       NaN\n",
      "4       NaN       NaN       NaN\n",
      "5       NaN       NaN       NaN\n"
     ]
    }
   ],
   "source": [
    "df1 = pd.DataFrame(np.random.randn(6,3),columns=['col1','col2','col3'])\n",
    "df2 = pd.DataFrame(np.random.randn(2,3),columns=['col1','col2','col3'])\n",
    "\n",
    "print(df2.reindex_like(df1, method='ffill', limit=1))"
   ]
  },
  {
   "cell_type": "markdown",
   "metadata": {},
   "source": [
    "## 重命名\n",
    "\n",
    "rename() 方法允许基于一些映射(字典或系列)或任意函数来重新标记一个轴"
   ]
  },
  {
   "cell_type": "code",
   "execution_count": 15,
   "metadata": {},
   "outputs": [
    {
     "name": "stdout",
     "output_type": "stream",
     "text": [
      "       col1      col2      col3\n",
      "0 -0.841419 -1.047778  0.526923\n",
      "1 -0.240298  2.084587  2.137572\n",
      "2 -1.502691  0.141445 -0.562457\n",
      "3  0.233206  1.348206 -0.061894\n",
      "4 -0.043736  0.090903  0.285587\n",
      "5 -0.303958 -0.654622 -0.519046\n",
      "              c1        c2      col3\n",
      "apple  -0.841419 -1.047778  0.526923\n",
      "banana -0.240298  2.084587  2.137572\n",
      "durian -1.502691  0.141445 -0.562457\n",
      "3       0.233206  1.348206 -0.061894\n",
      "4      -0.043736  0.090903  0.285587\n",
      "5      -0.303958 -0.654622 -0.519046\n"
     ]
    }
   ],
   "source": [
    "df1 = pd.DataFrame(np.random.randn(6,3),columns=['col1','col2','col3'])\n",
    "print(df1)\n",
    "print(df1.rename(columns={'col1': 'c1', 'col2': 'c2'}, \n",
    "                 index={0: 'apple', 1: 'banana', 2: 'durian'}))\n"
   ]
  },
  {
   "cell_type": "code",
   "execution_count": null,
   "metadata": {},
   "outputs": [],
   "source": []
  }
 ],
 "metadata": {
  "kernelspec": {
   "display_name": "Python 3",
   "language": "python",
   "name": "python3"
  },
  "language_info": {
   "codemirror_mode": {
    "name": "ipython",
    "version": 3
   },
   "file_extension": ".py",
   "mimetype": "text/x-python",
   "name": "python",
   "nbconvert_exporter": "python",
   "pygments_lexer": "ipython3",
   "version": "3.6.4"
  }
 },
 "nbformat": 4,
 "nbformat_minor": 2
}
