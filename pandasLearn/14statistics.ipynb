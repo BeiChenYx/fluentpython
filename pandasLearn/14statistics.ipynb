{
 "cells": [
  {
   "cell_type": "markdown",
   "metadata": {},
   "source": [
    "## pct_change() 函数\n",
    "\n",
    "Series、DataFrame和Panel 都有 pct_change() 函数，此函数将每个元素与其前一个元素进行比较，并计算变化百分比。 默认情况下， pct_change() 对列进行操作，如果想应用到行上，使用 axis=1 参数."
   ]
  },
  {
   "cell_type": "code",
   "execution_count": 1,
   "metadata": {},
   "outputs": [
    {
     "name": "stdout",
     "output_type": "stream",
     "text": [
      "0         NaN\n",
      "1    1.000000\n",
      "2    0.500000\n",
      "3    0.333333\n",
      "4    0.250000\n",
      "5   -0.200000\n",
      "dtype: float64\n",
      "          0         1\n",
      "0       NaN       NaN\n",
      "1 -0.093916 -4.787724\n",
      "2 -1.405140 -0.677258\n",
      "3  1.746221 -2.421172\n",
      "4 -1.435947  0.326344\n"
     ]
    }
   ],
   "source": [
    "import pandas as pd\n",
    "import numpy as np\n",
    "\n",
    "s = pd.Series([1, 2, 3, 4, 5, 4])\n",
    "print(s.pct_change())\n",
    "\n",
    "df = pd.DataFrame(np.random.randn(5, 2))\n",
    "print(df.pct_change())"
   ]
  },
  {
   "cell_type": "markdown",
   "metadata": {},
   "source": [
    "## 协方差\n",
    "\n",
    "协方差适用于 Series 数据， Series 对象有一个方法 cov 用来计算序列对象之间的协方差， NA 将被自动排除"
   ]
  },
  {
   "cell_type": "code",
   "execution_count": 2,
   "metadata": {},
   "outputs": [
    {
     "name": "stdout",
     "output_type": "stream",
     "text": [
      "0.6101319754689493\n"
     ]
    }
   ],
   "source": [
    "s1 = pd.Series(np.random.randn(10))\n",
    "s2 = pd.Series(np.random.randn(10))\n",
    "print(s1.cov(s2))"
   ]
  },
  {
   "cell_type": "markdown",
   "metadata": {},
   "source": [
    "当应用于 DataFrame 时， 协方差计算所有列之间的协方差 cov 的值"
   ]
  },
  {
   "cell_type": "code",
   "execution_count": 3,
   "metadata": {},
   "outputs": [
    {
     "name": "stdout",
     "output_type": "stream",
     "text": [
      "0.19657294262584402\n",
      "          a         b         c         d         e\n",
      "a  1.176622  0.196573 -0.486494 -0.187955  0.437149\n",
      "b  0.196573  1.044610 -0.344721  0.581952  0.864238\n",
      "c -0.486494 -0.344721  0.647093 -0.152837 -0.571621\n",
      "d -0.187955  0.581952 -0.152837  0.815126  0.472174\n",
      "e  0.437149  0.864238 -0.571621  0.472174  1.488120\n"
     ]
    }
   ],
   "source": [
    "frame = pd.DataFrame(np.random.randn(10, 5), columns=list('abcde'))\n",
    "print(frame['a'].cov(frame['b']))\n",
    "print(frame.cov())"
   ]
  },
  {
   "cell_type": "markdown",
   "metadata": {},
   "source": [
    "## 相关性\n",
    "\n",
    "相关性显示了任何两个数值(Series)之间的线性关系，有多种方法来计算，pearson(默认)、spearman 和 kendall 之间的相关性"
   ]
  },
  {
   "cell_type": "code",
   "execution_count": 4,
   "metadata": {},
   "outputs": [
    {
     "name": "stdout",
     "output_type": "stream",
     "text": [
      "0.1773079516061358\n",
      "          a         b         c         d         e\n",
      "a  1.000000  0.177308 -0.557539 -0.191921  0.330364\n",
      "b  0.177308  1.000000 -0.419283  0.630664  0.693167\n",
      "c -0.557539 -0.419283  1.000000 -0.210442 -0.582513\n",
      "d -0.191921  0.630664 -0.210442  1.000000  0.428717\n",
      "e  0.330364  0.693167 -0.582513  0.428717  1.000000\n"
     ]
    }
   ],
   "source": [
    "print(frame['a'].corr(frame['b']))\n",
    "print(frame.corr())"
   ]
  },
  {
   "cell_type": "markdown",
   "metadata": {},
   "source": [
    "## 数据排名\n",
    "\n",
    "数据排名为元素数组中的每个元素生成排名，在关系的情况下，分配平均等级"
   ]
  },
  {
   "cell_type": "code",
   "execution_count": 7,
   "metadata": {},
   "outputs": [
    {
     "name": "stdout",
     "output_type": "stream",
     "text": [
      "a    1.0\n",
      "b    4.5\n",
      "c    2.0\n",
      "d    4.5\n",
      "e    3.0\n",
      "dtype: float64\n"
     ]
    },
    {
     "data": {
      "text/plain": [
       "1.6104817409915075"
      ]
     },
     "execution_count": 7,
     "metadata": {},
     "output_type": "execute_result"
    }
   ],
   "source": [
    "s = pd.Series(np.random.np.random.randn(5), index=list('abcde'))\n",
    "s['d'] = s['b']\n",
    "print(s.rank()) "
   ]
  },
  {
   "cell_type": "code",
   "execution_count": null,
   "metadata": {},
   "outputs": [],
   "source": []
  }
 ],
 "metadata": {
  "kernelspec": {
   "display_name": "Python 3",
   "language": "python",
   "name": "python3"
  },
  "language_info": {
   "codemirror_mode": {
    "name": "ipython",
    "version": 3
   },
   "file_extension": ".py",
   "mimetype": "text/x-python",
   "name": "python",
   "nbconvert_exporter": "python",
   "pygments_lexer": "ipython3",
   "version": "3.6.4"
  }
 },
 "nbformat": 4,
 "nbformat_minor": 2
}
