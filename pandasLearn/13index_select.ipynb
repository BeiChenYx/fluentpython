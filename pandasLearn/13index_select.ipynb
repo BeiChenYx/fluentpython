{
 "cells": [
  {
   "cell_type": "markdown",
   "metadata": {},
   "source": [
    "Python 和 NumPy 索引运算符 \"[]\" 和属性运算符 \".\" , 可以在广泛的用例中快速轻松地访问 Pandas 数据结构。然而，由于要访问的数据类型不是预先知道的，所以直接使用标准运算符具有一些优化限制。对于生产环境的代码，建议使用以下方式访问:\n",
    "\n",
    "| 编号 | 索引 | 描述 |\n",
    "| :--: | :--: | :--: |\n",
    "| 1 | .loc() | 基于标签 |\n",
    "| 2 | .iloc() | 基于整数 |\n",
    "| 3 | .ix() | 基于标签和整数 |"
   ]
  },
  {
   "cell_type": "markdown",
   "metadata": {},
   "source": [
    "## .loc[]\n",
    "\n",
    "Pandas 提供了各种方法来完成基于标签的索引。切片时，也包括起始边界。整数是有效的标签，但他们是指标签而不是位置。\n",
    "\n",
    ".loc() 具有多种访问方式, 如:\n",
    "\n",
    "* 单个标量标签\n",
    "* 标签列表\n",
    "* 切片对象\n",
    "* 一个布尔数组\n",
    "\n",
    "loc 需要两个 单/列表/范围运算符， 用 \",\" 分隔。 第一个表示行， 第二个表示列"
   ]
  },
  {
   "cell_type": "code",
   "execution_count": 4,
   "metadata": {},
   "outputs": [
    {
     "name": "stdout",
     "output_type": "stream",
     "text": [
      "a    0.794256\n",
      "b    0.634884\n",
      "c   -0.817373\n",
      "d    0.342385\n",
      "e   -1.079700\n",
      "f   -2.017317\n",
      "g   -1.611263\n",
      "h    0.616694\n",
      "Name: A, dtype: float64\n",
      "          A\n",
      "a  0.794256\n",
      "b  0.634884\n",
      "c -0.817373\n",
      "d  0.342385\n",
      "e -1.079700\n",
      "f -2.017317\n",
      "g -1.611263\n",
      "h  0.616694\n"
     ]
    }
   ],
   "source": [
    "import pandas as pd\n",
    "import numpy as np\n",
    "\n",
    "df = pd.DataFrame(np.random.randn(8, 4), index=list('abcdefgh'),columns=list('ABCD'))\n",
    "\n",
    "print(df.loc[:, 'A'])\n",
    "print(df.loc[:, ['A', ]])"
   ]
  },
  {
   "cell_type": "code",
   "execution_count": 3,
   "metadata": {},
   "outputs": [
    {
     "name": "stdout",
     "output_type": "stream",
     "text": [
      "          A         C\n",
      "a -0.455529 -0.999112\n",
      "b -0.523847  0.363561\n",
      "c -2.074849  0.997300\n",
      "d  1.820184  0.309310\n",
      "e  0.405656  0.490985\n",
      "f  0.787618 -0.314487\n",
      "g  0.633574 -0.946082\n",
      "h -1.365034 -0.549167\n"
     ]
    }
   ],
   "source": [
    "print(df.loc[:, ['A', 'C']])"
   ]
  },
  {
   "cell_type": "code",
   "execution_count": 6,
   "metadata": {},
   "outputs": [
    {
     "name": "stdout",
     "output_type": "stream",
     "text": [
      "          A         C\n",
      "a  0.794256  0.961911\n",
      "b  0.634884 -0.688074\n",
      "f -2.017317  1.037095\n",
      "h  0.616694  0.585171\n"
     ]
    }
   ],
   "source": [
    "print(df.loc[['a', 'b', 'f', 'h'], ['A', 'C']])"
   ]
  },
  {
   "cell_type": "code",
   "execution_count": 9,
   "metadata": {},
   "outputs": [
    {
     "name": "stdout",
     "output_type": "stream",
     "text": [
      "          A         B         C         D\n",
      "a  0.794256  0.197307  0.961911 -0.272544\n",
      "b  0.634884 -1.367621 -0.688074 -0.800717\n",
      "c -0.817373 -1.193071 -0.745504 -1.330599\n",
      "d  0.342385  0.965560  0.147071 -1.497225\n",
      "e -1.079700 -0.617586 -0.371146 -0.029225\n",
      "f -2.017317 -1.673550  1.037095 -1.674562\n",
      "g -1.611263 -0.476402 -0.616054  1.226752\n",
      "h  0.616694  2.200041  0.585171  1.042220\n"
     ]
    }
   ],
   "source": [
    "# 当不需要管列的时候，只有行标签需要特定，那么就可以省略行的中括号[]\n",
    "print(df.loc['a':'h']) "
   ]
  },
  {
   "cell_type": "code",
   "execution_count": 10,
   "metadata": {},
   "outputs": [
    {
     "name": "stdout",
     "output_type": "stream",
     "text": [
      "A     True\n",
      "B     True\n",
      "C     True\n",
      "D    False\n",
      "Name: a, dtype: bool\n"
     ]
    }
   ],
   "source": [
    "print(df.loc['a'] > 0)"
   ]
  },
  {
   "cell_type": "markdown",
   "metadata": {},
   "source": [
    "## .iloc[]\n",
    "\n",
    "Pandas 提供了各种方法，以获得纯数字索引， 像 python 和 numpy 一样， 第一个位置是基于 0 的索引，各种访问方式如下:\n",
    "\n",
    "* 整数\n",
    "* 整数列表\n",
    "* 系列值"
   ]
  },
  {
   "cell_type": "code",
   "execution_count": 11,
   "metadata": {},
   "outputs": [
    {
     "name": "stdout",
     "output_type": "stream",
     "text": [
      "          A         B         C         D\n",
      "0  0.349248  0.321222  1.032232  1.642280\n",
      "1  0.914556 -0.308331  0.999579  1.385866\n",
      "2  1.541370  0.957296  0.750306 -0.450076\n",
      "3  0.442266  0.827341  1.778581 -0.072902\n"
     ]
    }
   ],
   "source": [
    "df = pd.DataFrame(np.random.randn(8, 4), columns=list('ABCD'))\n",
    "print(df.iloc[: 4])"
   ]
  },
  {
   "cell_type": "code",
   "execution_count": 12,
   "metadata": {},
   "outputs": [
    {
     "name": "stdout",
     "output_type": "stream",
     "text": [
      "          C         D\n",
      "1  0.999579  1.385866\n",
      "2  0.750306 -0.450076\n",
      "3  1.778581 -0.072902\n",
      "4 -0.503503  1.881340\n"
     ]
    }
   ],
   "source": [
    "print(df.iloc[1:5, 2:4])"
   ]
  },
  {
   "cell_type": "code",
   "execution_count": 14,
   "metadata": {},
   "outputs": [
    {
     "name": "stdout",
     "output_type": "stream",
     "text": [
      "          B         D\n",
      "1 -0.308331  1.385866\n",
      "3  0.827341 -0.072902\n",
      "5  0.570654  0.087719\n",
      "          A         B         C         D\n",
      "1  0.914556 -0.308331  0.999579  1.385866\n",
      "2  1.541370  0.957296  0.750306 -0.450076\n",
      "          B         C\n",
      "0  0.321222  1.032232\n",
      "1 -0.308331  0.999579\n",
      "2  0.957296  0.750306\n",
      "3  0.827341  1.778581\n",
      "4  0.294389 -0.503503\n",
      "5  0.570654 -2.125928\n",
      "6 -0.102183 -1.353226\n",
      "7  0.997573 -0.818812\n"
     ]
    }
   ],
   "source": [
    "print(df.iloc[[1, 3, 5], [1, 3]])\n",
    "print(df.iloc[1:3, :])\n",
    "print(df.iloc[:, 1:3])"
   ]
  },
  {
   "cell_type": "markdown",
   "metadata": {},
   "source": [
    "## .ix[]\n",
    "除了基于纯标签和整数之外， Pandas 还提供了一种使用 .ix[] 运算符进行选择和子集化对象的混合方法。"
   ]
  },
  {
   "cell_type": "code",
   "execution_count": 15,
   "metadata": {},
   "outputs": [
    {
     "name": "stdout",
     "output_type": "stream",
     "text": [
      "          A         B         C         D\n",
      "0  1.636024 -0.428863 -1.930451 -1.307685\n",
      "1  0.245204  0.331620  0.401783  0.109807\n",
      "2  0.017311  0.174162  1.414712 -0.710578\n",
      "3  0.786688 -0.353512  0.071902 -2.933656\n",
      "4  0.372607 -0.401849 -0.136066  0.925409\n"
     ]
    },
    {
     "name": "stderr",
     "output_type": "stream",
     "text": [
      "/root/.anaconda3/lib/python3.6/site-packages/ipykernel_launcher.py:2: DeprecationWarning: \n",
      ".ix is deprecated. Please use\n",
      ".loc for label based indexing or\n",
      ".iloc for positional indexing\n",
      "\n",
      "See the documentation here:\n",
      "http://pandas.pydata.org/pandas-docs/stable/indexing.html#ix-indexer-is-deprecated\n",
      "  \n"
     ]
    }
   ],
   "source": [
    "df = pd.DataFrame(np.random.randn(8, 4), columns=list('ABCD'))\n",
    "print(df.ix[:4])"
   ]
  },
  {
   "cell_type": "code",
   "execution_count": 16,
   "metadata": {},
   "outputs": [
    {
     "name": "stdout",
     "output_type": "stream",
     "text": [
      "0    1.636024\n",
      "1    0.245204\n",
      "2    0.017311\n",
      "3    0.786688\n",
      "4    0.372607\n",
      "5    0.263485\n",
      "6    0.217363\n",
      "7   -0.472382\n",
      "Name: A, dtype: float64\n"
     ]
    }
   ],
   "source": [
    "print(df.ix[:, 'A'])"
   ]
  },
  {
   "cell_type": "markdown",
   "metadata": {},
   "source": [
    "## 属性访问\n",
    "可以使用属性运算符 . 来选择列"
   ]
  },
  {
   "cell_type": "code",
   "execution_count": 17,
   "metadata": {},
   "outputs": [
    {
     "name": "stdout",
     "output_type": "stream",
     "text": [
      "0    1.636024\n",
      "1    0.245204\n",
      "2    0.017311\n",
      "3    0.786688\n",
      "4    0.372607\n",
      "5    0.263485\n",
      "6    0.217363\n",
      "7   -0.472382\n",
      "Name: A, dtype: float64\n"
     ]
    }
   ],
   "source": [
    "print(df.A)"
   ]
  }
 ],
 "metadata": {
  "kernelspec": {
   "display_name": "Python 3",
   "language": "python",
   "name": "python3"
  },
  "language_info": {
   "codemirror_mode": {
    "name": "ipython",
    "version": 3
   },
   "file_extension": ".py",
   "mimetype": "text/x-python",
   "name": "python",
   "nbconvert_exporter": "python",
   "pygments_lexer": "ipython3",
   "version": "3.6.4"
  }
 },
 "nbformat": 4,
 "nbformat_minor": 2
}
