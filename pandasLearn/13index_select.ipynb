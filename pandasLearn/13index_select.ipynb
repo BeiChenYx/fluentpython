{
 "cells": [
  {
   "cell_type": "markdown",
   "metadata": {},
   "source": [
    "# Pandas 索引和选择数据"
   ]
  },
  {
   "cell_type": "markdown",
   "metadata": {},
   "source": [
    "Python 和 NumPy 索引运算符 \"[]\" 和属性运算符 \".\" , 可以在广泛的用例中快速轻松地访问 Pandas 数据结构。然而，由于要访问的数据类型不是预先知道的，所以直接使用标准运算符具有一些优化限制。对于生产环境的代码，建议使用以下方式访问:\n",
    "\n",
    "| 编号 | 索引 | 描述 |\n",
    "| :--: | :--: | :--: |\n",
    "| 1 | .loc() | 基于标签 |\n",
    "| 2 | .iloc() | 基于整数 |\n",
    "| 3 | .ix() | 基于标签和整数 |"
   ]
  },
  {
   "cell_type": "markdown",
   "metadata": {},
   "source": [
    "## .loc[]\n",
    "\n",
    "Pandas 提供了各种方法来完成基于标签的索引。切片时，也包括起始边界。整数是有效的标签，但他们是指标签而不是位置。\n",
    "\n",
    ".loc() 具有多种访问方式, 如:\n",
    "\n",
    "* 单个标量标签\n",
    "* 标签列表\n",
    "* 切片对象\n",
    "* 一个布尔数组\n",
    "\n",
    "loc 需要两个 单/列表/范围运算符， 用 \",\" 分隔。 第一个表示行， 第二个表示列"
   ]
  },
  {
   "cell_type": "code",
   "execution_count": 23,
   "metadata": {},
   "outputs": [
    {
     "name": "stdout",
     "output_type": "stream",
     "text": [
      "a    1.147041\n",
      "b    2.402093\n",
      "c   -1.478781\n",
      "d    0.616398\n",
      "e   -0.143899\n",
      "f    0.252945\n",
      "g    0.494418\n",
      "h    0.583473\n",
      "Name: A, dtype: float64\n",
      "          A\n",
      "a  1.147041\n",
      "b  2.402093\n",
      "c -1.478781\n",
      "d  0.616398\n",
      "e -0.143899\n",
      "f  0.252945\n",
      "g  0.494418\n",
      "h  0.583473\n"
     ]
    }
   ],
   "source": [
    "import pandas as pd\n",
    "import numpy as np\n",
    "\n",
    "df = pd.DataFrame(np.random.randn(8, 4), index=list('abcdefgh'),columns=list('ABCD'))\n",
    "\n",
    "print(df.loc[:, 'A'])\n",
    "print(df.loc[:, ['A', ]])"
   ]
  },
  {
   "cell_type": "code",
   "execution_count": 24,
   "metadata": {},
   "outputs": [
    {
     "name": "stdout",
     "output_type": "stream",
     "text": [
      "          A         C\n",
      "a  1.147041  0.583073\n",
      "b  2.402093 -0.058520\n",
      "c -1.478781  1.720831\n",
      "d  0.616398  1.439457\n",
      "e -0.143899 -1.604595\n",
      "f  0.252945 -1.409469\n",
      "g  0.494418  0.923601\n",
      "h  0.583473  2.177962\n"
     ]
    }
   ],
   "source": [
    "print(df.loc[:, ['A', 'C']])"
   ]
  },
  {
   "cell_type": "code",
   "execution_count": 25,
   "metadata": {},
   "outputs": [
    {
     "name": "stdout",
     "output_type": "stream",
     "text": [
      "          A         C\n",
      "a  1.147041  0.583073\n",
      "b  2.402093 -0.058520\n",
      "f  0.252945 -1.409469\n",
      "h  0.583473  2.177962\n"
     ]
    }
   ],
   "source": [
    "print(df.loc[['a', 'b', 'f', 'h'], ['A', 'C']])"
   ]
  },
  {
   "cell_type": "code",
   "execution_count": 26,
   "metadata": {},
   "outputs": [
    {
     "name": "stdout",
     "output_type": "stream",
     "text": [
      "          A         B         C         D\n",
      "a  1.147041 -0.490869  0.583073  0.157302\n",
      "b  2.402093 -0.169182 -0.058520  2.013655\n",
      "c -1.478781  0.475381  1.720831  0.230368\n",
      "d  0.616398  0.346943  1.439457  0.360982\n",
      "e -0.143899  0.424886 -1.604595  2.153160\n",
      "f  0.252945  0.072648 -1.409469  0.558853\n",
      "g  0.494418 -1.112541  0.923601  0.131683\n",
      "h  0.583473 -0.732978  2.177962 -0.880422\n"
     ]
    }
   ],
   "source": [
    "# 当不需要管列的时候，只有行标签需要特定，那么就可以省略行的中括号[]\n",
    "print(df.loc['a':'h']) "
   ]
  },
  {
   "cell_type": "markdown",
   "metadata": {},
   "source": [
    "## 布尔数组选择数据"
   ]
  },
  {
   "cell_type": "code",
   "execution_count": 27,
   "metadata": {},
   "outputs": [
    {
     "name": "stdout",
     "output_type": "stream",
     "text": [
      "A     True\n",
      "B    False\n",
      "C     True\n",
      "D     True\n",
      "Name: a, dtype: bool\n",
      "          A         B         C\n",
      "a  1.147041 -0.490869  0.583073\n",
      "b  2.402093 -0.169182 -0.058520\n",
      "d  0.616398  0.346943  1.439457\n",
      "f  0.252945  0.072648 -1.409469\n",
      "g  0.494418 -1.112541  0.923601\n",
      "h  0.583473 -0.732978  2.177962\n",
      "          A         B         C\n",
      "d  0.616398  0.346943  1.439457\n",
      "f  0.252945  0.072648 -1.409469\n"
     ]
    }
   ],
   "source": [
    "print(df.loc['a'] > 0)\n",
    "# 布尔数组选择\n",
    "print(df.loc[df.A > 0, ['A', 'B', 'C']])\n",
    "# 布尔数组多条件选择使用 () & () 的方式\n",
    "print(df.loc[(df.A > 0) & (df['B'] > 0), ['A', 'B', 'C']])"
   ]
  },
  {
   "cell_type": "markdown",
   "metadata": {},
   "source": [
    "## .iloc[]\n",
    "\n",
    "Pandas 提供了各种方法，以获得纯数字索引， 像 python 和 numpy 一样， 第一个位置是基于 0 的索引，各种访问方式如下:\n",
    "\n",
    "* 整数\n",
    "* 整数列表\n",
    "* 系列值"
   ]
  },
  {
   "cell_type": "code",
   "execution_count": 28,
   "metadata": {},
   "outputs": [
    {
     "name": "stdout",
     "output_type": "stream",
     "text": [
      "          A         B         C         D\n",
      "0 -1.939895  1.236807 -0.547924 -0.371304\n",
      "1 -2.647820  0.675064  0.312163  0.815570\n",
      "2  1.258317 -2.129883 -0.948328 -0.996933\n",
      "3 -1.181300 -1.001866 -1.021580  1.144481\n"
     ]
    }
   ],
   "source": [
    "df = pd.DataFrame(np.random.randn(8, 4), columns=list('ABCD'))\n",
    "print(df.iloc[: 4])"
   ]
  },
  {
   "cell_type": "code",
   "execution_count": 29,
   "metadata": {},
   "outputs": [
    {
     "name": "stdout",
     "output_type": "stream",
     "text": [
      "          C         D\n",
      "1  0.312163  0.815570\n",
      "2 -0.948328 -0.996933\n",
      "3 -1.021580  1.144481\n",
      "4  0.808363  0.818595\n"
     ]
    }
   ],
   "source": [
    "print(df.iloc[1:5, 2:4])"
   ]
  },
  {
   "cell_type": "code",
   "execution_count": 30,
   "metadata": {},
   "outputs": [
    {
     "name": "stdout",
     "output_type": "stream",
     "text": [
      "          B         D\n",
      "1  0.675064  0.815570\n",
      "3 -1.001866  1.144481\n",
      "5  0.375830  2.226572\n",
      "          A         B         C         D\n",
      "1 -2.647820  0.675064  0.312163  0.815570\n",
      "2  1.258317 -2.129883 -0.948328 -0.996933\n",
      "          B         C\n",
      "0  1.236807 -0.547924\n",
      "1  0.675064  0.312163\n",
      "2 -2.129883 -0.948328\n",
      "3 -1.001866 -1.021580\n",
      "4  0.115891  0.808363\n",
      "5  0.375830  1.163729\n",
      "6 -0.945527 -0.353690\n",
      "7 -0.705620  0.494362\n"
     ]
    }
   ],
   "source": [
    "print(df.iloc[[1, 3, 5], [1, 3]])\n",
    "print(df.iloc[1:3, :])\n",
    "print(df.iloc[:, 1:3])"
   ]
  },
  {
   "cell_type": "markdown",
   "metadata": {},
   "source": [
    "## .ix[]\n",
    "除了基于纯标签和整数之外， Pandas 还提供了一种使用 .ix[] 运算符进行选择和子集化对象的混合方法。"
   ]
  },
  {
   "cell_type": "code",
   "execution_count": 31,
   "metadata": {},
   "outputs": [
    {
     "name": "stdout",
     "output_type": "stream",
     "text": [
      "          A         B         C         D\n",
      "0 -0.545586  1.291499  0.092545  2.271656\n",
      "1  0.600505 -0.485367 -0.412404 -0.066897\n",
      "2 -1.553795 -0.594337 -1.313909 -0.024510\n",
      "3  1.267564  0.312133  0.142518  0.621480\n",
      "4 -1.112668 -0.933478  0.948755  1.209582\n"
     ]
    },
    {
     "name": "stderr",
     "output_type": "stream",
     "text": [
      "/root/.anaconda3/lib/python3.6/site-packages/ipykernel_launcher.py:2: DeprecationWarning: \n",
      ".ix is deprecated. Please use\n",
      ".loc for label based indexing or\n",
      ".iloc for positional indexing\n",
      "\n",
      "See the documentation here:\n",
      "http://pandas.pydata.org/pandas-docs/stable/indexing.html#ix-indexer-is-deprecated\n",
      "  \n"
     ]
    }
   ],
   "source": [
    "df = pd.DataFrame(np.random.randn(8, 4), columns=list('ABCD'))\n",
    "print(df.ix[:4])"
   ]
  },
  {
   "cell_type": "code",
   "execution_count": 32,
   "metadata": {},
   "outputs": [
    {
     "name": "stdout",
     "output_type": "stream",
     "text": [
      "0   -0.545586\n",
      "1    0.600505\n",
      "2   -1.553795\n",
      "3    1.267564\n",
      "4   -1.112668\n",
      "5    1.081415\n",
      "6   -0.285230\n",
      "7   -0.488537\n",
      "Name: A, dtype: float64\n"
     ]
    }
   ],
   "source": [
    "print(df.ix[:, 'A'])"
   ]
  },
  {
   "cell_type": "markdown",
   "metadata": {},
   "source": [
    "## 属性访问\n",
    "可以使用属性运算符 . 来选择列"
   ]
  },
  {
   "cell_type": "code",
   "execution_count": 33,
   "metadata": {},
   "outputs": [
    {
     "name": "stdout",
     "output_type": "stream",
     "text": [
      "0   -0.545586\n",
      "1    0.600505\n",
      "2   -1.553795\n",
      "3    1.267564\n",
      "4   -1.112668\n",
      "5    1.081415\n",
      "6   -0.285230\n",
      "7   -0.488537\n",
      "Name: A, dtype: float64\n"
     ]
    }
   ],
   "source": [
    "print(df.A)"
   ]
  }
 ],
 "metadata": {
  "kernelspec": {
   "display_name": "Python 3",
   "language": "python",
   "name": "python3"
  },
  "language_info": {
   "codemirror_mode": {
    "name": "ipython",
    "version": 3
   },
   "file_extension": ".py",
   "mimetype": "text/x-python",
   "name": "python",
   "nbconvert_exporter": "python",
   "pygments_lexer": "ipython3",
   "version": "3.6.4"
  }
 },
 "nbformat": 4,
 "nbformat_minor": 2
}
