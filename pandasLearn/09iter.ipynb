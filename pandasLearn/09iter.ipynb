{
 "cells": [
  {
   "cell_type": "markdown",
   "metadata": {},
   "source": [
    "Pandas 对象之间的基本迭代的行为取决于类型，当迭代一个系列时，它被视为数组式，基本迭代产生这些值。其他数据结构，如: DataFrame 和 Panel , 遵循类似惯例迭代对象的键。基本迭代产生:\n",
    "\n",
    "* Series   - 值\n",
    "* DataFrame - 列标签\n",
    "* Pannel   - 项目标签"
   ]
  },
  {
   "cell_type": "markdown",
   "metadata": {},
   "source": [
    "## 迭代 DataFrame\n",
    "\n",
    "迭代 DataFrame 提供列名"
   ]
  },
  {
   "cell_type": "code",
   "execution_count": 2,
   "metadata": {},
   "outputs": [
    {
     "name": "stdout",
     "output_type": "stream",
     "text": [
      "A\n",
      "C\n",
      "D\n",
      "x\n",
      "y\n"
     ]
    }
   ],
   "source": [
    "import pandas as pd\n",
    "import numpy as np\n",
    "\n",
    "N = 20\n",
    "df = pd.DataFrame({\n",
    "    'A': pd.date_range(start='2016-01-01',periods=N,freq='D'),\n",
    "    'x': np.linspace(0,stop=N-1,num=N),\n",
    "    'y': np.random.rand(N),\n",
    "    'C': np.random.choice(['Low','Medium','High'],N).tolist(),\n",
    "    'D': np.random.normal(100, 10, size=(N)).tolist()\n",
    "    })\n",
    "for col in df:\n",
    "    print(col)"
   ]
  },
  {
   "cell_type": "markdown",
   "metadata": {},
   "source": [
    "要遍历数据帧(DataFrame)中的行，可以使用一下函数:\n",
    "\n",
    "* iteritems()  - 迭代 (key, value) 对\n",
    "* iterrows()  - 将行迭代为 (索引， 系列) 对\n",
    "* itertuples() - 以 namedtuples 的形式迭代行"
   ]
  },
  {
   "cell_type": "markdown",
   "metadata": {},
   "source": [
    "### iteritems()\n",
    "\n",
    "将每列作为键，将值与值作为键和列值迭代为Series对象"
   ]
  },
  {
   "cell_type": "code",
   "execution_count": 9,
   "metadata": {},
   "outputs": [
    {
     "name": "stdout",
     "output_type": "stream",
     "text": [
      "       col1      col2      col3\n",
      "0  0.186165  0.435317 -1.605154\n",
      "1 -1.110074  0.744153 -0.837784\n",
      "2 -1.343479  0.061821  0.575881\n",
      "3  0.431241 -0.393848 -1.649003\n",
      "<class 'str'> : <class 'pandas.core.series.Series'>\n",
      "col1 : \n",
      " 0    0.186165\n",
      "1   -1.110074\n",
      "2   -1.343479\n",
      "3    0.431241\n",
      "Name: col1, dtype: float64 \n",
      "\n",
      "<class 'str'> : <class 'pandas.core.series.Series'>\n",
      "col2 : \n",
      " 0    0.435317\n",
      "1    0.744153\n",
      "2    0.061821\n",
      "3   -0.393848\n",
      "Name: col2, dtype: float64 \n",
      "\n",
      "<class 'str'> : <class 'pandas.core.series.Series'>\n",
      "col3 : \n",
      " 0   -1.605154\n",
      "1   -0.837784\n",
      "2    0.575881\n",
      "3   -1.649003\n",
      "Name: col3, dtype: float64 \n",
      "\n"
     ]
    }
   ],
   "source": [
    "df = pd.DataFrame(np.random.randn(4,3),columns=['col1','col2','col3'])\n",
    "print(df)\n",
    "for key,value in df.iteritems():\n",
    "    print(type(key), ':', type(value))\n",
    "    print(key, ':', '\\n',value, '\\n')"
   ]
  },
  {
   "cell_type": "code",
   "execution_count": 17,
   "metadata": {},
   "outputs": [
    {
     "name": "stdout",
     "output_type": "stream",
     "text": [
      "0 :\n",
      " col1   -1.821216\n",
      "col2    0.585163\n",
      "col3   -0.085991\n",
      "Name: 0, dtype: float64 \n",
      "\n",
      "<class 'int'> :  <class 'pandas.core.series.Series'>\n",
      "1 :\n",
      " col1   -1.419534\n",
      "col2    0.521108\n",
      "col3   -0.581518\n",
      "Name: 1, dtype: float64 \n",
      "\n",
      "<class 'int'> :  <class 'pandas.core.series.Series'>\n",
      "2 :\n",
      " col1    0.153557\n",
      "col2   -0.142193\n",
      "col3    0.389563\n",
      "Name: 2, dtype: float64 \n",
      "\n",
      "<class 'int'> :  <class 'pandas.core.series.Series'>\n",
      "3 :\n",
      " col1    1.453844\n",
      "col2    0.284592\n",
      "col3    0.109390\n",
      "Name: 3, dtype: float64 \n",
      "\n",
      "<class 'int'> :  <class 'pandas.core.series.Series'>\n"
     ]
    }
   ],
   "source": [
    "### iterrows() 返回迭代，产生每个索引值以及包含行数的序列\n",
    "df = pd.DataFrame(np.random.randn(4,3),columns = ['col1','col2','col3'])\n",
    "for row_index, row in df.iterrows():\n",
    "    print(row_index, ':\\n', row, '\\n')\n",
    "    print(type(row_index), ': ', type(row))"
   ]
  },
  {
   "cell_type": "markdown",
   "metadata": {},
   "source": [
    "### itertuples()\n",
    "\n",
    "itertuples() 方法将为 DataFrame 中的每一行返回一个命名元组的迭代器，元组的第一个元素将是行的相应索引值，而剩余的值是行值。"
   ]
  },
  {
   "cell_type": "code",
   "execution_count": 19,
   "metadata": {},
   "outputs": [
    {
     "name": "stdout",
     "output_type": "stream",
     "text": [
      "       col1      col2      col3\n",
      "0 -0.335521 -1.572448  0.127641\n",
      "1  0.702364 -0.376456 -0.681448\n",
      "2 -1.158064  2.029539  1.066638\n",
      "3  1.907692 -0.614128  0.167496\n",
      "Pandas(Index=0, col1=-0.33552114263482036, col2=-1.572447909345336, col3=0.12764095852777024)\n",
      "Pandas(Index=1, col1=0.7023636398160382, col2=-0.3764555893424671, col3=-0.6814477275382598)\n",
      "Pandas(Index=2, col1=-1.1580641041507358, col2=2.0295391719486995, col3=1.0666380966441775)\n",
      "Pandas(Index=3, col1=1.9076915590335184, col2=-0.6141283131759597, col3=0.16749640743847083)\n"
     ]
    }
   ],
   "source": [
    "df = pd.DataFrame(np.random.randn(4,3),columns = ['col1','col2','col3'])\n",
    "print(df)\n",
    "for row in df.itertuples():\n",
    "    print (row)"
   ]
  },
  {
   "cell_type": "code",
   "execution_count": null,
   "metadata": {},
   "outputs": [],
   "source": []
  }
 ],
 "metadata": {
  "kernelspec": {
   "display_name": "Python 3",
   "language": "python",
   "name": "python3"
  },
  "language_info": {
   "codemirror_mode": {
    "name": "ipython",
    "version": 3
   },
   "file_extension": ".py",
   "mimetype": "text/x-python",
   "name": "python",
   "nbconvert_exporter": "python",
   "pygments_lexer": "ipython3",
   "version": "3.6.4"
  }
 },
 "nbformat": 4,
 "nbformat_minor": 2
}
