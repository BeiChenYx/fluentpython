{
 "cells": [
  {
   "cell_type": "markdown",
   "metadata": {},
   "source": [
    "# Pandas 基本功能"
   ]
  },
  {
   "cell_type": "markdown",
   "metadata": {},
   "source": [
    "主要关注数据帧DataFrame对象"
   ]
  },
  {
   "cell_type": "markdown",
   "metadata": {},
   "source": [
    "## 系列Series 基本功能\n",
    "\n",
    "| 标号| 属性或方法 | 描述 |\n",
    "|:---:|:---:|:---:|\n",
    "| 1 | axes | 返回行轴标签列表 |\n",
    "| 2 | dtype | 返回对象的数据类型(dtype)|\n",
    "| 3 | empty | 如果系列为空，则返回 True|\n",
    "| 4 | ndim | 返回底层数据的维数，默认 1|\n",
    "| 5 | size | 返回基础数据中的元素数 |\n",
    "| 6 | values | 将系列作为 ndarrary 返回 |\n",
    "| 7 | head() | 返回前 n 行 |\n",
    "| 8 | tail() | 返回最后 n 行 |"
   ]
  },
  {
   "cell_type": "code",
   "execution_count": 2,
   "metadata": {},
   "outputs": [
    {
     "name": "stdout",
     "output_type": "stream",
     "text": [
      "0    0.296245\n",
      "1    1.752301\n",
      "2    1.231723\n",
      "3    1.269165\n",
      "dtype: float64\n"
     ]
    }
   ],
   "source": [
    "import pandas as pd\n",
    "import numpy as np\n",
    "s = pd.Series(np.random.randn(4))\n",
    "print(s)"
   ]
  },
  {
   "cell_type": "code",
   "execution_count": 4,
   "metadata": {},
   "outputs": [
    {
     "name": "stdout",
     "output_type": "stream",
     "text": [
      "[RangeIndex(start=0, stop=4, step=1)]\n"
     ]
    }
   ],
   "source": [
    "# 返回系列的标签列表\n",
    "print(s.axes)"
   ]
  },
  {
   "cell_type": "code",
   "execution_count": 6,
   "metadata": {},
   "outputs": [
    {
     "name": "stdout",
     "output_type": "stream",
     "text": [
      "False\n"
     ]
    }
   ],
   "source": [
    "# empty 返回布尔值，如果为空，返回True\n",
    "print(s.empty)"
   ]
  },
  {
   "cell_type": "code",
   "execution_count": 7,
   "metadata": {},
   "outputs": [
    {
     "name": "stdout",
     "output_type": "stream",
     "text": [
      "1\n"
     ]
    }
   ],
   "source": [
    "# ndim 返回对象的维数\n",
    "print(s.ndim)"
   ]
  },
  {
   "cell_type": "code",
   "execution_count": 8,
   "metadata": {},
   "outputs": [
    {
     "name": "stdout",
     "output_type": "stream",
     "text": [
      "4\n"
     ]
    }
   ],
   "source": [
    "# zize 返回系列的大小(长度)\n",
    "print(s.size)"
   ]
  },
  {
   "cell_type": "code",
   "execution_count": 9,
   "metadata": {},
   "outputs": [
    {
     "name": "stdout",
     "output_type": "stream",
     "text": [
      "[0.29624493 1.75230082 1.23172263 1.2691653 ]\n"
     ]
    }
   ],
   "source": [
    "# values 以数组形式返回系列中的实际数据值\n",
    "print(s.values)"
   ]
  },
  {
   "cell_type": "markdown",
   "metadata": {},
   "source": [
    "## DataFrame 基本功能\n",
    "\n",
    "| 编号 | 属性或方法 | 描述 |\n",
    "| :--: | :--: | :--: |\n",
    "| 1 | T | 转置行和列 |\n",
    "| 2 | axes | 返回一个列，行轴标签和列轴标签作为唯一的成员 |\n",
    "| 3 | dtypes | 返回此对象中的数据类型 dtypes |\n",
    "| 4 | empty | 如果对象完全为空，返回True |\n",
    "| 5 | ndim | 轴/数组维度大小 |\n",
    "| 6 | shape | 返回表示 DataFram 的维度的数组 | \n",
    "| 7 | size | 返回对象中的元素数 |\n",
    "| 8 | values | 返回DataFram 的numpy表示 |\n",
    "| 9 | head() | 返回前 n 行 |\n",
    "| 10| tail() | 返回后 n行 |"
   ]
  },
  {
   "cell_type": "code",
   "execution_count": 11,
   "metadata": {},
   "outputs": [
    {
     "name": "stdout",
     "output_type": "stream",
     "text": [
      "   Age   Name  Ratng\n",
      "0   25    Tom   4.23\n",
      "1   26  James   3.24\n",
      "2   25  Ricky   3.98\n",
      "3   23    Vin   2.46\n",
      "4   30  Steve   3.20\n",
      "5   29  Minsu   4.60\n",
      "6   23   Jack   3.60\n"
     ]
    }
   ],
   "source": [
    "d = {'Name': pd.Series(['Tom', 'James', 'Ricky', 'Vin', 'Steve', 'Minsu', 'Jack']),\n",
    "     'Age': pd.Series([25, 26, 25, 23, 30, 29, 23]),\n",
    "     'Ratng': pd.Series([4.23, 3.24, 3.98, 2.46, 3.20, 4.6, 3.6])\n",
    "    }\n",
    "df = pd.DataFrame(d)\n",
    "print(df)"
   ]
  },
  {
   "cell_type": "code",
   "execution_count": 12,
   "metadata": {},
   "outputs": [
    {
     "name": "stdout",
     "output_type": "stream",
     "text": [
      "          0      1      2     3      4      5     6\n",
      "Age      25     26     25    23     30     29    23\n",
      "Name    Tom  James  Ricky   Vin  Steve  Minsu  Jack\n",
      "Ratng  4.23   3.24   3.98  2.46    3.2    4.6   3.6\n"
     ]
    }
   ],
   "source": [
    "# T 转置\n",
    "print(df.T)"
   ]
  },
  {
   "cell_type": "code",
   "execution_count": 13,
   "metadata": {},
   "outputs": [
    {
     "name": "stdout",
     "output_type": "stream",
     "text": [
      "[RangeIndex(start=0, stop=7, step=1), Index(['Age', 'Name', 'Ratng'], dtype='object')]\n"
     ]
    }
   ],
   "source": [
    "# axes 返回行轴标签和列轴标签列表\n",
    "print(df.axes)"
   ]
  },
  {
   "cell_type": "code",
   "execution_count": 14,
   "metadata": {},
   "outputs": [
    {
     "name": "stdout",
     "output_type": "stream",
     "text": [
      "Age        int64\n",
      "Name      object\n",
      "Ratng    float64\n",
      "dtype: object\n"
     ]
    }
   ],
   "source": [
    "# dtype\n",
    "print(df.dtypes)"
   ]
  },
  {
   "cell_type": "code",
   "execution_count": 15,
   "metadata": {},
   "outputs": [
    {
     "name": "stdout",
     "output_type": "stream",
     "text": [
      "False\n"
     ]
    }
   ],
   "source": [
    "# empty\n",
    "print(df.empty)"
   ]
  },
  {
   "cell_type": "code",
   "execution_count": 16,
   "metadata": {},
   "outputs": [
    {
     "name": "stdout",
     "output_type": "stream",
     "text": [
      "2\n"
     ]
    }
   ],
   "source": [
    "# ndim DataFrame 是一个2D对象\n",
    "print(df.ndim)"
   ]
  },
  {
   "cell_type": "code",
   "execution_count": 17,
   "metadata": {},
   "outputs": [
    {
     "name": "stdout",
     "output_type": "stream",
     "text": [
      "(7, 3)\n"
     ]
    }
   ],
   "source": [
    "# shape 返回表示 DataFrame 的维度的元组，元组(a, b), a表示行数，b表示列数\n",
    "print(df.shape)"
   ]
  },
  {
   "cell_type": "code",
   "execution_count": 18,
   "metadata": {},
   "outputs": [
    {
     "name": "stdout",
     "output_type": "stream",
     "text": [
      "21\n"
     ]
    }
   ],
   "source": [
    "# size 返回 DataFrame 中的元素数\n",
    "print(df.size)"
   ]
  },
  {
   "cell_type": "code",
   "execution_count": 21,
   "metadata": {},
   "outputs": [
    {
     "name": "stdout",
     "output_type": "stream",
     "text": [
      "[[25 'Tom' 4.23]\n",
      " [26 'James' 3.24]\n",
      " [25 'Ricky' 3.98]\n",
      " [23 'Vin' 2.46]\n",
      " [30 'Steve' 3.2]\n",
      " [29 'Minsu' 4.6]\n",
      " [23 'Jack' 3.6]]\n"
     ]
    }
   ],
   "source": [
    "# values 将 DataFrame 中的实际数据作为 ndarray 返回\n",
    "print(df.values)"
   ]
  },
  {
   "cell_type": "code",
   "execution_count": 22,
   "metadata": {},
   "outputs": [
    {
     "name": "stdout",
     "output_type": "stream",
     "text": [
      "   Age   Name  Ratng\n",
      "0   25    Tom   4.23\n",
      "1   26  James   3.24\n",
      "2   25  Ricky   3.98\n",
      "3   23    Vin   2.46\n",
      "4   30  Steve   3.20\n",
      "   Age   Name  Ratng\n",
      "2   25  Ricky   3.98\n",
      "3   23    Vin   2.46\n",
      "4   30  Steve   3.20\n",
      "5   29  Minsu   4.60\n",
      "6   23   Jack   3.60\n"
     ]
    }
   ],
   "source": [
    "# head() 和 tail() \n",
    "print(df.head())\n",
    "print(df.tail())"
   ]
  },
  {
   "cell_type": "code",
   "execution_count": null,
   "metadata": {},
   "outputs": [],
   "source": []
  }
 ],
 "metadata": {
  "kernelspec": {
   "display_name": "Python 3",
   "language": "python",
   "name": "python3"
  },
  "language_info": {
   "codemirror_mode": {
    "name": "ipython",
    "version": 3
   },
   "file_extension": ".py",
   "mimetype": "text/x-python",
   "name": "python",
   "nbconvert_exporter": "python",
   "pygments_lexer": "ipython3",
   "version": "3.6.4"
  }
 },
 "nbformat": 4,
 "nbformat_minor": 2
}
