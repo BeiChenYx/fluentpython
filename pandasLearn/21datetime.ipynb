{
 "cells": [
  {
   "cell_type": "markdown",
   "metadata": {},
   "source": [
    "# Pandas 时间/日期功能"
   ]
  },
  {
   "cell_type": "markdown",
   "metadata": {},
   "source": [
    "Pandas 为时间序列数据的工作时间提供了一个强大的工具，尤其是在金融领域，在处理时间序列数据时，经常遇到如下情况:\n",
    "\n",
    "* 生成时间序列\n",
    "* 将时间序列转换为不同的频率\n",
    "\n",
    "Pandas 提供了一个相对紧凑和自包含的工具执行上面任务。"
   ]
  },
  {
   "cell_type": "markdown",
   "metadata": {},
   "source": [
    "## 获取当前时间\n",
    "\n",
    "datetime.now() 用于获取当前的日期和时间"
   ]
  },
  {
   "cell_type": "code",
   "execution_count": 3,
   "metadata": {},
   "outputs": [
    {
     "name": "stdout",
     "output_type": "stream",
     "text": [
      "2019-03-11 22:35:52.483244\n"
     ]
    }
   ],
   "source": [
    "import pandas as pd\n",
    "\n",
    "print(pd.datetime.now())"
   ]
  },
  {
   "cell_type": "markdown",
   "metadata": {},
   "source": [
    "## 创建一个时间戳\n",
    "\n",
    "时间戳数据是时间序列数据的最基本类型，它将数值和时间点相关联\n"
   ]
  },
  {
   "cell_type": "code",
   "execution_count": 5,
   "metadata": {},
   "outputs": [
    {
     "name": "stdout",
     "output_type": "stream",
     "text": [
      "2019-03-11 00:00:00\n"
     ]
    }
   ],
   "source": [
    "time = pd.Timestamp('2019-03-11')\n",
    "print(time)"
   ]
  },
  {
   "cell_type": "code",
   "execution_count": 6,
   "metadata": {},
   "outputs": [
    {
     "name": "stdout",
     "output_type": "stream",
     "text": [
      "2020-05-05 13:54:40\n"
     ]
    }
   ],
   "source": [
    "# 也可以将整数或浮点数转成时间\n",
    "print(pd.Timestamp(1588686880, unit='s'))"
   ]
  },
  {
   "cell_type": "markdown",
   "metadata": {},
   "source": [
    "## 创建一个时间范围"
   ]
  },
  {
   "cell_type": "code",
   "execution_count": 8,
   "metadata": {},
   "outputs": [
    {
     "name": "stdout",
     "output_type": "stream",
     "text": [
      "[datetime.time(12, 0) datetime.time(12, 30) datetime.time(13, 0)\n",
      " datetime.time(13, 30) datetime.time(14, 0) datetime.time(14, 30)\n",
      " datetime.time(15, 0) datetime.time(15, 30) datetime.time(16, 0)\n",
      " datetime.time(16, 30) datetime.time(17, 0) datetime.time(17, 30)\n",
      " datetime.time(18, 0) datetime.time(18, 30) datetime.time(19, 0)\n",
      " datetime.time(19, 30) datetime.time(20, 0) datetime.time(20, 30)\n",
      " datetime.time(21, 0) datetime.time(21, 30) datetime.time(22, 0)\n",
      " datetime.time(22, 30) datetime.time(23, 0) datetime.time(23, 30)]\n"
     ]
    }
   ],
   "source": [
    "time = pd.date_range('12:00', '23:59', freq='30min').time\n",
    "print(time)"
   ]
  },
  {
   "cell_type": "code",
   "execution_count": 9,
   "metadata": {},
   "outputs": [
    {
     "name": "stdout",
     "output_type": "stream",
     "text": [
      "[datetime.time(12, 0) datetime.time(13, 0) datetime.time(14, 0)\n",
      " datetime.time(15, 0) datetime.time(16, 0) datetime.time(17, 0)\n",
      " datetime.time(18, 0) datetime.time(19, 0) datetime.time(20, 0)\n",
      " datetime.time(21, 0) datetime.time(22, 0) datetime.time(23, 0)]\n"
     ]
    }
   ],
   "source": [
    "# 改变时间的频率\n",
    "print(pd.date_range('12:00', '23:59', freq='H').time)"
   ]
  },
  {
   "cell_type": "markdown",
   "metadata": {},
   "source": [
    "## 转换为时间戳\n",
    "\n",
    "要转换类似日期的对象的序列或类似列表的对象，可以使用 to_datetime 函数"
   ]
  },
  {
   "cell_type": "code",
   "execution_count": 10,
   "metadata": {},
   "outputs": [
    {
     "name": "stdout",
     "output_type": "stream",
     "text": [
      "0   2009-07-31\n",
      "1   2019-10-10\n",
      "2          NaT\n",
      "dtype: datetime64[ns]\n"
     ]
    }
   ],
   "source": [
    "print(pd.to_datetime(pd.Series(['Jul 31, 2009', '2019-10-10', None])))"
   ]
  },
  {
   "cell_type": "code",
   "execution_count": null,
   "metadata": {},
   "outputs": [],
   "source": []
  }
 ],
 "metadata": {
  "kernelspec": {
   "display_name": "Python 3",
   "language": "python",
   "name": "python3"
  },
  "language_info": {
   "codemirror_mode": {
    "name": "ipython",
    "version": 3
   },
   "file_extension": ".py",
   "mimetype": "text/x-python",
   "name": "python",
   "nbconvert_exporter": "python",
   "pygments_lexer": "ipython3",
   "version": "3.7.0"
  }
 },
 "nbformat": 4,
 "nbformat_minor": 2
}
